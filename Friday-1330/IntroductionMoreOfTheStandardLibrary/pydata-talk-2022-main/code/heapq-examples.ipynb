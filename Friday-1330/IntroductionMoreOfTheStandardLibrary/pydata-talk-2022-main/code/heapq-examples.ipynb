{
 "cells": [
  {
   "cell_type": "markdown",
   "id": "eb4adc0d",
   "metadata": {},
   "source": [
    "# heapq"
   ]
  },
  {
   "cell_type": "markdown",
   "id": "292b5409",
   "metadata": {},
   "source": [
    "This module provides an implementation of the heap queue algorithm, also known as the priority queue algorithm.\n",
    "\n",
    "Heaps are binary trees for which every parent node has a value less than or equal to any of its children. This implementation uses arrays for which heap[k] <= heap[2*k+1] and heap[k] <= heap[2*k+2] for all k, counting elements from zero. For the sake of comparison, non-existing elements are considered to be infinite. The interesting property of a heap is that its smallest element is always the root, heap[0]."
   ]
  },
  {
   "cell_type": "code",
   "execution_count": 25,
   "id": "7ba8cdfc",
   "metadata": {},
   "outputs": [],
   "source": [
    "import heapq\n",
    "\n",
    "from heapq_tools import draw_heap"
   ]
  },
  {
   "cell_type": "code",
   "execution_count": 26,
   "id": "60b19cc2",
   "metadata": {},
   "outputs": [],
   "source": [
    "to_dos = [\n",
    "    (3, 'Clean car'),\n",
    "    (1, 'Clean house'),\n",
    "    (2, 'Write code'),\n",
    "    (4, 'Post a letter')]"
   ]
  },
  {
   "cell_type": "code",
   "execution_count": 27,
   "id": "7ad44527",
   "metadata": {},
   "outputs": [],
   "source": [
    "# This turns the to_dos into a heap!\n",
    "heapq.heapify(to_dos)"
   ]
  },
  {
   "cell_type": "code",
   "execution_count": 28,
   "id": "d63aa041",
   "metadata": {},
   "outputs": [
    {
     "data": {
      "text/plain": [
       "[(1, 'Clean house'), (3, 'Clean car'), (2, 'Write code'), (4, 'Post a letter')]"
      ]
     },
     "execution_count": 28,
     "metadata": {},
     "output_type": "execute_result"
    }
   ],
   "source": [
    "to_dos"
   ]
  },
  {
   "cell_type": "code",
   "execution_count": 29,
   "id": "0574a706",
   "metadata": {},
   "outputs": [
    {
     "name": "stdout",
     "output_type": "stream",
     "text": [
      "\u001b[38;2;175;78;255m[(1, 'Clean house'), (3, 'Clean car'), (2, 'Write code'), (4, 'Post a letter')]\n",
      "\u001b[0m\n",
      "\u001b[38;2;175;78;255m               (1, 'Clean house')               \n",
      "\u001b[38;2;175;78;255m           ┏━━━━━━━━━━━┻━━━━━━━━━━━┓            \n",
      "\u001b[38;2;255;55;164m    (3, 'Clean car')       (2, 'Write code')    \n",
      "\u001b[38;2;255;55;164m     ┏━━━━━┛                                    \n",
      "\u001b[38;2;255;32;69m(4, 'Post a letter')\n",
      "\u001b[38;2;255;32;69m            \n"
     ]
    }
   ],
   "source": [
    "draw_heap(to_dos, pad=6)"
   ]
  },
  {
   "cell_type": "code",
   "execution_count": 30,
   "id": "050c1647",
   "metadata": {},
   "outputs": [
    {
     "data": {
      "text/plain": [
       "(1, 'Clean house')"
      ]
     },
     "execution_count": 30,
     "metadata": {},
     "output_type": "execute_result"
    }
   ],
   "source": [
    "# get the highest priority\n",
    "heapq.heappop(to_dos)"
   ]
  },
  {
   "cell_type": "code",
   "execution_count": 31,
   "id": "1681149a",
   "metadata": {},
   "outputs": [
    {
     "data": {
      "text/plain": [
       "[(2, 'Write code'), (3, 'Clean car'), (4, 'Post a letter')]"
      ]
     },
     "execution_count": 31,
     "metadata": {},
     "output_type": "execute_result"
    }
   ],
   "source": [
    "to_dos"
   ]
  },
  {
   "cell_type": "code",
   "execution_count": 32,
   "id": "406d4be0",
   "metadata": {},
   "outputs": [],
   "source": [
    "# add to the heap.\n",
    "heapq.heappush(to_dos, (0, 'Put out a fire'))\n",
    "heapq.heappush(to_dos, (4, 'Buy a present'))"
   ]
  },
  {
   "cell_type": "code",
   "execution_count": 33,
   "id": "1f5e5c34",
   "metadata": {},
   "outputs": [
    {
     "data": {
      "text/plain": [
       "[(0, 'Put out a fire'),\n",
       " (2, 'Write code'),\n",
       " (4, 'Post a letter'),\n",
       " (3, 'Clean car'),\n",
       " (4, 'Buy a present')]"
      ]
     },
     "execution_count": 33,
     "metadata": {},
     "output_type": "execute_result"
    }
   ],
   "source": [
    "to_dos"
   ]
  },
  {
   "cell_type": "code",
   "execution_count": 34,
   "id": "39507113",
   "metadata": {},
   "outputs": [
    {
     "data": {
      "text/plain": [
       "[(0, 'Put out a fire'), (2, 'Write code'), (3, 'Clean car')]"
      ]
     },
     "execution_count": 34,
     "metadata": {},
     "output_type": "execute_result"
    }
   ],
   "source": [
    "heapq.nsmallest(3, to_dos)"
   ]
  },
  {
   "cell_type": "code",
   "execution_count": 35,
   "id": "ac586ca0",
   "metadata": {},
   "outputs": [
    {
     "data": {
      "text/plain": [
       "[(0, 'Put out a fire'),\n",
       " (2, 'Write code'),\n",
       " (4, 'Post a letter'),\n",
       " (3, 'Clean car'),\n",
       " (4, 'Buy a present')]"
      ]
     },
     "execution_count": 35,
     "metadata": {},
     "output_type": "execute_result"
    }
   ],
   "source": [
    "to_dos"
   ]
  },
  {
   "cell_type": "markdown",
   "id": "8988489b",
   "metadata": {},
   "source": [
    "### Advanced topic - heapq algorithm walkthrough"
   ]
  },
  {
   "cell_type": "code",
   "execution_count": 20,
   "id": "ed2b911c",
   "metadata": {},
   "outputs": [],
   "source": [
    "heap = [5, 4, 3, 2, 1]"
   ]
  },
  {
   "cell_type": "code",
   "execution_count": 21,
   "id": "bdb99818",
   "metadata": {
    "scrolled": true
   },
   "outputs": [],
   "source": [
    "# heap = [(3, \"write code\"), (1, \"go to work\"), (0, 'Wake up'), (10, 'go home'), (11, 'go to sleep')]\n",
    "# pad = 10\n",
    "heap = list(range(15))\n",
    "pad=2"
   ]
  },
  {
   "cell_type": "code",
   "execution_count": 22,
   "id": "09bbf2c4",
   "metadata": {},
   "outputs": [
    {
     "name": "stdout",
     "output_type": "stream",
     "text": [
      "\u001b[38;2;175;78;255m[0, 1, 2, 3, 4, 5, 6, 7, 8, 9, 10, 11, 12, 13, 14]\u001b[0m\n",
      "\u001b[38;2;175;78;255m               0                \n",
      "\u001b[38;2;175;78;255m       ┏━━━━━━━┻━━━━━━━┓        \n",
      "\u001b[38;2;235;61;187m       1               2        \n",
      "\u001b[38;2;235;61;187m   ┏━━━┻━━━┓       ┏━━━┻━━━┓    \n",
      "\u001b[38;2;255;43;116m   3       4       5       6    \n",
      "\u001b[38;2;255;43;116m ┏━┻━┓   ┏━┻━┓   ┏━┻━┓   ┏━┻━┓  \n",
      "\u001b[38;2;255;26;46m 7   8   9   10  11  12  13  14 \n",
      "\u001b[38;2;255;26;46m                                \n"
     ]
    }
   ],
   "source": [
    "draw_heap(heap, draw_connectors=True, pad=2, use_color=True)"
   ]
  },
  {
   "cell_type": "markdown",
   "id": "75e63184",
   "metadata": {},
   "source": [
    "#### sift down"
   ]
  },
  {
   "cell_type": "code",
   "execution_count": 36,
   "id": "e0d0dff7",
   "metadata": {},
   "outputs": [
    {
     "name": "stdout",
     "output_type": "stream",
     "text": [
      "\u001b[38;2;175;78;255m[2, 3, 4, 5, 6, 1]\n",
      "\u001b[0m\n",
      "\u001b[38;2;175;78;255m       2        \n",
      "\u001b[38;2;175;78;255m   ┏━━━┻━━━┓    \n",
      "\u001b[38;2;255;55;164m   3       4    \n",
      "\u001b[38;2;255;55;164m ┏━┻━┓   ┏━┛    \n",
      "\u001b[38;2;255;32;69m 5   6   1  \n",
      "\u001b[38;2;255;32;69m            \n"
     ]
    }
   ],
   "source": [
    "heap = [2, 3, 4, 5, 6, 1]\n",
    "\n",
    "draw_heap(heap)"
   ]
  },
  {
   "cell_type": "code",
   "execution_count": 8,
   "id": "6f256b8a",
   "metadata": {},
   "outputs": [],
   "source": [
    "# 'heap' is a heap at all indices >= startpos, except possibly for pos.  pos\n",
    "# is the index of a leaf with a possibly out-of-order value.  Restore the\n",
    "# heap invariant.\n",
    "def _siftdown(heap, startpos, pos):\n",
    "    newitem = heap[pos]\n",
    "    # Follow the path to the root, moving parents down until finding a place\n",
    "    # newitem fits.\n",
    "    print(f'floating up {newitem=} from {pos=}\\n')\n",
    "    draw_heap(heap, draw_connectors=True, pad=2, use_color=True)\n",
    "    while pos > startpos:\n",
    "        parentpos = (pos - 1) >> 1\n",
    "        parent = heap[parentpos]\n",
    "        if newitem < parent:\n",
    "            heap[parentpos] = heap[pos] # Added this line for clarity.\n",
    "            heap[pos] = parent\n",
    "            pos = parentpos\n",
    "            print(f\"float up the {newitem} and replace the {parent}\")\n",
    "            draw_heap(heap, draw_connectors=True, pad=2, use_color=True)\n",
    "            continue\n",
    "        break"
   ]
  },
  {
   "cell_type": "code",
   "execution_count": 9,
   "id": "58f12405",
   "metadata": {},
   "outputs": [
    {
     "name": "stdout",
     "output_type": "stream",
     "text": [
      "floating up newitem=1 from pos=5\n",
      "\n",
      "\u001b[38;2;175;78;255m[2, 3, 4, 5, 6, 1]\u001b[0m\n",
      "\u001b[38;2;175;78;255m       2        \n",
      "\u001b[38;2;175;78;255m   ┏━━━┻━━━┓    \n",
      "\u001b[38;2;255;55;164m   3       4    \n",
      "\u001b[38;2;255;55;164m ┏━┻━┓   ┏━┛    \n",
      "\u001b[38;2;255;32;69m 5   6   1  \n",
      "\u001b[38;2;255;32;69m            \n",
      "float up the 1 and replace the 4\n",
      "\u001b[38;2;175;78;255m[2, 3, 1, 5, 6, 4]\u001b[0m\n",
      "\u001b[38;2;175;78;255m       2        \n",
      "\u001b[38;2;175;78;255m   ┏━━━┻━━━┓    \n",
      "\u001b[38;2;255;55;164m   3       1    \n",
      "\u001b[38;2;255;55;164m ┏━┻━┓   ┏━┛    \n",
      "\u001b[38;2;255;32;69m 5   6   4  \n",
      "\u001b[38;2;255;32;69m            \n",
      "float up the 1 and replace the 2\n",
      "\u001b[38;2;175;78;255m[1, 3, 2, 5, 6, 4]\u001b[0m\n",
      "\u001b[38;2;175;78;255m       1        \n",
      "\u001b[38;2;175;78;255m   ┏━━━┻━━━┓    \n",
      "\u001b[38;2;255;55;164m   3       2    \n",
      "\u001b[38;2;255;55;164m ┏━┻━┓   ┏━┛    \n",
      "\u001b[38;2;255;32;69m 5   6   4  \n",
      "\u001b[38;2;255;32;69m            \n"
     ]
    }
   ],
   "source": [
    "# In this example you can see the \n",
    "heap = [2, 3, 4, 5, 6, 1]\n",
    "_siftdown(heap, 0, len(heap)-1)"
   ]
  },
  {
   "cell_type": "markdown",
   "id": "0ac74fd8",
   "metadata": {},
   "source": [
    "#### sift up"
   ]
  },
  {
   "cell_type": "code",
   "execution_count": 10,
   "id": "60be346c",
   "metadata": {},
   "outputs": [],
   "source": [
    "def _siftup(heap, pos):\n",
    "    print(\"initial heap\")\n",
    "    draw_heap(heap)\n",
    "    endpos = len(heap)\n",
    "    startpos = pos\n",
    "    newitem = heap[pos]\n",
    "    print(f\"Sifting up (actually down) from {pos=} item={newitem}\")\n",
    "    # Bubble up the smaller child until hitting a leaf.\n",
    "    childpos = 2*pos + 1    # leftmost child position\n",
    "    while childpos < endpos:\n",
    "        # Set childpos to index of smaller child.\n",
    "        rightpos = childpos + 1\n",
    "        if rightpos < endpos and not heap[childpos] < heap[rightpos]:\n",
    "            print(f'Lifting right child {heap[rightpos]} swapping with {heap[pos]}')\n",
    "            childpos = rightpos\n",
    "        else:\n",
    "            print(f'Lifting left child {heap[childpos]} swapping with {heap[pos]}')\n",
    "        # Move the smaller child up.\n",
    "        # Also moving the value down to make clearer.\n",
    "        childvalue = heap[childpos]\n",
    "        heap[childpos] = heap[pos]\n",
    "        heap[pos] = childvalue\n",
    "        draw_heap(heap)\n",
    "        pos = childpos\n",
    "        childpos = 2*pos + 1\n",
    "    # The leaf at pos is empty now.  Put newitem there, and bubble it up\n",
    "    # to its final resting place (by sifting its parents down).\n",
    "\n",
    "    heap[pos] = newitem\n",
    "\n",
    "    print('Finished sifting up (actually down), now going up')\n",
    "    _siftdown(heap, startpos, pos)\n"
   ]
  },
  {
   "cell_type": "code",
   "execution_count": 14,
   "id": "88815619",
   "metadata": {},
   "outputs": [
    {
     "name": "stdout",
     "output_type": "stream",
     "text": [
      "initial heap\n",
      "\u001b[38;2;175;78;255m[2, 3, 4, 5, 6, 1]\u001b[0m\n",
      "\u001b[38;2;175;78;255m       2        \n",
      "\u001b[38;2;175;78;255m   ┏━━━┻━━━┓    \n",
      "\u001b[38;2;255;55;164m   3       4    \n",
      "\u001b[38;2;255;55;164m ┏━┻━┓   ┏━┛    \n",
      "\u001b[38;2;255;32;69m 5   6   1  \n",
      "\u001b[38;2;255;32;69m            \n",
      "Sifting up (actually down) from pos=0 item=2\n",
      "Lifting left child 3 swapping with 2\n",
      "\u001b[38;2;175;78;255m[3, 2, 4, 5, 6, 1]\u001b[0m\n",
      "\u001b[38;2;175;78;255m       3        \n",
      "\u001b[38;2;175;78;255m   ┏━━━┻━━━┓    \n",
      "\u001b[38;2;255;55;164m   2       4    \n",
      "\u001b[38;2;255;55;164m ┏━┻━┓   ┏━┛    \n",
      "\u001b[38;2;255;32;69m 5   6   1  \n",
      "\u001b[38;2;255;32;69m            \n",
      "Lifting left child 5 swapping with 2\n",
      "\u001b[38;2;175;78;255m[3, 5, 4, 2, 6, 1]\u001b[0m\n",
      "\u001b[38;2;175;78;255m       3        \n",
      "\u001b[38;2;175;78;255m   ┏━━━┻━━━┓    \n",
      "\u001b[38;2;255;55;164m   5       4    \n",
      "\u001b[38;2;255;55;164m ┏━┻━┓   ┏━┛    \n",
      "\u001b[38;2;255;32;69m 2   6   1  \n",
      "\u001b[38;2;255;32;69m            \n",
      "Finished sifting up (actually down), now going up\n",
      "floating up newitem=2 from pos=3\n",
      "\n",
      "\u001b[38;2;175;78;255m[3, 5, 4, 2, 6, 1]\u001b[0m\n",
      "\u001b[38;2;175;78;255m       3        \n",
      "\u001b[38;2;175;78;255m   ┏━━━┻━━━┓    \n",
      "\u001b[38;2;255;55;164m   5       4    \n",
      "\u001b[38;2;255;55;164m ┏━┻━┓   ┏━┛    \n",
      "\u001b[38;2;255;32;69m 2   6   1  \n",
      "\u001b[38;2;255;32;69m            \n",
      "float up the 2 and replace the 5\n",
      "\u001b[38;2;175;78;255m[3, 2, 4, 5, 6, 1]\u001b[0m\n",
      "\u001b[38;2;175;78;255m       3        \n",
      "\u001b[38;2;175;78;255m   ┏━━━┻━━━┓    \n",
      "\u001b[38;2;255;55;164m   2       4    \n",
      "\u001b[38;2;255;55;164m ┏━┻━┓   ┏━┛    \n",
      "\u001b[38;2;255;32;69m 5   6   1  \n",
      "\u001b[38;2;255;32;69m            \n",
      "float up the 2 and replace the 3\n",
      "\u001b[38;2;175;78;255m[2, 3, 4, 5, 6, 1]\u001b[0m\n",
      "\u001b[38;2;175;78;255m       2        \n",
      "\u001b[38;2;175;78;255m   ┏━━━┻━━━┓    \n",
      "\u001b[38;2;255;55;164m   3       4    \n",
      "\u001b[38;2;255;55;164m ┏━┻━┓   ┏━┛    \n",
      "\u001b[38;2;255;32;69m 5   6   1  \n",
      "\u001b[38;2;255;32;69m            \n"
     ]
    }
   ],
   "source": [
    "heap = [2, 3, 4, 5, 6, 1]\n",
    "_siftup(heap, 0)"
   ]
  },
  {
   "cell_type": "markdown",
   "id": "e6176a66",
   "metadata": {},
   "source": [
    "#### heapify"
   ]
  },
  {
   "cell_type": "code",
   "execution_count": 15,
   "id": "f1f4a8b0",
   "metadata": {},
   "outputs": [],
   "source": [
    "def heapify(x):\n",
    "    \"\"\"Transform list into a heap, in-place, in O(len(x)) time.\"\"\"\n",
    "    n = len(x)\n",
    "    # Transform bottom-up.  The largest index there's any point to looking at\n",
    "    # is the largest with a child index in-range, so must have 2*i + 1 < n,\n",
    "    # or i < (n-1)/2.  If n is even = 2*j, this is (2*j-1)/2 = j-1/2 so\n",
    "    # j-1 is the largest, which is n//2 - 1.  If n is odd = 2*j+1, this is\n",
    "    # (2*j+1-1)/2 = j so j-1 is the largest, and that's again n//2-1.\n",
    "    for i in reversed(range(n//2)):\n",
    "        _siftup(x, i)\n"
   ]
  },
  {
   "cell_type": "code",
   "execution_count": 17,
   "id": "55ad4a84",
   "metadata": {
    "scrolled": false
   },
   "outputs": [
    {
     "name": "stdout",
     "output_type": "stream",
     "text": [
      "initial heap\n",
      "\u001b[38;2;175;78;255m[2, 3, 4, 5, 6, 1]\u001b[0m\n",
      "\u001b[38;2;175;78;255m       2        \n",
      "\u001b[38;2;175;78;255m   ┏━━━┻━━━┓    \n",
      "\u001b[38;2;255;55;164m   3       4    \n",
      "\u001b[38;2;255;55;164m ┏━┻━┓   ┏━┛    \n",
      "\u001b[38;2;255;32;69m 5   6   1  \n",
      "\u001b[38;2;255;32;69m            \n",
      "Sifting up (actually down) from pos=2 item=4\n",
      "Lifting left child 1 swapping with 4\n",
      "\u001b[38;2;175;78;255m[2, 3, 1, 5, 6, 4]\u001b[0m\n",
      "\u001b[38;2;175;78;255m       2        \n",
      "\u001b[38;2;175;78;255m   ┏━━━┻━━━┓    \n",
      "\u001b[38;2;255;55;164m   3       1    \n",
      "\u001b[38;2;255;55;164m ┏━┻━┓   ┏━┛    \n",
      "\u001b[38;2;255;32;69m 5   6   4  \n",
      "\u001b[38;2;255;32;69m            \n",
      "Finished sifting up (actually down), now going up\n",
      "floating up newitem=4 from pos=5\n",
      "\n",
      "\u001b[38;2;175;78;255m[2, 3, 1, 5, 6, 4]\u001b[0m\n",
      "\u001b[38;2;175;78;255m       2        \n",
      "\u001b[38;2;175;78;255m   ┏━━━┻━━━┓    \n",
      "\u001b[38;2;255;55;164m   3       1    \n",
      "\u001b[38;2;255;55;164m ┏━┻━┓   ┏━┛    \n",
      "\u001b[38;2;255;32;69m 5   6   4  \n",
      "\u001b[38;2;255;32;69m            \n",
      "initial heap\n",
      "\u001b[38;2;175;78;255m[2, 3, 1, 5, 6, 4]\u001b[0m\n",
      "\u001b[38;2;175;78;255m       2        \n",
      "\u001b[38;2;175;78;255m   ┏━━━┻━━━┓    \n",
      "\u001b[38;2;255;55;164m   3       1    \n",
      "\u001b[38;2;255;55;164m ┏━┻━┓   ┏━┛    \n",
      "\u001b[38;2;255;32;69m 5   6   4  \n",
      "\u001b[38;2;255;32;69m            \n",
      "Sifting up (actually down) from pos=1 item=3\n",
      "Lifting left child 5 swapping with 3\n",
      "\u001b[38;2;175;78;255m[2, 5, 1, 3, 6, 4]\u001b[0m\n",
      "\u001b[38;2;175;78;255m       2        \n",
      "\u001b[38;2;175;78;255m   ┏━━━┻━━━┓    \n",
      "\u001b[38;2;255;55;164m   5       1    \n",
      "\u001b[38;2;255;55;164m ┏━┻━┓   ┏━┛    \n",
      "\u001b[38;2;255;32;69m 3   6   4  \n",
      "\u001b[38;2;255;32;69m            \n",
      "Finished sifting up (actually down), now going up\n",
      "floating up newitem=3 from pos=3\n",
      "\n",
      "\u001b[38;2;175;78;255m[2, 5, 1, 3, 6, 4]\u001b[0m\n",
      "\u001b[38;2;175;78;255m       2        \n",
      "\u001b[38;2;175;78;255m   ┏━━━┻━━━┓    \n",
      "\u001b[38;2;255;55;164m   5       1    \n",
      "\u001b[38;2;255;55;164m ┏━┻━┓   ┏━┛    \n",
      "\u001b[38;2;255;32;69m 3   6   4  \n",
      "\u001b[38;2;255;32;69m            \n",
      "float up the 3 and replace the 5\n",
      "\u001b[38;2;175;78;255m[2, 3, 1, 5, 6, 4]\u001b[0m\n",
      "\u001b[38;2;175;78;255m       2        \n",
      "\u001b[38;2;175;78;255m   ┏━━━┻━━━┓    \n",
      "\u001b[38;2;255;55;164m   3       1    \n",
      "\u001b[38;2;255;55;164m ┏━┻━┓   ┏━┛    \n",
      "\u001b[38;2;255;32;69m 5   6   4  \n",
      "\u001b[38;2;255;32;69m            \n",
      "initial heap\n",
      "\u001b[38;2;175;78;255m[2, 3, 1, 5, 6, 4]\u001b[0m\n",
      "\u001b[38;2;175;78;255m       2        \n",
      "\u001b[38;2;175;78;255m   ┏━━━┻━━━┓    \n",
      "\u001b[38;2;255;55;164m   3       1    \n",
      "\u001b[38;2;255;55;164m ┏━┻━┓   ┏━┛    \n",
      "\u001b[38;2;255;32;69m 5   6   4  \n",
      "\u001b[38;2;255;32;69m            \n",
      "Sifting up (actually down) from pos=0 item=2\n",
      "Lifting right child 1 swapping with 2\n",
      "\u001b[38;2;175;78;255m[1, 3, 2, 5, 6, 4]\u001b[0m\n",
      "\u001b[38;2;175;78;255m       1        \n",
      "\u001b[38;2;175;78;255m   ┏━━━┻━━━┓    \n",
      "\u001b[38;2;255;55;164m   3       2    \n",
      "\u001b[38;2;255;55;164m ┏━┻━┓   ┏━┛    \n",
      "\u001b[38;2;255;32;69m 5   6   4  \n",
      "\u001b[38;2;255;32;69m            \n",
      "Lifting left child 4 swapping with 2\n",
      "\u001b[38;2;175;78;255m[1, 3, 4, 5, 6, 2]\u001b[0m\n",
      "\u001b[38;2;175;78;255m       1        \n",
      "\u001b[38;2;175;78;255m   ┏━━━┻━━━┓    \n",
      "\u001b[38;2;255;55;164m   3       4    \n",
      "\u001b[38;2;255;55;164m ┏━┻━┓   ┏━┛    \n",
      "\u001b[38;2;255;32;69m 5   6   2  \n",
      "\u001b[38;2;255;32;69m            \n",
      "Finished sifting up (actually down), now going up\n",
      "floating up newitem=2 from pos=5\n",
      "\n",
      "\u001b[38;2;175;78;255m[1, 3, 4, 5, 6, 2]\u001b[0m\n",
      "\u001b[38;2;175;78;255m       1        \n",
      "\u001b[38;2;175;78;255m   ┏━━━┻━━━┓    \n",
      "\u001b[38;2;255;55;164m   3       4    \n",
      "\u001b[38;2;255;55;164m ┏━┻━┓   ┏━┛    \n",
      "\u001b[38;2;255;32;69m 5   6   2  \n",
      "\u001b[38;2;255;32;69m            \n",
      "float up the 2 and replace the 4\n",
      "\u001b[38;2;175;78;255m[1, 3, 2, 5, 6, 4]\u001b[0m\n",
      "\u001b[38;2;175;78;255m       1        \n",
      "\u001b[38;2;175;78;255m   ┏━━━┻━━━┓    \n",
      "\u001b[38;2;255;55;164m   3       2    \n",
      "\u001b[38;2;255;55;164m ┏━┻━┓   ┏━┛    \n",
      "\u001b[38;2;255;32;69m 5   6   4  \n",
      "\u001b[38;2;255;32;69m            \n",
      "\u001b[38;2;175;78;255m[1, 3, 2, 5, 6, 4]\u001b[0m\n",
      "\u001b[38;2;175;78;255m       1        \n",
      "\u001b[38;2;175;78;255m   ┏━━━┻━━━┓    \n",
      "\u001b[38;2;255;55;164m   3       2    \n",
      "\u001b[38;2;255;55;164m ┏━┻━┓   ┏━┛    \n",
      "\u001b[38;2;255;32;69m 5   6   4  \n",
      "\u001b[38;2;255;32;69m            \n"
     ]
    }
   ],
   "source": [
    "heap = [2, 3, 4, 5, 6, 1]\n",
    "heapify(heap)\n",
    "draw_heap(heap)"
   ]
  }
 ],
 "metadata": {
  "kernelspec": {
   "display_name": "Python 3 (ipykernel)",
   "language": "python",
   "name": "python3"
  },
  "language_info": {
   "codemirror_mode": {
    "name": "ipython",
    "version": 3
   },
   "file_extension": ".py",
   "mimetype": "text/x-python",
   "name": "python",
   "nbconvert_exporter": "python",
   "pygments_lexer": "ipython3",
   "version": "3.10.2"
  },
  "toc": {
   "base_numbering": 1,
   "nav_menu": {},
   "number_sections": true,
   "sideBar": true,
   "skip_h1_title": false,
   "title_cell": "Table of Contents",
   "title_sidebar": "Contents",
   "toc_cell": false,
   "toc_position": {},
   "toc_section_display": true,
   "toc_window_display": false
  }
 },
 "nbformat": 4,
 "nbformat_minor": 5
}
