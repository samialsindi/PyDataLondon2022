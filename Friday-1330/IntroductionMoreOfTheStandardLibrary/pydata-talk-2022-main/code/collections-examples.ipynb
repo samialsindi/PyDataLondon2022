{
 "cells": [
  {
   "cell_type": "markdown",
   "id": "2e4e5db5",
   "metadata": {},
   "source": [
    "# collections"
   ]
  },
  {
   "cell_type": "markdown",
   "id": "27c1d8ef",
   "metadata": {},
   "source": [
    "This module implements specialized container datatypes providing alternatives to Python’s general purpose built-in containers, dict, list, set, and tuple.\n",
    "\n",
    "For more information see the documentation: https://docs.python.org/3/library/collections.html"
   ]
  },
  {
   "cell_type": "markdown",
   "id": "33def76b",
   "metadata": {},
   "source": [
    "A brief overview:"
   ]
  },
  {
   "cell_type": "markdown",
   "id": "b4a0ed3d",
   "metadata": {},
   "source": [
    "| Name         | Description                                                          |\n",
    "| ------------ | -------------------------------------------------------------------- |\n",
    "| namedtuple() | factory function for creating tuple subclasses with named fields     |\n",
    "| deque        | list-like container with fast appends and pops on either end         |\n",
    "| ChainMap     | dict-like class for creating a single view of multiple mappings      |\n",
    "| Counter      | dict subclass for counting hashable objects                          |\n",
    "| OrderedDict  | dict subclass that remembers the order entries were added            |\n",
    "| defaultdict  | dict subclass that calls a factory function to supply missing values |\n",
    "| UserDict     | wrapper around dictionary objects for easier dict subclassing        |\n",
    "| UserList     | wrapper around list objects for easier list subclassing              |\n",
    "| UserString   | wrapper around string objects for easier string subclassing          |\n"
   ]
  },
  {
   "cell_type": "code",
   "execution_count": null,
   "id": "a1d63dc9",
   "metadata": {},
   "outputs": [],
   "source": [
    "from collections import namedtuple\n",
    "from collections import deque\n",
    "from collections import ChainMap\n",
    "from collections import Counter\n",
    "from collections import OrderedDict\n",
    "from collections import defaultdict\n",
    "from collections import UserDict\n",
    "from collections import UserList\n",
    "from collections import UserString"
   ]
  },
  {
   "cell_type": "markdown",
   "id": "9fdcb8ae",
   "metadata": {},
   "source": [
    "### ChainMap"
   ]
  },
  {
   "cell_type": "markdown",
   "id": "7ee0c220",
   "metadata": {},
   "source": [
    "A Counter is a dict subclass for counting hashable objects. It is a collection where elements are stored as dictionary keys and their counts are stored as dictionary values."
   ]
  },
  {
   "cell_type": "code",
   "execution_count": null,
   "id": "a306fd86",
   "metadata": {},
   "outputs": [],
   "source": [
    "# source https://en.wikipedia.org/wiki/List_of_heaviest_land_mammals\n",
    "\n",
    "heavy_anmials = {\n",
    "    'African elephant': 6600,\n",
    "    'Asian elephant': 3700,\n",
    "    'White rhinoceros': 3300,\n",
    "    'Hippopotamus': 2105,\n",
    "    'Black rhinoceros': 1873\n",
    "}\n",
    "\n",
    "lighter_animals = {\n",
    "    'Giraffe': 1050,\n",
    "    'Gaur': 975,\n",
    "    'Bison': 970,\n",
    "    'Wild water buffalo': 900,\n",
    "    'Wild yak': 850\n",
    "}"
   ]
  },
  {
   "cell_type": "code",
   "execution_count": null,
   "id": "9a665185",
   "metadata": {},
   "outputs": [],
   "source": [
    "animals = ChainMap(heavy_anmials, lighter_animals, {})\n",
    "# The chain map searches in each map in order."
   ]
  },
  {
   "cell_type": "code",
   "execution_count": null,
   "id": "e988c16d",
   "metadata": {},
   "outputs": [],
   "source": [
    "animals['African elephant']"
   ]
  },
  {
   "cell_type": "code",
   "execution_count": null,
   "id": "5a77fb08",
   "metadata": {},
   "outputs": [],
   "source": [
    "animals['Giraffe']"
   ]
  },
  {
   "cell_type": "code",
   "execution_count": null,
   "id": "db428e0b",
   "metadata": {},
   "outputs": [],
   "source": [
    "# Writes and deletes all occur on the first map.\n",
    "animals['Human'] = 75"
   ]
  },
  {
   "cell_type": "code",
   "execution_count": null,
   "id": "771d01b9",
   "metadata": {},
   "outputs": [],
   "source": [
    "heavy_anmials"
   ]
  },
  {
   "cell_type": "code",
   "execution_count": null,
   "id": "14afcbad",
   "metadata": {},
   "outputs": [],
   "source": [
    "animals.maps"
   ]
  },
  {
   "cell_type": "code",
   "execution_count": null,
   "id": "c51acbd9",
   "metadata": {},
   "outputs": [],
   "source": [
    "for x, y in animals.items():\n",
    "    print(x, y)"
   ]
  },
  {
   "cell_type": "code",
   "execution_count": null,
   "id": "1968d3de",
   "metadata": {},
   "outputs": [],
   "source": [
    "# You can think of animals similar to merging the dicts but without the \n",
    "# re-writing.\n",
    "animals = lighter_animals.copy()\n",
    "animals.update(heavy_anmials)\n",
    "animals"
   ]
  },
  {
   "cell_type": "code",
   "execution_count": null,
   "id": "e5a85248",
   "metadata": {},
   "outputs": [],
   "source": [
    "# Similar to:\n",
    "animals = {**lighter_animals, **heavy_anmials}"
   ]
  },
  {
   "cell_type": "markdown",
   "id": "b7704c64",
   "metadata": {},
   "source": [
    "### Counter"
   ]
  },
  {
   "cell_type": "markdown",
   "id": "1f396250",
   "metadata": {},
   "source": [
    "A Counter is a dict subclass for counting hashable objects. It is a collection where elements are stored as dictionary keys and their counts are stored as dictionary values."
   ]
  },
  {
   "cell_type": "code",
   "execution_count": null,
   "id": "2ead82b1",
   "metadata": {},
   "outputs": [],
   "source": [
    "# From an string (iterable)\n",
    "counter = Counter('misissippi')\n",
    "counter"
   ]
  },
  {
   "cell_type": "code",
   "execution_count": null,
   "id": "5f4afeff",
   "metadata": {},
   "outputs": [],
   "source": [
    "# From an iterable\n",
    "counter = Counter([\"cat\", \"cat\", \"dog\", \"dog\", \"cat\", \"gold fish\"])\n",
    "counter"
   ]
  },
  {
   "cell_type": "code",
   "execution_count": null,
   "id": "090dd512",
   "metadata": {},
   "outputs": [],
   "source": [
    "# From dict\n",
    "counter = Counter({'cat': 3, 'dog': 2, 'gold fish': 1})\n",
    "counter"
   ]
  },
  {
   "cell_type": "code",
   "execution_count": null,
   "id": "83345b3a",
   "metadata": {},
   "outputs": [],
   "source": [
    "# Missing elements have 0 \n",
    "counter['shark']"
   ]
  },
  {
   "cell_type": "code",
   "execution_count": null,
   "id": "694912a8",
   "metadata": {},
   "outputs": [],
   "source": [
    "list(counter.elements())"
   ]
  },
  {
   "cell_type": "code",
   "execution_count": null,
   "id": "394ef2ee",
   "metadata": {},
   "outputs": [],
   "source": [
    "counter.most_common(2)"
   ]
  },
  {
   "cell_type": "code",
   "execution_count": null,
   "id": "7a838d53",
   "metadata": {},
   "outputs": [],
   "source": [
    "# find the two least common animals\n",
    "counter.most_common()[:-3:-1]"
   ]
  },
  {
   "cell_type": "code",
   "execution_count": null,
   "id": "354bff39",
   "metadata": {},
   "outputs": [],
   "source": [
    "counter.total()"
   ]
  },
  {
   "cell_type": "code",
   "execution_count": null,
   "id": "e9ea61ff",
   "metadata": {},
   "outputs": [],
   "source": [
    "another_counter = Counter({'cat': -3, 'dog': 10})"
   ]
  },
  {
   "cell_type": "code",
   "execution_count": null,
   "id": "b9b88571",
   "metadata": {},
   "outputs": [],
   "source": [
    "counter + another_counter"
   ]
  },
  {
   "cell_type": "code",
   "execution_count": null,
   "id": "c5bfc7f9",
   "metadata": {},
   "outputs": [],
   "source": [
    "# You can increment the values like so:\n",
    "counter['dog'] += 1"
   ]
  },
  {
   "cell_type": "markdown",
   "id": "0edfbfc7",
   "metadata": {},
   "source": [
    "### deque"
   ]
  },
  {
   "cell_type": "markdown",
   "id": "8f271dbf",
   "metadata": {},
   "source": [
    "Deques support thread-safe, memory efficient appends and pops from either side of the deque with approximately the same O(1) performance in either direction"
   ]
  },
  {
   "cell_type": "code",
   "execution_count": null,
   "id": "a1f501b8",
   "metadata": {},
   "outputs": [],
   "source": [
    "example_list = list(range(50_000))"
   ]
  },
  {
   "cell_type": "code",
   "execution_count": null,
   "id": "2673685d",
   "metadata": {},
   "outputs": [],
   "source": [
    "%%timeit\n",
    "while example_list:\n",
    "    example_list.pop(-1)\n",
    "    example_list.pop(0)"
   ]
  },
  {
   "cell_type": "code",
   "execution_count": null,
   "id": "ee51cc58",
   "metadata": {},
   "outputs": [],
   "source": [
    "example_deque = deque(range(50_000))"
   ]
  },
  {
   "cell_type": "code",
   "execution_count": null,
   "id": "97f7c2ba",
   "metadata": {},
   "outputs": [],
   "source": [
    "%%timeit\n",
    "while example_deque:\n",
    "    example_deque.pop()\n",
    "    example_deque.popleft()"
   ]
  },
  {
   "cell_type": "code",
   "execution_count": null,
   "id": "c4216241",
   "metadata": {},
   "outputs": [],
   "source": [
    "example_deque = deque(range(5))"
   ]
  },
  {
   "cell_type": "code",
   "execution_count": null,
   "id": "f3424437",
   "metadata": {},
   "outputs": [],
   "source": [
    "example_deque"
   ]
  },
  {
   "cell_type": "code",
   "execution_count": null,
   "id": "9f10a0b1",
   "metadata": {},
   "outputs": [],
   "source": [
    "example_deque.append(5)\n",
    "example_deque.appendleft(-1)"
   ]
  },
  {
   "cell_type": "code",
   "execution_count": null,
   "id": "317cc696",
   "metadata": {},
   "outputs": [],
   "source": [
    "example_deque"
   ]
  },
  {
   "cell_type": "code",
   "execution_count": null,
   "id": "5e432c46",
   "metadata": {},
   "outputs": [],
   "source": [
    "example_deque.extend([6, 7, 8])\n",
    "example_deque.extendleft([-2, -3, -4]) # Note the ordering.\n",
    "example_deque"
   ]
  },
  {
   "cell_type": "code",
   "execution_count": null,
   "id": "58ddfcf0",
   "metadata": {},
   "outputs": [],
   "source": [
    "example_deque.index(3)"
   ]
  },
  {
   "cell_type": "code",
   "execution_count": null,
   "id": "c9f4a53e",
   "metadata": {},
   "outputs": [],
   "source": [
    "example_deque.insert(7, 5)\n",
    "example_deque"
   ]
  },
  {
   "cell_type": "code",
   "execution_count": null,
   "id": "4bdf1570",
   "metadata": {},
   "outputs": [],
   "source": [
    "# remove first occurence\n",
    "example_deque.remove(5)\n",
    "example_deque"
   ]
  },
  {
   "cell_type": "code",
   "execution_count": null,
   "id": "b520f572",
   "metadata": {},
   "outputs": [],
   "source": [
    "# This is inplace.\n",
    "example_deque.reverse()"
   ]
  },
  {
   "cell_type": "code",
   "execution_count": null,
   "id": "1a571c56",
   "metadata": {},
   "outputs": [],
   "source": [
    "example_deque"
   ]
  },
  {
   "cell_type": "markdown",
   "id": "44d6b970",
   "metadata": {},
   "source": [
    "deque with maxlen"
   ]
  },
  {
   "cell_type": "code",
   "execution_count": null,
   "id": "28f2547e",
   "metadata": {},
   "outputs": [],
   "source": [
    "limited_deque = deque(range(5), maxlen=5)\n",
    "limited_deque"
   ]
  },
  {
   "cell_type": "code",
   "execution_count": null,
   "id": "cb985f23",
   "metadata": {},
   "outputs": [],
   "source": [
    "# note this pops off the 0\n",
    "limited_deque.append(5)\n",
    "limited_deque"
   ]
  },
  {
   "cell_type": "code",
   "execution_count": null,
   "id": "871238df",
   "metadata": {},
   "outputs": [],
   "source": [
    "# this pushes off the 5 off the other end\n",
    "limited_deque.appendleft(0)\n",
    "limited_deque"
   ]
  },
  {
   "cell_type": "code",
   "execution_count": null,
   "id": "3a6d4449",
   "metadata": {},
   "outputs": [],
   "source": [
    "# this sequentiall pushes the 5, 6, 7 \n",
    "# onto the right end forcing out the 0, 1, 2\n",
    "limited_deque.extend([5, 6, 7])\n",
    "limited_deque"
   ]
  },
  {
   "cell_type": "code",
   "execution_count": null,
   "id": "8f74f2bb",
   "metadata": {},
   "outputs": [],
   "source": [
    "# this sequentially pushes the 1, 2, 3\n",
    "# onto the left end forcing out the 5, 6, 7\n",
    "limited_deque.extendleft([0, 1, 2])\n",
    "limited_deque"
   ]
  },
  {
   "cell_type": "code",
   "execution_count": null,
   "id": "9dad68a2",
   "metadata": {},
   "outputs": [],
   "source": [
    "# this rotates elements n steps. \n",
    "limited_deque.rotate(2)\n",
    "limited_deque"
   ]
  },
  {
   "cell_type": "code",
   "execution_count": null,
   "id": "3885cac7",
   "metadata": {},
   "outputs": [],
   "source": [
    "# we can access the maxlen\n",
    "limited_deque.maxlen"
   ]
  },
  {
   "cell_type": "code",
   "execution_count": null,
   "id": "4a033491",
   "metadata": {},
   "outputs": [],
   "source": [
    "limited_deque.clear()\n",
    "limited_deque"
   ]
  },
  {
   "cell_type": "code",
   "execution_count": null,
   "id": "eb88f0f7",
   "metadata": {},
   "outputs": [],
   "source": [
    "# note if the initial iterable is longer than\n",
    "# the maxlen then we only get the last n elements\n",
    "deque([1, 2, 3, 4, 5], maxlen=3)"
   ]
  },
  {
   "cell_type": "markdown",
   "id": "a2bf6952",
   "metadata": {},
   "source": [
    "### defaultdict"
   ]
  },
  {
   "cell_type": "code",
   "execution_count": null,
   "id": "98c2820b",
   "metadata": {},
   "outputs": [],
   "source": [
    "sentence = \"\"\"imagine we want to take a sentence and store words in lists \n",
    "in a dictionary keyed on the letter that each word starts with\"\"\""
   ]
  },
  {
   "cell_type": "code",
   "execution_count": null,
   "id": "f4246aa8",
   "metadata": {},
   "outputs": [],
   "source": [
    "words_by_starting_letter = {}\n",
    "for word in sentence.split(' '):\n",
    "    if word.isalpha():\n",
    "        if word[0] in words_by_starting_letter:\n",
    "            words_by_starting_letter[word[0]].append(word)\n",
    "        else:\n",
    "            words_by_starting_letter[word[0]] = [word]\n",
    "words_by_starting_letter"
   ]
  },
  {
   "cell_type": "code",
   "execution_count": null,
   "id": "868be029",
   "metadata": {},
   "outputs": [],
   "source": [
    "words_by_starting_letter = defaultdict(list)\n",
    "for word in sentence.split(' '):\n",
    "    if word.isalpha():\n",
    "        words_by_starting_letter[word[0]].append(word)\n",
    "words_by_starting_letter"
   ]
  },
  {
   "cell_type": "code",
   "execution_count": null,
   "id": "e95d4f94",
   "metadata": {},
   "outputs": [],
   "source": [
    "# Note you can also use this formulation in some circumstances.\n",
    "words_by_starting_letter = {}\n",
    "for word in sentence.split(' '):\n",
    "    if word.isalpha():\n",
    "        words_by_starting_letter.setdefault(word[0], []).append(word)\n",
    "words_by_starting_letter"
   ]
  },
  {
   "cell_type": "code",
   "execution_count": null,
   "id": "729d8dc4",
   "metadata": {},
   "outputs": [],
   "source": [
    "# An example from the offical docs:\n",
    "s = 'mississippi'\n",
    "d = defaultdict(int)\n",
    "for k in s:\n",
    "    d[k] += 1\n",
    "\n",
    "sorted(d.items())\n"
   ]
  },
  {
   "cell_type": "markdown",
   "id": "ea3f2f61",
   "metadata": {},
   "source": [
    "### named tuple"
   ]
  },
  {
   "cell_type": "markdown",
   "id": "ef0034c4",
   "metadata": {},
   "source": [
    "Named tuples assign meaning to each position in a tuple and allow for more readable, self-documenting code. "
   ]
  },
  {
   "cell_type": "code",
   "execution_count": null,
   "id": "0d8e3a5b",
   "metadata": {},
   "outputs": [],
   "source": [
    "simon = ('Simon Ward-Jones', 'Data Scientist', 180)"
   ]
  },
  {
   "cell_type": "code",
   "execution_count": null,
   "id": "723e04b4",
   "metadata": {},
   "outputs": [],
   "source": [
    "def display_employee(employee):\n",
    "    print(f\"Employee {employee[0]} is a {employee[1]}\"\n",
    "          f\" and is {employee[2]} cm tall\")"
   ]
  },
  {
   "cell_type": "code",
   "execution_count": null,
   "id": "40c908c1",
   "metadata": {},
   "outputs": [],
   "source": [
    "display_employee(simon)"
   ]
  },
  {
   "cell_type": "code",
   "execution_count": null,
   "id": "30acac6a",
   "metadata": {},
   "outputs": [],
   "source": [
    "Employee = namedtuple(\"Employee\", \"name job_title height\")"
   ]
  },
  {
   "cell_type": "code",
   "execution_count": null,
   "id": "ec82f87e",
   "metadata": {},
   "outputs": [],
   "source": [
    "Employee = namedtuple(\"Employee\",[\"name\", \"job_title\", \"height\"])"
   ]
  },
  {
   "cell_type": "code",
   "execution_count": null,
   "id": "db1333d6",
   "metadata": {},
   "outputs": [],
   "source": [
    "simon = Employee(name='Simon Ward-Jones', \n",
    "                 job_title='Data Scientist',\n",
    "                 height=180)"
   ]
  },
  {
   "cell_type": "code",
   "execution_count": null,
   "id": "c4a33915",
   "metadata": {},
   "outputs": [],
   "source": [
    "def display_employee(employee):\n",
    "    print(f\"Employee {employee.name} is a {employee.job_title}\"\n",
    "          f\" and is {employee.height} cm tall\")"
   ]
  },
  {
   "cell_type": "code",
   "execution_count": null,
   "id": "1c0a6b14",
   "metadata": {},
   "outputs": [],
   "source": [
    "display_employee(simon)"
   ]
  },
  {
   "cell_type": "code",
   "execution_count": null,
   "id": "a4d5e273",
   "metadata": {},
   "outputs": [],
   "source": [
    "simon._asdict()"
   ]
  },
  {
   "cell_type": "code",
   "execution_count": null,
   "id": "e43b86c8",
   "metadata": {},
   "outputs": [],
   "source": [
    "taller_simon = simon._replace(height=183)\n",
    "taller_simon"
   ]
  },
  {
   "cell_type": "code",
   "execution_count": null,
   "id": "1712b56b",
   "metadata": {},
   "outputs": [],
   "source": [
    "simon._fields"
   ]
  },
  {
   "cell_type": "code",
   "execution_count": null,
   "id": "3efca117",
   "metadata": {},
   "outputs": [],
   "source": [
    "# We can also do the same thing using the typing.NamedTuple"
   ]
  },
  {
   "cell_type": "code",
   "execution_count": null,
   "id": "e50f9e97",
   "metadata": {},
   "outputs": [],
   "source": [
    "from typing import NamedTuple"
   ]
  },
  {
   "cell_type": "code",
   "execution_count": null,
   "id": "ed5f5318",
   "metadata": {},
   "outputs": [],
   "source": [
    "class Employee(NamedTuple):\n",
    "    name: str\n",
    "    job_title : str\n",
    "    height : float"
   ]
  },
  {
   "cell_type": "code",
   "execution_count": null,
   "id": "3bc02c2b",
   "metadata": {},
   "outputs": [],
   "source": [
    "simon = Employee(name='Simon Ward-Jones', \n",
    "                 job_title='Data Scientist',\n",
    "                 height=180)"
   ]
  },
  {
   "cell_type": "code",
   "execution_count": null,
   "id": "11bc6631",
   "metadata": {},
   "outputs": [],
   "source": [
    "simon"
   ]
  },
  {
   "cell_type": "markdown",
   "id": "9257e5f5",
   "metadata": {},
   "source": [
    "### OrderedDict objects"
   ]
  },
  {
   "cell_type": "markdown",
   "id": "a252edf4",
   "metadata": {},
   "source": [
    "Ordered dictionaries are just like regular dictionaries but have some extra capabilities relating to ordering operations. They have become less important now that the built-in dict class gained the ability to remember insertion order (this new behavior became guaranteed in Python 3.7)."
   ]
  },
  {
   "cell_type": "markdown",
   "id": "a482739a",
   "metadata": {},
   "source": [
    "# Fin."
   ]
  }
 ],
 "metadata": {
  "kernelspec": {
   "display_name": "Python 3 (ipykernel)",
   "language": "python",
   "name": "python3"
  },
  "language_info": {
   "codemirror_mode": {
    "name": "ipython",
    "version": 3
   },
   "file_extension": ".py",
   "mimetype": "text/x-python",
   "name": "python",
   "nbconvert_exporter": "python",
   "pygments_lexer": "ipython3",
   "version": "3.10.2"
  },
  "toc": {
   "base_numbering": 1,
   "nav_menu": {},
   "number_sections": true,
   "sideBar": true,
   "skip_h1_title": false,
   "title_cell": "Table of Contents",
   "title_sidebar": "Contents",
   "toc_cell": false,
   "toc_position": {},
   "toc_section_display": true,
   "toc_window_display": false
  }
 },
 "nbformat": 4,
 "nbformat_minor": 5
}
