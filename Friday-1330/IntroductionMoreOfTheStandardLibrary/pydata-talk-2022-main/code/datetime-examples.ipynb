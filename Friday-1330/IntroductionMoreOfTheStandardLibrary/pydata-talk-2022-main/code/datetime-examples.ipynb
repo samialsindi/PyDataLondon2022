{
 "cells": [
  {
   "cell_type": "markdown",
   "id": "afe6d783",
   "metadata": {},
   "source": [
    "# datetime"
   ]
  },
  {
   "cell_type": "markdown",
   "id": "647a1b86",
   "metadata": {},
   "source": [
    "The datetime module supplies classes for manipulating dates and times."
   ]
  },
  {
   "cell_type": "markdown",
   "id": "2c5df3a3",
   "metadata": {},
   "source": [
    "For more information see documentation: https://docs.python.org/3/library/datetime.html"
   ]
  },
  {
   "cell_type": "markdown",
   "id": "623a4483",
   "metadata": {},
   "source": [
    "### A note on timezones"
   ]
  },
  {
   "cell_type": "markdown",
   "id": "5678c5f5",
   "metadata": {},
   "source": [
    "Date and time objects may be categorized as “aware” or “naive” depending on whether or not they include timezone information."
   ]
  },
  {
   "cell_type": "markdown",
   "id": "01731eb5",
   "metadata": {},
   "source": [
    "For applications requiring aware objects, datetime and time objects have an optional time zone information attribute, tzinfo, that can be set to an instance of a subclass of the abstract tzinfo class. These tzinfo objects capture information about the offset from UTC time, the time zone name, and whether daylight saving time is in effect."
   ]
  },
  {
   "cell_type": "markdown",
   "id": "b001db2d",
   "metadata": {},
   "source": [
    "### Key classes"
   ]
  },
  {
   "cell_type": "markdown",
   "id": "2515ae71",
   "metadata": {},
   "source": [
    "`datetime.date`\n",
    "Attributes: year, month, and day.\n",
    "\n",
    "`datetime.time`\n",
    "Attributes: hour, minute, second, microsecond, and tzinfo.\n",
    "\n",
    "`datetime.datetime`\n",
    "Attributes: year, month, day, hour, minute, second, microsecond, and tzinfo.\n",
    "\n",
    "`datetime.timedelta`\n",
    "A duration expressing the difference between two date, time, or datetime instances to microsecond resolution.\n",
    "\n",
    "`datetime.tzinfo`\n",
    "An abstract base class for time zone information objects. These are used by the datetime and time classes to provide a customizable notion of time adjustment (for example, to account for time zone and/or daylight saving time).\n",
    "\n",
    "`datetime.timezone`\n",
    "A class that implements the tzinfo abstract base class as a fixed offset from the UTC.\n",
    "\n"
   ]
  },
  {
   "cell_type": "markdown",
   "id": "92fbdae3",
   "metadata": {},
   "source": [
    "Notes:\n",
    "- Objects of these types are immutable.\n",
    "- Objects of these types are hashable, meaning that they can be used as dictionary keys.\n",
    "- Objects of these types support efficient pickling via the pickle module."
   ]
  },
  {
   "cell_type": "code",
   "execution_count": null,
   "id": "07fe2675",
   "metadata": {},
   "outputs": [],
   "source": [
    "import datetime"
   ]
  },
  {
   "cell_type": "markdown",
   "id": "14aec4e6",
   "metadata": {},
   "source": [
    "## date"
   ]
  },
  {
   "cell_type": "code",
   "execution_count": null,
   "id": "063082eb",
   "metadata": {},
   "outputs": [],
   "source": [
    "twenty_fourth_april = datetime.date(year=2022, month=4, day=24)"
   ]
  },
  {
   "cell_type": "code",
   "execution_count": null,
   "id": "91c3f31b",
   "metadata": {},
   "outputs": [],
   "source": [
    "twenty_fourth_april"
   ]
  },
  {
   "cell_type": "markdown",
   "id": "024977bb",
   "metadata": {},
   "source": [
    "### today"
   ]
  },
  {
   "cell_type": "code",
   "execution_count": null,
   "id": "4e78181b",
   "metadata": {},
   "outputs": [],
   "source": [
    "today = datetime.date.today()"
   ]
  },
  {
   "cell_type": "code",
   "execution_count": null,
   "id": "625a4e61",
   "metadata": {},
   "outputs": [],
   "source": [
    "today"
   ]
  },
  {
   "cell_type": "code",
   "execution_count": null,
   "id": "521f354e",
   "metadata": {},
   "outputs": [],
   "source": [
    "today.day, today.month, today.year"
   ]
  },
  {
   "cell_type": "markdown",
   "id": "fe6e7cc1",
   "metadata": {},
   "source": [
    "## time"
   ]
  },
  {
   "cell_type": "code",
   "execution_count": null,
   "id": "deb16db6",
   "metadata": {},
   "outputs": [],
   "source": [
    "four_thirty = datetime.time(hour=16, minute=30, second=0, microsecond=0)"
   ]
  },
  {
   "cell_type": "code",
   "execution_count": null,
   "id": "613101bb",
   "metadata": {},
   "outputs": [],
   "source": [
    "four_thirty"
   ]
  },
  {
   "cell_type": "markdown",
   "id": "002f356c",
   "metadata": {},
   "source": [
    "## datetime"
   ]
  },
  {
   "cell_type": "code",
   "execution_count": null,
   "id": "5381e1bb",
   "metadata": {},
   "outputs": [],
   "source": [
    "order_at = datetime.datetime(\n",
    "    year=2022,\n",
    "    month=9,\n",
    "    day=16, \n",
    "    hour=20, \n",
    "    minute=30,\n",
    "    second=12,\n",
    "    microsecond=123, \n",
    "    tzinfo=None)"
   ]
  },
  {
   "cell_type": "code",
   "execution_count": null,
   "id": "1a04ae34",
   "metadata": {},
   "outputs": [],
   "source": [
    "order_at"
   ]
  },
  {
   "cell_type": "code",
   "execution_count": null,
   "id": "12914e1f",
   "metadata": {},
   "outputs": [],
   "source": [
    "order_at.date()"
   ]
  },
  {
   "cell_type": "code",
   "execution_count": null,
   "id": "75144c62",
   "metadata": {},
   "outputs": [],
   "source": [
    "order_at.time()"
   ]
  },
  {
   "cell_type": "markdown",
   "id": "0b4493a5",
   "metadata": {},
   "source": [
    "### now"
   ]
  },
  {
   "cell_type": "code",
   "execution_count": null,
   "id": "a3d3e3fc",
   "metadata": {},
   "outputs": [],
   "source": [
    "now = datetime.datetime.now()\n",
    "now"
   ]
  },
  {
   "cell_type": "markdown",
   "id": "e01e1a70",
   "metadata": {},
   "source": [
    "## Key methods"
   ]
  },
  {
   "cell_type": "code",
   "execution_count": null,
   "id": "93940601",
   "metadata": {},
   "outputs": [],
   "source": [
    "datetime.datetime.combine(date=today, time=four_thirty)"
   ]
  },
  {
   "cell_type": "code",
   "execution_count": null,
   "id": "39225c92",
   "metadata": {},
   "outputs": [],
   "source": [
    "str(datetime.datetime.combine(date=today, time=four_thirty))"
   ]
  },
  {
   "cell_type": "code",
   "execution_count": null,
   "id": "85c0d2fc",
   "metadata": {},
   "outputs": [],
   "source": [
    "str(today)"
   ]
  },
  {
   "cell_type": "markdown",
   "id": "ee8a2eae",
   "metadata": {},
   "source": [
    "### isoformat"
   ]
  },
  {
   "cell_type": "code",
   "execution_count": null,
   "id": "11ac5c22",
   "metadata": {},
   "outputs": [],
   "source": [
    "today.isoformat()"
   ]
  },
  {
   "cell_type": "code",
   "execution_count": null,
   "id": "4b8ff160",
   "metadata": {},
   "outputs": [],
   "source": [
    "now.isoformat()"
   ]
  },
  {
   "cell_type": "code",
   "execution_count": null,
   "id": "ae256363",
   "metadata": {},
   "outputs": [],
   "source": [
    "datetime.date.fromisoformat('2022-04-24')"
   ]
  },
  {
   "cell_type": "code",
   "execution_count": null,
   "id": "131eeb9b",
   "metadata": {},
   "outputs": [],
   "source": [
    "datetime.datetime.fromisoformat('2022-04-24T17:23:54.908505')"
   ]
  },
  {
   "cell_type": "markdown",
   "id": "82e18686",
   "metadata": {},
   "source": [
    "### more formats"
   ]
  },
  {
   "cell_type": "code",
   "execution_count": null,
   "id": "e405fffd",
   "metadata": {},
   "outputs": [],
   "source": [
    "for format_str in [\n",
    "    '%a', '%A', '%w', '%d', '%b', '%B',\n",
    "    '%m', '%y', '%Y', '%H', '%I', '%p',\n",
    "    '%M', '%S', '%f', '%z', '%j', '%U',\n",
    "    '%W', '%c', '%x', '%X', '%%']:\n",
    "    print(f\"now with format {format_str} is {now.strftime(format_str)}\")"
   ]
  },
  {
   "cell_type": "code",
   "execution_count": null,
   "id": "b49f61e7",
   "metadata": {},
   "outputs": [],
   "source": [
    "datetime.datetime.strptime('Sunday-24-April----17:23:54   2022', '%A-%d-%B----%X   %Y')"
   ]
  },
  {
   "cell_type": "markdown",
   "id": "9d6308f0",
   "metadata": {},
   "source": [
    "### ctime"
   ]
  },
  {
   "cell_type": "code",
   "execution_count": null,
   "id": "a8197682",
   "metadata": {},
   "outputs": [],
   "source": [
    "# ctime style\n",
    "today.ctime()"
   ]
  },
  {
   "cell_type": "code",
   "execution_count": null,
   "id": "b5c322d7",
   "metadata": {},
   "outputs": [],
   "source": [
    "now.ctime()"
   ]
  },
  {
   "cell_type": "markdown",
   "id": "938eaa87",
   "metadata": {},
   "source": [
    "### ordinals"
   ]
  },
  {
   "cell_type": "code",
   "execution_count": null,
   "id": "a7436bd6",
   "metadata": {},
   "outputs": [],
   "source": [
    "# days since 0000-01-01\n",
    "today.toordinal()"
   ]
  },
  {
   "cell_type": "code",
   "execution_count": null,
   "id": "7b374d39",
   "metadata": {},
   "outputs": [],
   "source": [
    "now.toordinal()"
   ]
  },
  {
   "cell_type": "code",
   "execution_count": null,
   "id": "674a741d",
   "metadata": {},
   "outputs": [],
   "source": [
    "# and back again\n",
    "datetime.date.fromordinal(738269)"
   ]
  },
  {
   "cell_type": "code",
   "execution_count": null,
   "id": "390046c5",
   "metadata": {},
   "outputs": [],
   "source": [
    "datetime.datetime.fromordinal(738269)"
   ]
  },
  {
   "cell_type": "markdown",
   "id": "b11624e6",
   "metadata": {},
   "source": [
    "### replace"
   ]
  },
  {
   "cell_type": "code",
   "execution_count": null,
   "id": "a983a4f5",
   "metadata": {},
   "outputs": [],
   "source": [
    "today.replace(year=today.year - 1) # last year using replace"
   ]
  },
  {
   "cell_type": "code",
   "execution_count": null,
   "id": "1c00dc7e",
   "metadata": {},
   "outputs": [],
   "source": [
    "now"
   ]
  },
  {
   "cell_type": "code",
   "execution_count": null,
   "id": "b49d97a0",
   "metadata": {},
   "outputs": [],
   "source": [
    "now.replace(hour=6)"
   ]
  },
  {
   "cell_type": "markdown",
   "id": "33192e59",
   "metadata": {},
   "source": [
    "### weekdays"
   ]
  },
  {
   "cell_type": "code",
   "execution_count": null,
   "id": "86176130",
   "metadata": {},
   "outputs": [],
   "source": [
    "# Monday is 0 and Sunday is 6\n",
    "today.weekday()"
   ]
  },
  {
   "cell_type": "code",
   "execution_count": null,
   "id": "27cc6cc0",
   "metadata": {},
   "outputs": [],
   "source": [
    "# Monday is 1 and Sunday is 7\n",
    "today.isoweekday()"
   ]
  },
  {
   "cell_type": "markdown",
   "id": "51538acd",
   "metadata": {},
   "source": [
    "### ISO calendar"
   ]
  },
  {
   "cell_type": "code",
   "execution_count": null,
   "id": "34ea70e4",
   "metadata": {},
   "outputs": [],
   "source": [
    "today.isocalendar() # named tuple"
   ]
  },
  {
   "cell_type": "markdown",
   "id": "5bb22d48",
   "metadata": {},
   "source": [
    "The ISO year consists of 52 or 53 full weeks, and where a week starts on a Monday and ends on a Sunday. The first week of an ISO year is the first (Gregorian) calendar week of a year containing a Thursday. This is called week number 1, and the ISO year of that Thursday is the same as its Gregorian year.\n",
    "\n",
    "For example, 2004 begins on a Thursday, so the first week of ISO year 2004 begins on Monday, 29 Dec 2003 and ends on Sunday, 4 Jan 2004:"
   ]
  },
  {
   "cell_type": "code",
   "execution_count": null,
   "id": "4bee9f97",
   "metadata": {},
   "outputs": [],
   "source": [
    "datetime.date(2003, 12, 29).isocalendar()"
   ]
  },
  {
   "cell_type": "code",
   "execution_count": null,
   "id": "58a3d712",
   "metadata": {},
   "outputs": [],
   "source": [
    "datetime.date(2004, 1, 4).isocalendar()"
   ]
  },
  {
   "cell_type": "code",
   "execution_count": null,
   "id": "20dba0a2",
   "metadata": {},
   "outputs": [],
   "source": [
    "datetime.date.fromisocalendar(year=2022, week=16, day=7)"
   ]
  },
  {
   "cell_type": "markdown",
   "id": "db8057cd",
   "metadata": {},
   "source": [
    "### timestamps"
   ]
  },
  {
   "cell_type": "code",
   "execution_count": null,
   "id": "a70fd405",
   "metadata": {},
   "outputs": [],
   "source": [
    "import time"
   ]
  },
  {
   "cell_type": "code",
   "execution_count": null,
   "id": "842ba416",
   "metadata": {},
   "outputs": [],
   "source": [
    "# Return the current time in seconds since the Epoch.\n",
    "now_timestamp = time.time()"
   ]
  },
  {
   "cell_type": "code",
   "execution_count": null,
   "id": "1f035b9e",
   "metadata": {},
   "outputs": [],
   "source": [
    "now_timestamp"
   ]
  },
  {
   "cell_type": "code",
   "execution_count": null,
   "id": "84434620",
   "metadata": {},
   "outputs": [],
   "source": [
    "now_datetime = datetime.datetime.fromtimestamp(now_timestamp)"
   ]
  },
  {
   "cell_type": "code",
   "execution_count": null,
   "id": "7e2a21f1",
   "metadata": {},
   "outputs": [],
   "source": [
    "now_datetime"
   ]
  },
  {
   "cell_type": "markdown",
   "id": "9425032b",
   "metadata": {},
   "source": [
    "## timedelta"
   ]
  },
  {
   "cell_type": "code",
   "execution_count": null,
   "id": "a1aa2e5c",
   "metadata": {},
   "outputs": [],
   "source": [
    "delta = datetime.timedelta(\n",
    "    days=50,\n",
    "    seconds=27,\n",
    "    microseconds=10,\n",
    "    milliseconds=29000,\n",
    "    minutes=5,\n",
    "    hours=8,\n",
    "    weeks=2\n",
    ")\n",
    "# Only days, seconds, and microseconds remain\n",
    "delta"
   ]
  },
  {
   "cell_type": "code",
   "execution_count": null,
   "id": "17af124e",
   "metadata": {},
   "outputs": [],
   "source": [
    "print(delta)"
   ]
  },
  {
   "cell_type": "code",
   "execution_count": null,
   "id": "a4a5f9d1",
   "metadata": {},
   "outputs": [],
   "source": [
    "delta.total_seconds()"
   ]
  },
  {
   "cell_type": "code",
   "execution_count": null,
   "id": "5252043e",
   "metadata": {},
   "outputs": [],
   "source": [
    "year = datetime.timedelta(days=365)\n",
    "another_year = datetime.timedelta(weeks=40, days=84, hours=23,\n",
    "                                  minutes=50, seconds=600)"
   ]
  },
  {
   "cell_type": "code",
   "execution_count": null,
   "id": "8198855e",
   "metadata": {},
   "outputs": [],
   "source": [
    "year == another_year"
   ]
  },
  {
   "cell_type": "markdown",
   "id": "432cd272",
   "metadata": {},
   "source": [
    "## tzinfo"
   ]
  },
  {
   "cell_type": "code",
   "execution_count": null,
   "id": "e360ac10",
   "metadata": {},
   "outputs": [],
   "source": [
    "# datetime.tzinfo??"
   ]
  },
  {
   "cell_type": "code",
   "execution_count": null,
   "id": "2cb94234",
   "metadata": {},
   "outputs": [],
   "source": [
    "# example implementation"
   ]
  },
  {
   "cell_type": "code",
   "execution_count": null,
   "id": "024965fb",
   "metadata": {},
   "outputs": [],
   "source": [
    "# This is like france without daylight savings!\n",
    "\n",
    "class TZ1(datetime.tzinfo):\n",
    "    \n",
    "    def utcoffset(self, dt):\n",
    "        return datetime.timedelta(hours=1) + self.dst(dt)\n",
    "\n",
    "    def dst(self, dt):\n",
    "        return datetime.timedelta(0)\n",
    "    \n",
    "    def tzname(self, dt):\n",
    "        return \"+01:00\"\n",
    "    \n",
    "    def  __repr__(self):\n",
    "        return f\"{self.__class__.__name__}()\""
   ]
  },
  {
   "cell_type": "code",
   "execution_count": null,
   "id": "c3e22768",
   "metadata": {},
   "outputs": [],
   "source": [
    "t = datetime.time(12, 10, 30, tzinfo=TZ1())"
   ]
  },
  {
   "cell_type": "code",
   "execution_count": null,
   "id": "585259e0",
   "metadata": {},
   "outputs": [],
   "source": [
    "t"
   ]
  },
  {
   "cell_type": "code",
   "execution_count": null,
   "id": "6eeb3dd1",
   "metadata": {},
   "outputs": [],
   "source": [
    "t.isoformat()"
   ]
  },
  {
   "cell_type": "code",
   "execution_count": null,
   "id": "ca4edcc8",
   "metadata": {},
   "outputs": [],
   "source": [
    "t.dst()"
   ]
  },
  {
   "cell_type": "code",
   "execution_count": null,
   "id": "2d168df1",
   "metadata": {},
   "outputs": [],
   "source": [
    "t.tzname()"
   ]
  },
  {
   "cell_type": "code",
   "execution_count": null,
   "id": "86a73b38",
   "metadata": {},
   "outputs": [],
   "source": [
    "t.strftime(\"%H:%M:%S %Z\")"
   ]
  },
  {
   "cell_type": "code",
   "execution_count": null,
   "id": "034e3dcf",
   "metadata": {},
   "outputs": [],
   "source": [
    "'The {} is {:%H:%M}.'.format(\"time\", t)"
   ]
  },
  {
   "cell_type": "code",
   "execution_count": null,
   "id": "31a2bbe0",
   "metadata": {},
   "outputs": [],
   "source": [
    "t = datetime.datetime.combine(today, t)"
   ]
  },
  {
   "cell_type": "code",
   "execution_count": null,
   "id": "998d6e8e",
   "metadata": {},
   "outputs": [],
   "source": [
    "t.isoformat()"
   ]
  },
  {
   "cell_type": "code",
   "execution_count": null,
   "id": "e62edd1a",
   "metadata": {},
   "outputs": [],
   "source": [
    "# Swap it back to UTC\n",
    "t = t.astimezone(datetime.timezone.utc)\n",
    "t.isoformat()"
   ]
  },
  {
   "cell_type": "markdown",
   "id": "4c407b5f",
   "metadata": {},
   "source": [
    "### When you want timzones in practise use dateutil or pytz"
   ]
  },
  {
   "cell_type": "code",
   "execution_count": null,
   "id": "669758c6",
   "metadata": {},
   "outputs": [],
   "source": [
    "import dateutil\n",
    "from dateutil.zoneinfo import get_zonefile_instance"
   ]
  },
  {
   "cell_type": "code",
   "execution_count": null,
   "id": "384d021c",
   "metadata": {},
   "outputs": [],
   "source": [
    "zonenames = list(get_zonefile_instance().zones)\n",
    "zonenames[:5]"
   ]
  },
  {
   "cell_type": "code",
   "execution_count": null,
   "id": "b3e40b59",
   "metadata": {},
   "outputs": [],
   "source": [
    "dateutil.tz.UTC"
   ]
  },
  {
   "cell_type": "code",
   "execution_count": null,
   "id": "5d8e1383",
   "metadata": {},
   "outputs": [],
   "source": [
    "europe_london = dateutil.tz.gettz(name='Europe/London')"
   ]
  },
  {
   "cell_type": "code",
   "execution_count": null,
   "id": "e00cdc3f",
   "metadata": {},
   "outputs": [],
   "source": [
    "now = datetime.datetime.now(tz=europe_london)\n",
    "now"
   ]
  },
  {
   "cell_type": "code",
   "execution_count": null,
   "id": "5a7f5251",
   "metadata": {},
   "outputs": [],
   "source": [
    "# Currently we are in day light savings i.e. +1\n",
    "now.dst()"
   ]
  },
  {
   "cell_type": "code",
   "execution_count": null,
   "id": "48366a11",
   "metadata": {},
   "outputs": [],
   "source": [
    "now.isoformat()"
   ]
  },
  {
   "cell_type": "markdown",
   "id": "c4f53f77",
   "metadata": {},
   "source": [
    "### Example"
   ]
  },
  {
   "cell_type": "code",
   "execution_count": null,
   "id": "6e36cb17",
   "metadata": {},
   "outputs": [],
   "source": [
    "my_birthday = datetime.date(today.year, 9, 16)\n",
    "if my_birthday < today:\n",
    "    my_birthday = my_birthday.replace(year=today.year + 1)\n",
    "my_birthday\n",
    "\n",
    "time_to_birthday = my_birthday - today\n",
    "time_to_birthday.days"
   ]
  },
  {
   "cell_type": "markdown",
   "id": "7d93ecb6",
   "metadata": {},
   "source": [
    "# Tada"
   ]
  }
 ],
 "metadata": {
  "kernelspec": {
   "display_name": "Python 3 (ipykernel)",
   "language": "python",
   "name": "python3"
  },
  "language_info": {
   "codemirror_mode": {
    "name": "ipython",
    "version": 3
   },
   "file_extension": ".py",
   "mimetype": "text/x-python",
   "name": "python",
   "nbconvert_exporter": "python",
   "pygments_lexer": "ipython3",
   "version": "3.10.2"
  },
  "toc": {
   "base_numbering": 1,
   "nav_menu": {},
   "number_sections": true,
   "sideBar": true,
   "skip_h1_title": false,
   "title_cell": "Table of Contents",
   "title_sidebar": "Contents",
   "toc_cell": false,
   "toc_position": {},
   "toc_section_display": true,
   "toc_window_display": true
  }
 },
 "nbformat": 4,
 "nbformat_minor": 5
}
