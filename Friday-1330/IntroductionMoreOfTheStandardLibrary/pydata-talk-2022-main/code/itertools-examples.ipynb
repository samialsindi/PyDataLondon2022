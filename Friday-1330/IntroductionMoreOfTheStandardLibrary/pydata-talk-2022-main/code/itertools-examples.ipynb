{
 "cells": [
  {
   "cell_type": "markdown",
   "id": "64a32f68",
   "metadata": {},
   "source": [
    "# itertools"
   ]
  },
  {
   "cell_type": "markdown",
   "id": "c2178666",
   "metadata": {},
   "source": [
    "This module implements a number of iterator building blocks!"
   ]
  },
  {
   "cell_type": "markdown",
   "id": "889d744d",
   "metadata": {},
   "source": [
    "For more information see documentation: https://docs.python.org/3/library/itertools.html"
   ]
  },
  {
   "cell_type": "code",
   "execution_count": null,
   "id": "ecb5681c",
   "metadata": {},
   "outputs": [],
   "source": [
    "import itertools"
   ]
  },
  {
   "cell_type": "code",
   "execution_count": null,
   "id": "f95306c4",
   "metadata": {},
   "outputs": [],
   "source": [
    "uk_cities = [\"London\", \"Berkhamsted\", \"Brighton\", \"Leeds\"]\n",
    "fr_cities = [\"Paris\", \"Bordeaux\"]\n",
    "us_cities = [\"New-york\", \"Boston\", \"Washington DC\"]\n",
    "\n",
    "country_cities = {\n",
    "    \"UK\": uk_cities,\n",
    "    \"FR\": fr_cities,\n",
    "    \"US\": us_cities,\n",
    "}"
   ]
  },
  {
   "cell_type": "markdown",
   "id": "970ada4a",
   "metadata": {},
   "source": [
    "## Quick asside -> What is an iterator?"
   ]
  },
  {
   "cell_type": "code",
   "execution_count": null,
   "id": "1fff5e77",
   "metadata": {},
   "outputs": [],
   "source": [
    "# An iterator implements two very special functions \n",
    "# __iter__ -> Must return an iterable\n",
    "# __next__ -> Steps through the iterator  "
   ]
  },
  {
   "cell_type": "code",
   "execution_count": null,
   "id": "e0ee5909",
   "metadata": {},
   "outputs": [],
   "source": [
    "uk_cities"
   ]
  },
  {
   "cell_type": "code",
   "execution_count": null,
   "id": "5aad4225",
   "metadata": {},
   "outputs": [],
   "source": [
    "uk_cities.__iter__"
   ]
  },
  {
   "cell_type": "code",
   "execution_count": null,
   "id": "28149dbb",
   "metadata": {},
   "outputs": [],
   "source": [
    "# What is really going on in this for loop?\n",
    "for item in uk_cities:\n",
    "    print(item)"
   ]
  },
  {
   "cell_type": "code",
   "execution_count": null,
   "id": "99f6ed87",
   "metadata": {},
   "outputs": [],
   "source": [
    "uk_cities"
   ]
  },
  {
   "cell_type": "code",
   "execution_count": null,
   "id": "032ccb2d",
   "metadata": {},
   "outputs": [],
   "source": [
    "uk_cities.__iter__()"
   ]
  },
  {
   "cell_type": "code",
   "execution_count": null,
   "id": "55429d10",
   "metadata": {},
   "outputs": [],
   "source": [
    "iter(uk_cities)"
   ]
  },
  {
   "cell_type": "code",
   "execution_count": null,
   "id": "1529e88d",
   "metadata": {},
   "outputs": [],
   "source": [
    "uk_city_iterator = iter(uk_cities)"
   ]
  },
  {
   "cell_type": "code",
   "execution_count": null,
   "id": "3209a6f5",
   "metadata": {},
   "outputs": [],
   "source": [
    "uk_city_iterator"
   ]
  },
  {
   "cell_type": "code",
   "execution_count": null,
   "id": "ae1406d3",
   "metadata": {},
   "outputs": [],
   "source": [
    "uk_city_iterator.__next__"
   ]
  },
  {
   "cell_type": "code",
   "execution_count": null,
   "id": "13df0535",
   "metadata": {},
   "outputs": [],
   "source": [
    "# iterator.__next__() or next(iterator)"
   ]
  },
  {
   "cell_type": "code",
   "execution_count": null,
   "id": "3d4b9d47",
   "metadata": {},
   "outputs": [],
   "source": [
    "next(uk_city_iterator)"
   ]
  },
  {
   "cell_type": "code",
   "execution_count": null,
   "id": "23c41106",
   "metadata": {},
   "outputs": [],
   "source": [
    "next(uk_city_iterator)"
   ]
  },
  {
   "cell_type": "code",
   "execution_count": null,
   "id": "ce8b4a52",
   "metadata": {},
   "outputs": [],
   "source": [
    "next(uk_city_iterator)"
   ]
  },
  {
   "cell_type": "code",
   "execution_count": null,
   "id": "428b7749",
   "metadata": {},
   "outputs": [],
   "source": [
    "next(uk_city_iterator)"
   ]
  },
  {
   "cell_type": "code",
   "execution_count": null,
   "id": "4e203465",
   "metadata": {},
   "outputs": [],
   "source": [
    "next(uk_city_iterator)"
   ]
  },
  {
   "cell_type": "code",
   "execution_count": null,
   "id": "9c978599",
   "metadata": {},
   "outputs": [],
   "source": [
    "uk_city_iterator = iter(uk_cities)\n",
    "\n",
    "while True:\n",
    "    try:\n",
    "        item = next(uk_city_iterator)\n",
    "        # This is now the same as the for block\n",
    "        print(item)\n",
    "    except StopIteration:\n",
    "        break"
   ]
  },
  {
   "cell_type": "code",
   "execution_count": null,
   "id": "7d3f545f",
   "metadata": {},
   "outputs": [],
   "source": [
    "class SimonIterator:\n",
    "    \"\"\"A silly example of an iterator class\"\"\"\n",
    "    \n",
    "    def __init__(self):\n",
    "        self.n = 0\n",
    "    \n",
    "    def __next__(self):\n",
    "        if self.n < 3:\n",
    "            self.n += 1\n",
    "            return 'SIMON'\n",
    "        raise StopIteration\n",
    "            \n",
    "    def __iter__(self):\n",
    "        return self               "
   ]
  },
  {
   "cell_type": "code",
   "execution_count": null,
   "id": "e098a839",
   "metadata": {},
   "outputs": [],
   "source": [
    "simon_factory = SimonIterator()"
   ]
  },
  {
   "cell_type": "code",
   "execution_count": null,
   "id": "05e65331",
   "metadata": {},
   "outputs": [],
   "source": [
    "for name in simon_factory:\n",
    "    print(name)"
   ]
  },
  {
   "cell_type": "markdown",
   "id": "27bd14d7",
   "metadata": {},
   "source": [
    "## Itertools fun 😃"
   ]
  },
  {
   "cell_type": "markdown",
   "id": "ec3e1775",
   "metadata": {},
   "source": [
    "### Accumulate"
   ]
  },
  {
   "cell_type": "code",
   "execution_count": null,
   "id": "11b80510",
   "metadata": {},
   "outputs": [],
   "source": [
    "# itertools.accumulate([1,2,3,4,5]) --> 1 3 6 10 15\n",
    "# itertools.accumulate([1,2,3,4,5], initial=100) --> 100 101 103 106 110 115\n",
    "# itertools.accumulate([1,2,3,4,5], operator.mul) --> 1 2 6 24 120"
   ]
  },
  {
   "cell_type": "code",
   "execution_count": null,
   "id": "d115cd53",
   "metadata": {},
   "outputs": [],
   "source": [
    "list(itertools.accumulate([1,2,3,4,5]))"
   ]
  },
  {
   "cell_type": "code",
   "execution_count": null,
   "id": "bf9610cf",
   "metadata": {},
   "outputs": [],
   "source": [
    "# Note this is similar to functools.reduce() but reduce only gives the last result."
   ]
  },
  {
   "cell_type": "markdown",
   "id": "cf52a1cc",
   "metadata": {},
   "source": [
    "### Chain"
   ]
  },
  {
   "cell_type": "code",
   "execution_count": null,
   "id": "c7e9bf53",
   "metadata": {},
   "outputs": [],
   "source": [
    "# itertools.chain('ABC', 'DEF') --> A B C D E F"
   ]
  },
  {
   "cell_type": "code",
   "execution_count": null,
   "id": "b561e895",
   "metadata": {},
   "outputs": [],
   "source": [
    "itertools.chain(uk_cities, fr_cities, us_cities) # again note lazy!"
   ]
  },
  {
   "cell_type": "code",
   "execution_count": null,
   "id": "b79b6b39",
   "metadata": {},
   "outputs": [],
   "source": [
    "for city in itertools.chain(uk_cities, fr_cities, us_cities):\n",
    "    print(city)"
   ]
  },
  {
   "cell_type": "markdown",
   "id": "00a206f2",
   "metadata": {},
   "source": [
    "### Count"
   ]
  },
  {
   "cell_type": "code",
   "execution_count": null,
   "id": "f1f29134",
   "metadata": {},
   "outputs": [],
   "source": [
    "# itertools.count(3) -> 3, 4, 5, 6, ..."
   ]
  },
  {
   "cell_type": "code",
   "execution_count": null,
   "id": "372c7f96",
   "metadata": {},
   "outputs": [],
   "source": [
    "for n in itertools.count(start=1, step=1):\n",
    "    print(f\"{n=}\")\n",
    "    if n == 5:\n",
    "        break"
   ]
  },
  {
   "cell_type": "code",
   "execution_count": null,
   "id": "d325b315",
   "metadata": {},
   "outputs": [],
   "source": [
    "n = 1\n",
    "while n < 6:\n",
    "    print(f\"{n=}\")\n",
    "    if n == 5:\n",
    "        break\n",
    "    n += 1"
   ]
  },
  {
   "cell_type": "markdown",
   "id": "8658d3ad",
   "metadata": {},
   "source": [
    "### Combinations"
   ]
  },
  {
   "cell_type": "code",
   "execution_count": null,
   "id": "bb692f28",
   "metadata": {},
   "outputs": [],
   "source": [
    "list(itertools.combinations(uk_cities, 3))"
   ]
  },
  {
   "cell_type": "code",
   "execution_count": null,
   "id": "dfe6ea72",
   "metadata": {},
   "outputs": [],
   "source": [
    "list(itertools.combinations_with_replacement(uk_cities, 2))"
   ]
  },
  {
   "cell_type": "markdown",
   "id": "1339450c",
   "metadata": {},
   "source": [
    "### Compress"
   ]
  },
  {
   "cell_type": "code",
   "execution_count": null,
   "id": "619d9d88",
   "metadata": {},
   "outputs": [],
   "source": [
    "uk_cities"
   ]
  },
  {
   "cell_type": "code",
   "execution_count": null,
   "id": "61764c4a",
   "metadata": {},
   "outputs": [],
   "source": [
    "selectors = [False, True, True, False]"
   ]
  },
  {
   "cell_type": "code",
   "execution_count": null,
   "id": "565c5a67",
   "metadata": {},
   "outputs": [],
   "source": [
    "list(itertools.compress(uk_cities, selectors))"
   ]
  },
  {
   "cell_type": "code",
   "execution_count": null,
   "id": "599ebd9e",
   "metadata": {},
   "outputs": [],
   "source": [
    "# mannually without itertools\n",
    "[city for city, selector in zip(uk_cities, selectors) if selector]"
   ]
  },
  {
   "cell_type": "markdown",
   "id": "1af4df70",
   "metadata": {},
   "source": [
    "###  Cycle"
   ]
  },
  {
   "cell_type": "code",
   "execution_count": null,
   "id": "262db3e5",
   "metadata": {},
   "outputs": [],
   "source": [
    "# itertools.cycle(['A', 'B', 'C']) -> 'A', 'B', 'C', 'A', 'B', 'C', ..."
   ]
  },
  {
   "cell_type": "code",
   "execution_count": null,
   "id": "9d4e6a43",
   "metadata": {},
   "outputs": [],
   "source": [
    "import random"
   ]
  },
  {
   "cell_type": "code",
   "execution_count": null,
   "id": "298fc245",
   "metadata": {},
   "outputs": [],
   "source": [
    "def player_move(player):\n",
    "    if random.randint(1, 4) == 1:\n",
    "        print(f\"Player {player} moved and won!\")\n",
    "        return True\n",
    "    else:\n",
    "        print(f\"Player {player} moved\")\n",
    "        return False"
   ]
  },
  {
   "cell_type": "code",
   "execution_count": null,
   "id": "fc95e55f",
   "metadata": {},
   "outputs": [],
   "source": [
    "for player in itertools.cycle([\"A\", \"B\"]):\n",
    "    if player_move(player):\n",
    "        break"
   ]
  },
  {
   "cell_type": "markdown",
   "id": "0c8d08cc",
   "metadata": {},
   "source": [
    "### Drop while"
   ]
  },
  {
   "cell_type": "code",
   "execution_count": null,
   "id": "3c998005",
   "metadata": {},
   "outputs": [],
   "source": [
    "list(itertools.dropwhile(lambda x: x < 5, [1, 2, 3, 4, 5, 6, 7, 8]))"
   ]
  },
  {
   "cell_type": "markdown",
   "id": "d9f5a912",
   "metadata": {},
   "source": [
    "### Filter false"
   ]
  },
  {
   "cell_type": "code",
   "execution_count": null,
   "id": "49885aba",
   "metadata": {},
   "outputs": [],
   "source": [
    "list(itertools.filterfalse(lambda x: x % 2 == 0, [1, 2, 3, 3, 4, 5, 6]))"
   ]
  },
  {
   "cell_type": "markdown",
   "id": "d895c5f1",
   "metadata": {},
   "source": [
    "### Groupby"
   ]
  },
  {
   "cell_type": "code",
   "execution_count": null,
   "id": "b08c8575",
   "metadata": {},
   "outputs": [],
   "source": [
    "list(itertools.groupby('MISSISSIPPI'))"
   ]
  },
  {
   "cell_type": "code",
   "execution_count": null,
   "id": "6247a311",
   "metadata": {},
   "outputs": [],
   "source": [
    "for key, group in itertools.groupby('MISSISSIPPI'):\n",
    "    print(f'A group of {key} with {list(group)}')"
   ]
  },
  {
   "cell_type": "markdown",
   "id": "7594de81",
   "metadata": {},
   "source": [
    "### islice"
   ]
  },
  {
   "cell_type": "code",
   "execution_count": null,
   "id": "2deec966",
   "metadata": {},
   "outputs": [],
   "source": [
    "uk_cities"
   ]
  },
  {
   "cell_type": "code",
   "execution_count": null,
   "id": "8c0e89b8",
   "metadata": {},
   "outputs": [],
   "source": [
    "list(itertools.islice(uk_cities, 1, 3))"
   ]
  },
  {
   "cell_type": "code",
   "execution_count": null,
   "id": "3b01e4b5",
   "metadata": {},
   "outputs": [],
   "source": [
    "# Why not just?:\n",
    "uk_cities[7:]"
   ]
  },
  {
   "cell_type": "code",
   "execution_count": null,
   "id": "d345a951",
   "metadata": {},
   "outputs": [],
   "source": [
    "y = uk_cities[2:]"
   ]
  },
  {
   "cell_type": "code",
   "execution_count": null,
   "id": "28734471",
   "metadata": {},
   "outputs": [],
   "source": [
    "id(uk_cities)"
   ]
  },
  {
   "cell_type": "code",
   "execution_count": null,
   "id": "081a00d2",
   "metadata": {},
   "outputs": [],
   "source": [
    "id(y)"
   ]
  },
  {
   "cell_type": "code",
   "execution_count": null,
   "id": "6270344d",
   "metadata": {},
   "outputs": [],
   "source": [
    "for city in uk_cities[7:]:\n",
    "    test(city)"
   ]
  },
  {
   "cell_type": "code",
   "execution_count": null,
   "id": "98d84844",
   "metadata": {},
   "outputs": [],
   "source": [
    "uk_cities[1:3] # This makes a new list \n",
    "itertools.islice(uk_cities, 1, 3) \n",
    "# This just returns an iterator so no extra memory"
   ]
  },
  {
   "cell_type": "markdown",
   "id": "f12167ba",
   "metadata": {},
   "source": [
    "## Pairwise"
   ]
  },
  {
   "cell_type": "code",
   "execution_count": null,
   "id": "f9e88b48",
   "metadata": {},
   "outputs": [],
   "source": [
    "uk_cities"
   ]
  },
  {
   "cell_type": "code",
   "execution_count": null,
   "id": "6825985f",
   "metadata": {},
   "outputs": [],
   "source": [
    "list(itertools.pairwise(uk_cities))"
   ]
  },
  {
   "cell_type": "code",
   "execution_count": null,
   "id": "cafdef3e",
   "metadata": {},
   "outputs": [],
   "source": [
    "# Again we could just do this but it creates a new list using memory\n",
    "[(city1, city2) for city1, city2 in zip(uk_cities, uk_cities[1:])]"
   ]
  },
  {
   "cell_type": "markdown",
   "id": "fa5b079a",
   "metadata": {},
   "source": [
    "### Permutations"
   ]
  },
  {
   "cell_type": "code",
   "execution_count": null,
   "id": "3b03a75a",
   "metadata": {},
   "outputs": [],
   "source": [
    "# Order is important in permutations.\n",
    "list(itertools.permutations(uk_cities, r=2))"
   ]
  },
  {
   "cell_type": "code",
   "execution_count": null,
   "id": "10379de6",
   "metadata": {},
   "outputs": [],
   "source": [
    "list(itertools.product(uk_cities, fr_cities))"
   ]
  },
  {
   "cell_type": "code",
   "execution_count": null,
   "id": "f96936ce",
   "metadata": {},
   "outputs": [],
   "source": [
    "# Can also use repeat arg which is useful.\n",
    "list(itertools.product(fr_cities, repeat=2))"
   ]
  },
  {
   "cell_type": "markdown",
   "id": "9729601b",
   "metadata": {},
   "source": [
    "### Repeat"
   ]
  },
  {
   "cell_type": "code",
   "execution_count": null,
   "id": "c8f6f19b",
   "metadata": {},
   "outputs": [],
   "source": [
    "# itertools.repeat(object) -> object, object, object, ..."
   ]
  },
  {
   "cell_type": "code",
   "execution_count": null,
   "id": "0913ce54",
   "metadata": {},
   "outputs": [],
   "source": [
    "itertools.repeat('Simon', 3_000_000_000) # note this is lazy!"
   ]
  },
  {
   "cell_type": "code",
   "execution_count": null,
   "id": "1e09b32f",
   "metadata": {},
   "outputs": [],
   "source": [
    "list(itertools.repeat('Simon', 3))"
   ]
  },
  {
   "cell_type": "markdown",
   "id": "15cff642",
   "metadata": {},
   "source": [
    "### Zip Longest"
   ]
  },
  {
   "cell_type": "code",
   "execution_count": null,
   "id": "591ba28c",
   "metadata": {},
   "outputs": [],
   "source": [
    "uk_cities"
   ]
  },
  {
   "cell_type": "code",
   "execution_count": null,
   "id": "263ec7eb",
   "metadata": {},
   "outputs": [],
   "source": [
    "fr_cities"
   ]
  },
  {
   "cell_type": "code",
   "execution_count": null,
   "id": "7c8dbf13",
   "metadata": {},
   "outputs": [],
   "source": [
    "# Note we lost Brighton and Leeds.\n",
    "list(zip(uk_cities, fr_cities))"
   ]
  },
  {
   "cell_type": "code",
   "execution_count": null,
   "id": "b98e0624",
   "metadata": {},
   "outputs": [],
   "source": [
    "list(itertools.zip_longest(uk_cities, fr_cities))"
   ]
  },
  {
   "cell_type": "code",
   "execution_count": null,
   "id": "da141fd3",
   "metadata": {},
   "outputs": [],
   "source": [
    "# Also you might want an error\n",
    "list(zip(uk_cities, fr_cities, strict=True))"
   ]
  },
  {
   "cell_type": "markdown",
   "id": "2456f038",
   "metadata": {},
   "source": [
    "## Fake example problems"
   ]
  },
  {
   "cell_type": "code",
   "execution_count": null,
   "id": "782078ae",
   "metadata": {},
   "outputs": [],
   "source": [
    "# Imagine we want to create a odd numbered list of cities in the UK"
   ]
  },
  {
   "cell_type": "code",
   "execution_count": null,
   "id": "dcbc4e85",
   "metadata": {},
   "outputs": [],
   "source": [
    "n = 1\n",
    "for city in country_cities['UK']:\n",
    "    print(f\"{n} - {city}\")\n",
    "    n = n + 2"
   ]
  },
  {
   "cell_type": "code",
   "execution_count": null,
   "id": "18260f0b",
   "metadata": {},
   "outputs": [],
   "source": [
    "odd_counter = itertools.count(1, step=2)\n",
    "for n, city in zip(odd_counter, country_cities['UK']):\n",
    "    print(f\"{n} - {city}\")"
   ]
  },
  {
   "cell_type": "code",
   "execution_count": null,
   "id": "cad08857",
   "metadata": {},
   "outputs": [],
   "source": [
    "# Or more pythonically without itertools\n",
    "for n, city in enumerate(country_cities['UK']):\n",
    "    print(f\"{n * 2 + 1} - {city}\")"
   ]
  },
  {
   "cell_type": "code",
   "execution_count": null,
   "id": "d7a29b10",
   "metadata": {},
   "outputs": [],
   "source": [
    "# Imagine we want [('UK', 'London'), ('UK', 'Berkhamsted'), ('UK', 'Brighton'), ('UK', 'Leeds')]"
   ]
  },
  {
   "cell_type": "code",
   "execution_count": null,
   "id": "cc38ba56",
   "metadata": {},
   "outputs": [],
   "source": [
    "# pure python\n",
    "[(\"UK\", city) for city in  uk_cities]"
   ]
  },
  {
   "cell_type": "code",
   "execution_count": null,
   "id": "708d3281",
   "metadata": {},
   "outputs": [],
   "source": [
    "list(zip(itertools.repeat(\"UK\"), uk_cities))"
   ]
  },
  {
   "cell_type": "markdown",
   "id": "d4cb4a05-3f21-4b39-9533-cc90cab45c59",
   "metadata": {},
   "source": [
    "# End"
   ]
  }
 ],
 "metadata": {
  "kernelspec": {
   "display_name": "Python 3 (ipykernel)",
   "language": "python",
   "name": "python3"
  },
  "language_info": {
   "codemirror_mode": {
    "name": "ipython",
    "version": 3
   },
   "file_extension": ".py",
   "mimetype": "text/x-python",
   "name": "python",
   "nbconvert_exporter": "python",
   "pygments_lexer": "ipython3",
   "version": "3.10.2"
  },
  "toc": {
   "base_numbering": 1,
   "nav_menu": {},
   "number_sections": true,
   "sideBar": true,
   "skip_h1_title": false,
   "title_cell": "Table of Contents",
   "title_sidebar": "Contents",
   "toc_cell": false,
   "toc_position": {},
   "toc_section_display": true,
   "toc_window_display": false
  }
 },
 "nbformat": 4,
 "nbformat_minor": 5
}
