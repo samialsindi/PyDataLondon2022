{
 "cells": [
  {
   "cell_type": "markdown",
   "id": "f321852d",
   "metadata": {},
   "source": [
    "# functools"
   ]
  },
  {
   "cell_type": "markdown",
   "id": "1b858df0",
   "metadata": {},
   "source": [
    "The functools module is for higher-order functions: functions that act on or return other functions. In general, any callable object can be treated as a function for the purposes of this module.\n",
    "\n",
    "For more information see the documentation: https://docs.python.org/3/library/functools.html"
   ]
  },
  {
   "cell_type": "code",
   "execution_count": null,
   "id": "29255b81",
   "metadata": {},
   "outputs": [],
   "source": [
    "import functools"
   ]
  },
  {
   "cell_type": "markdown",
   "id": "6d016c6d",
   "metadata": {},
   "source": [
    "### lru_cache, cache and cached property"
   ]
  },
  {
   "cell_type": "markdown",
   "id": "7f992ad6",
   "metadata": {},
   "source": [
    "Last recent cache - is a decorator to wrap a function with a memoizing callable that saves up to the maxsize most recent calls."
   ]
  },
  {
   "cell_type": "code",
   "execution_count": null,
   "id": "77c29f33",
   "metadata": {},
   "outputs": [],
   "source": [
    "def factorial(n):\n",
    "    return n * factorial(n-1) if n else 1"
   ]
  },
  {
   "cell_type": "code",
   "execution_count": null,
   "id": "9b6a4850",
   "metadata": {},
   "outputs": [],
   "source": [
    "@functools.lru_cache(maxsize=None)\n",
    "def fast_factorial(n):\n",
    "    return n * factorial(n-1) if n else 1\n"
   ]
  },
  {
   "cell_type": "code",
   "execution_count": null,
   "id": "351385b2",
   "metadata": {},
   "outputs": [],
   "source": [
    "%timeit factorial(1000)"
   ]
  },
  {
   "cell_type": "code",
   "execution_count": null,
   "id": "cf25795f",
   "metadata": {},
   "outputs": [],
   "source": [
    "%timeit fast_factorial(1000)"
   ]
  },
  {
   "cell_type": "code",
   "execution_count": null,
   "id": "1a67f044",
   "metadata": {},
   "outputs": [],
   "source": [
    "# Added in python 3.9 a simple cache - no maxsize!\n",
    "@functools.cache\n",
    "def fast_factorial(n):\n",
    "    return n * factorial(n-1) if n else 1"
   ]
  },
  {
   "cell_type": "code",
   "execution_count": null,
   "id": "2bfb2634",
   "metadata": {},
   "outputs": [],
   "source": [
    "class Student:\n",
    "    \n",
    "    def __init__(self, name:str, test_scores:list[int], on_vacation=False):\n",
    "        self.name = name\n",
    "        self.test_scores = test_scores\n",
    "        self._on_vacation = on_vacation\n",
    "    \n",
    "    @property\n",
    "    def on_vacation(self):\n",
    "        return self._on_vacation\n",
    "    \n",
    "    def __repr__(self):\n",
    "        return f'Student(name={self.name})'\n",
    "    \n",
    "    @property\n",
    "    def mean_test_score(self):\n",
    "        return sum(x for x in self.test_scores) / len(self.test_scores)\n"
   ]
  },
  {
   "cell_type": "code",
   "execution_count": null,
   "id": "32133181",
   "metadata": {},
   "outputs": [],
   "source": [
    "import random\n",
    "\n",
    "scores = random.choices(range(100), k=200)\n",
    "name = random.choice([\"Tom\", \"Sam\", \"Sarah\"])"
   ]
  },
  {
   "cell_type": "code",
   "execution_count": null,
   "id": "0fe9a09a",
   "metadata": {},
   "outputs": [],
   "source": [
    "# scores"
   ]
  },
  {
   "cell_type": "code",
   "execution_count": null,
   "id": "5fb916f7",
   "metadata": {},
   "outputs": [],
   "source": [
    "random_student = Student(name, scores)"
   ]
  },
  {
   "cell_type": "code",
   "execution_count": null,
   "id": "fda27005",
   "metadata": {},
   "outputs": [],
   "source": [
    "random_student"
   ]
  },
  {
   "cell_type": "code",
   "execution_count": null,
   "id": "7e5c904e",
   "metadata": {},
   "outputs": [],
   "source": [
    "random_student.mean_test_score"
   ]
  },
  {
   "cell_type": "code",
   "execution_count": null,
   "id": "fbd40b7f",
   "metadata": {},
   "outputs": [],
   "source": [
    "%timeit random_student.mean_test_score"
   ]
  },
  {
   "cell_type": "code",
   "execution_count": null,
   "id": "96e7476e",
   "metadata": {},
   "outputs": [],
   "source": [
    "class Student:\n",
    "    \n",
    "    def __init__(self, name:str, test_scores:list[int], on_vacation=False):\n",
    "        self.name = name\n",
    "        self.test_scores = test_scores\n",
    "        self._on_vacation = on_vacation\n",
    "    \n",
    "    @property\n",
    "    def on_vacation(self):\n",
    "        return self._on_vacation\n",
    "        \n",
    "    @on_vacation.setter\n",
    "    def on_vacation(self, status:bool):\n",
    "        print(f'Setting on_vacation to {status}')\n",
    "        self._on_vacation = status\n",
    "    \n",
    "    def __repr__(self):\n",
    "        return f'Student(name={self.name})'\n",
    "    \n",
    "    @functools.cached_property\n",
    "    def mean_test_score(self):\n",
    "        return sum(x for x in self.test_scores) / len(self.test_scores)"
   ]
  },
  {
   "cell_type": "code",
   "execution_count": null,
   "id": "0e0f8a8a",
   "metadata": {},
   "outputs": [],
   "source": [
    "random_student = Student(name, scores)"
   ]
  },
  {
   "cell_type": "code",
   "execution_count": null,
   "id": "5eddbf18",
   "metadata": {},
   "outputs": [],
   "source": [
    "%timeit random_student.mean_test_score"
   ]
  },
  {
   "cell_type": "code",
   "execution_count": null,
   "id": "90ce9f9f",
   "metadata": {},
   "outputs": [],
   "source": [
    "random_student.mean_test_score"
   ]
  },
  {
   "cell_type": "code",
   "execution_count": null,
   "id": "8f133f8e",
   "metadata": {},
   "outputs": [],
   "source": [
    "random_student.test_scores.append(10000)"
   ]
  },
  {
   "cell_type": "code",
   "execution_count": null,
   "id": "f93283f3",
   "metadata": {},
   "outputs": [],
   "source": [
    "random_student.mean_test_score"
   ]
  },
  {
   "cell_type": "code",
   "execution_count": null,
   "id": "e928ce5b",
   "metadata": {},
   "outputs": [],
   "source": [
    "# Deleting forces the re-calculation.\n",
    "del random_student.mean_test_score"
   ]
  },
  {
   "cell_type": "code",
   "execution_count": null,
   "id": "6e5cea31",
   "metadata": {},
   "outputs": [],
   "source": [
    "random_student.mean_test_score"
   ]
  },
  {
   "cell_type": "markdown",
   "id": "22c3f951",
   "metadata": {},
   "source": [
    "### total ordering"
   ]
  },
  {
   "cell_type": "code",
   "execution_count": null,
   "id": "d1fe8c83",
   "metadata": {},
   "outputs": [],
   "source": [
    "newton = Student(\"Newton\", [99, 99, 99, 100, 96])"
   ]
  },
  {
   "cell_type": "code",
   "execution_count": null,
   "id": "d7a7d944",
   "metadata": {},
   "outputs": [],
   "source": [
    "random_student < newton"
   ]
  },
  {
   "cell_type": "code",
   "execution_count": null,
   "id": "f77a8563",
   "metadata": {},
   "outputs": [],
   "source": [
    "class Student:\n",
    "    \n",
    "    def __init__(self, name:str, test_scores:list[int], on_vacation=False):\n",
    "        self.name = name\n",
    "        self.test_scores = test_scores\n",
    "        self._on_vacation = on_vacation\n",
    "    \n",
    "    @property\n",
    "    def on_vacation(self):\n",
    "        return self._on_vacation\n",
    "        \n",
    "    @on_vacation.setter\n",
    "    def on_vacation(self, status:bool):\n",
    "        print(f'Setting on_vacation to {status}')\n",
    "        self._on_vacation = status\n",
    "    \n",
    "    def __repr__(self):\n",
    "        return f'Student(name={self.name})'\n",
    "    \n",
    "    @functools.cached_property\n",
    "    def mean_test_score(self):\n",
    "        return sum(x for x in self.test_scores) / len(self.test_scores)\n",
    "    \n",
    "    def _is_valid_operand(self, other):\n",
    "        return hasattr(other, \"mean_test_score\")\n",
    "        \n",
    "    def __lt__(self, other: Student):\n",
    "        if not self._is_valid_operand(other):\n",
    "            return NotImplemented\n",
    "        return self.mean_test_score < other.mean_test_score\n",
    "\n",
    "    def __le__(self, other: Student):\n",
    "        if not self._is_valid_operand(other):\n",
    "            return NotImplemented\n",
    "        return self.mean_test_score <= other.mean_test_score\n",
    "    \n",
    "    def __gt__(self, other: Student):\n",
    "        if not self._is_valid_operand(other):\n",
    "            return NotImplemented\n",
    "        return self.mean_test_score > other.mean_test_score\n",
    "\n",
    "    def __ge__(self, other: Student):\n",
    "        if not self._is_valid_operand(other):\n",
    "            return NotImplemented\n",
    "        return self.mean_test_score >= other.mean_test_score\n",
    "\n",
    "    def __eq__(self, other: Student):\n",
    "        if not self._is_valid_operand(other):\n",
    "            return NotImplemented\n",
    "        return self.mean_test_score == other.mean_test_score"
   ]
  },
  {
   "cell_type": "code",
   "execution_count": null,
   "id": "478d0399",
   "metadata": {},
   "outputs": [],
   "source": [
    "random_student = Student(\"Random\", scores)"
   ]
  },
  {
   "cell_type": "code",
   "execution_count": null,
   "id": "f3c586dc",
   "metadata": {},
   "outputs": [],
   "source": [
    "newton = Student(\"Smartie\", [99, 99, 99, 100, 96])"
   ]
  },
  {
   "cell_type": "code",
   "execution_count": null,
   "id": "1c5aa5d8",
   "metadata": {},
   "outputs": [],
   "source": [
    "random_student > newton"
   ]
  },
  {
   "cell_type": "code",
   "execution_count": null,
   "id": "bee6dfb9",
   "metadata": {},
   "outputs": [],
   "source": [
    "# Same as \n",
    "random_student.__gt__(newton)"
   ]
  },
  {
   "cell_type": "code",
   "execution_count": null,
   "id": "47825354",
   "metadata": {},
   "outputs": [],
   "source": [
    "@functools.total_ordering\n",
    "class Student:\n",
    "    \n",
    "    def __init__(self, name:str, test_scores:list[int], on_vacation=False):\n",
    "        self.name = name\n",
    "        self.test_scores = test_scores\n",
    "        self._on_vacation = on_vacation\n",
    "    \n",
    "    @property\n",
    "    def on_vacation(self):\n",
    "        return self._on_vacation\n",
    "        \n",
    "    @on_vacation.setter\n",
    "    def on_vacation(self, status:bool):\n",
    "        print(f'Setting on_vacation to {status}')\n",
    "        self._on_vacation = status\n",
    "    \n",
    "    def __repr__(self):\n",
    "        return f'Student(name={self.name})'\n",
    "    \n",
    "    @functools.cached_property\n",
    "    def mean_test_score(self):\n",
    "        return sum(x for x in self.test_scores) / len(self.test_scores)\n",
    "\n",
    "    @functools.cached_property\n",
    "    def mean_test_score(self):\n",
    "        return sum(x for x in self.test_scores) / len(self.test_scores)\n",
    "    \n",
    "    def _is_valid_operand(self, other):\n",
    "        return hasattr(other, \"mean_test_score\")\n",
    "        \n",
    "    def __lt__(self, other: Student):\n",
    "        if not self._is_valid_operand(other):\n",
    "            return NotImplemented\n",
    "        return self.mean_test_score < other.mean_test_score\n"
   ]
  },
  {
   "cell_type": "code",
   "execution_count": null,
   "id": "71d95dba",
   "metadata": {},
   "outputs": [],
   "source": [
    "# Because Greater than is the same as not less than and not equal."
   ]
  },
  {
   "cell_type": "code",
   "execution_count": null,
   "id": "bed8b94c",
   "metadata": {},
   "outputs": [],
   "source": [
    "# Student.__gt__??"
   ]
  },
  {
   "cell_type": "code",
   "execution_count": null,
   "id": "cb00db49",
   "metadata": {},
   "outputs": [],
   "source": [
    "random_student = Student(name, scores)"
   ]
  },
  {
   "cell_type": "code",
   "execution_count": null,
   "id": "dd42d88d",
   "metadata": {},
   "outputs": [],
   "source": [
    "newton = Student(\"Newton\", [99, 99, 99, 100, 96])"
   ]
  },
  {
   "cell_type": "code",
   "execution_count": null,
   "id": "171ba7b4",
   "metadata": {},
   "outputs": [],
   "source": [
    "random_student > newton"
   ]
  },
  {
   "cell_type": "markdown",
   "id": "c15e929e",
   "metadata": {},
   "source": [
    "### partial and partialmethod"
   ]
  },
  {
   "cell_type": "code",
   "execution_count": null,
   "id": "ecdb13d8",
   "metadata": {},
   "outputs": [],
   "source": [
    "def is_pass(student: Student, pass_mark = 60):\n",
    "    passed = student.mean_test_score > pass_mark\n",
    "    print((f'{student.name} has test score '\n",
    "          f\"{'above' if passed else 'below'} {pass_mark}\"))\n",
    "    return passed"
   ]
  },
  {
   "cell_type": "code",
   "execution_count": null,
   "id": "c892889f",
   "metadata": {},
   "outputs": [],
   "source": [
    "is_pass(random_student)"
   ]
  },
  {
   "cell_type": "code",
   "execution_count": null,
   "id": "ea43522d",
   "metadata": {},
   "outputs": [],
   "source": [
    "is_pass(newton)"
   ]
  },
  {
   "cell_type": "code",
   "execution_count": null,
   "id": "2c577e4a",
   "metadata": {},
   "outputs": [],
   "source": [
    "def is_top_set(student: Student):\n",
    "    return is_pass(student, 30)"
   ]
  },
  {
   "cell_type": "code",
   "execution_count": null,
   "id": "a5ef25b8",
   "metadata": {},
   "outputs": [],
   "source": [
    "is_top_set(newton)"
   ]
  },
  {
   "cell_type": "code",
   "execution_count": null,
   "id": "c8e82ac2",
   "metadata": {},
   "outputs": [],
   "source": [
    "is_top_set = functools.partial(is_pass, pass_mark=80)"
   ]
  },
  {
   "cell_type": "code",
   "execution_count": null,
   "id": "5ea0551e",
   "metadata": {},
   "outputs": [],
   "source": [
    "is_top_set(newton)"
   ]
  },
  {
   "cell_type": "code",
   "execution_count": null,
   "id": "d12fd99e",
   "metadata": {},
   "outputs": [],
   "source": [
    "# Partial method example."
   ]
  },
  {
   "cell_type": "code",
   "execution_count": null,
   "id": "8fb7a063",
   "metadata": {},
   "outputs": [],
   "source": [
    "@functools.total_ordering\n",
    "class Student:\n",
    "    \n",
    "    def __init__(self, name:str, test_scores:list[int], on_vacation=False):\n",
    "        self.name = name\n",
    "        self.test_scores = test_scores\n",
    "        self._on_vacation = on_vacation\n",
    "    \n",
    "    @property\n",
    "    def on_vacation(self):\n",
    "        return self._on_vacation\n",
    "        \n",
    "    def set_vacation_status(self, status:bool):\n",
    "        print(f'Setting on_vacation to {status}')\n",
    "        self._on_vacation = status\n",
    "    \n",
    "    back_from_hol = functools.partialmethod(set_vacation_status, False)\n",
    "    on_hol = functools.partialmethod(set_vacation_status, True)\n",
    "    \n",
    "    def __repr__(self):\n",
    "        return f'Student(name={self.name})'\n",
    "    \n",
    "    @functools.cached_property\n",
    "    def mean_test_score(self):\n",
    "        return sum(x for x in self.test_scores) / len(self.test_scores)\n",
    "\n",
    "    @functools.cached_property\n",
    "    def mean_test_score(self):\n",
    "        return sum(x for x in self.test_scores) / len(self.test_scores)\n",
    "    \n",
    "    def _is_valid_operand(self, other):\n",
    "        return hasattr(other, \"mean_test_score\")\n",
    "        \n",
    "    def __lt__(self, other: Student):\n",
    "        if not self._is_valid_operand(other):\n",
    "            return NotImplemented\n",
    "        return self.mean_test_score < other.mean_test_score"
   ]
  },
  {
   "cell_type": "code",
   "execution_count": null,
   "id": "95b4938f",
   "metadata": {},
   "outputs": [],
   "source": [
    "random_student = Student(name, scores)"
   ]
  },
  {
   "cell_type": "code",
   "execution_count": null,
   "id": "bb27d342",
   "metadata": {},
   "outputs": [],
   "source": [
    "random_student.set_vacation_status(True)"
   ]
  },
  {
   "cell_type": "code",
   "execution_count": null,
   "id": "88daf0f4",
   "metadata": {},
   "outputs": [],
   "source": [
    "random_student.on_hol()"
   ]
  },
  {
   "cell_type": "code",
   "execution_count": null,
   "id": "0ee22363",
   "metadata": {},
   "outputs": [],
   "source": [
    "random_student.back_from_hol()"
   ]
  },
  {
   "cell_type": "markdown",
   "id": "2f344305",
   "metadata": {},
   "source": [
    "### reduce"
   ]
  },
  {
   "cell_type": "code",
   "execution_count": null,
   "id": "de18e245",
   "metadata": {},
   "outputs": [],
   "source": [
    "def noisy_add(a, b):\n",
    "    a_add_b = a + b\n",
    "    print(f'Adding {a} and {b} to get {a_add_b}')\n",
    "    return a_add_b"
   ]
  },
  {
   "cell_type": "code",
   "execution_count": null,
   "id": "7dba951c",
   "metadata": {},
   "outputs": [],
   "source": [
    "noisy_add(3, 4)"
   ]
  },
  {
   "cell_type": "code",
   "execution_count": null,
   "id": "ac6f26c6",
   "metadata": {},
   "outputs": [],
   "source": [
    "# sudo code from the docs.\n",
    "def reduce(function, iterable, initializer=None):\n",
    "    it = iter(iterable)\n",
    "    if initializer is None:\n",
    "        value = next(it)\n",
    "    else:\n",
    "        value = initializer\n",
    "    for element in it:\n",
    "        value = function(value, element)\n",
    "    return value"
   ]
  },
  {
   "cell_type": "code",
   "execution_count": null,
   "id": "ef95a0a8",
   "metadata": {},
   "outputs": [],
   "source": [
    "functools.reduce(noisy_add, [4, 72, 12, 63])"
   ]
  },
  {
   "cell_type": "code",
   "execution_count": null,
   "id": "44881f5b",
   "metadata": {},
   "outputs": [],
   "source": [
    "functools.reduce(noisy_add, [4, 72, 12, 63], 100)"
   ]
  },
  {
   "cell_type": "markdown",
   "id": "c6863387",
   "metadata": {},
   "source": [
    "### singledispatch and singledispatchmethod"
   ]
  },
  {
   "cell_type": "code",
   "execution_count": null,
   "id": "4c53d940",
   "metadata": {},
   "outputs": [],
   "source": [
    "@functools.singledispatch\n",
    "def trim(a : int, n=5):\n",
    "    if a > n:\n",
    "        return n\n",
    "    elif a < -n:\n",
    "        return -n\n",
    "    else:\n",
    "        return a"
   ]
  },
  {
   "cell_type": "code",
   "execution_count": null,
   "id": "154be5c7",
   "metadata": {},
   "outputs": [],
   "source": [
    "trim(3)"
   ]
  },
  {
   "cell_type": "code",
   "execution_count": null,
   "id": "4c09cc1b",
   "metadata": {},
   "outputs": [],
   "source": [
    "trim(9)"
   ]
  },
  {
   "cell_type": "code",
   "execution_count": null,
   "id": "e0866504",
   "metadata": {},
   "outputs": [],
   "source": [
    "trim(23, n=20)"
   ]
  },
  {
   "cell_type": "code",
   "execution_count": null,
   "id": "944b320b",
   "metadata": {},
   "outputs": [],
   "source": [
    "from collections import abc"
   ]
  },
  {
   "cell_type": "code",
   "execution_count": null,
   "id": "e61e8737",
   "metadata": {},
   "outputs": [],
   "source": [
    "abc.Sequence??"
   ]
  },
  {
   "cell_type": "code",
   "execution_count": null,
   "id": "34350c79",
   "metadata": {},
   "outputs": [],
   "source": [
    "abc.Sequence??"
   ]
  },
  {
   "cell_type": "code",
   "execution_count": null,
   "id": "ad2210cc",
   "metadata": {},
   "outputs": [],
   "source": [
    "@trim.register\n",
    "def _(a: abc.Sequence, n=5):\n",
    "    return a[:n]"
   ]
  },
  {
   "cell_type": "code",
   "execution_count": null,
   "id": "9b1a1978",
   "metadata": {},
   "outputs": [],
   "source": [
    "trim('mississippi')"
   ]
  },
  {
   "cell_type": "code",
   "execution_count": null,
   "id": "e9c94179",
   "metadata": {},
   "outputs": [],
   "source": [
    "trim(range(10))"
   ]
  },
  {
   "cell_type": "markdown",
   "id": "f383ba99",
   "metadata": {},
   "source": [
    "### wraps and update_wrapper"
   ]
  },
  {
   "cell_type": "code",
   "execution_count": null,
   "id": "6d46f289",
   "metadata": {},
   "outputs": [],
   "source": [
    "from typing import Callable"
   ]
  },
  {
   "cell_type": "code",
   "execution_count": null,
   "id": "7930b6db",
   "metadata": {},
   "outputs": [],
   "source": [
    "def make_noisy_function(func : Callable) -> Callable:\n",
    "    def wrapper(*args, **kwargs):\n",
    "        print(f'RUNNING FUNCTION {func.__name__}')\n",
    "        return func(*args, **kwargs)\n",
    "    return wrapper"
   ]
  },
  {
   "cell_type": "code",
   "execution_count": null,
   "id": "a056befd",
   "metadata": {},
   "outputs": [],
   "source": [
    "def add(a:float, b:float):\n",
    "    \"\"\"Returns the sum of a and b\"\"\"\n",
    "    return a + b"
   ]
  },
  {
   "cell_type": "code",
   "execution_count": null,
   "id": "b0d148bc",
   "metadata": {},
   "outputs": [],
   "source": [
    "noisy_add = make_noisy_function(add)"
   ]
  },
  {
   "cell_type": "code",
   "execution_count": null,
   "id": "21318063",
   "metadata": {},
   "outputs": [],
   "source": [
    "noisy_add(12, 13)"
   ]
  },
  {
   "cell_type": "code",
   "execution_count": null,
   "id": "390c306d",
   "metadata": {},
   "outputs": [],
   "source": [
    "# noisy_add has a confused identity now..."
   ]
  },
  {
   "cell_type": "code",
   "execution_count": null,
   "id": "da511367",
   "metadata": {},
   "outputs": [],
   "source": [
    "noisy_add"
   ]
  },
  {
   "cell_type": "code",
   "execution_count": null,
   "id": "15928298",
   "metadata": {},
   "outputs": [],
   "source": [
    "noisy_add.__name__"
   ]
  },
  {
   "cell_type": "code",
   "execution_count": null,
   "id": "d0e7a8fb",
   "metadata": {},
   "outputs": [],
   "source": [
    "noisy_add.__doc__"
   ]
  },
  {
   "cell_type": "markdown",
   "id": "00ed45b0",
   "metadata": {},
   "source": [
    "Functools provides a handy method to correct these attributes\n",
    "when \"decorating\" the function\n"
   ]
  },
  {
   "cell_type": "code",
   "execution_count": null,
   "id": "d4967e48",
   "metadata": {},
   "outputs": [],
   "source": [
    "noisy_add = functools.update_wrapper(wrapper=noisy_add, wrapped=add)"
   ]
  },
  {
   "cell_type": "code",
   "execution_count": null,
   "id": "b401c677",
   "metadata": {},
   "outputs": [],
   "source": [
    "noisy_add"
   ]
  },
  {
   "cell_type": "code",
   "execution_count": null,
   "id": "c7d7f474",
   "metadata": {},
   "outputs": [],
   "source": [
    "noisy_add.__name__"
   ]
  },
  {
   "cell_type": "code",
   "execution_count": null,
   "id": "293635b5",
   "metadata": {},
   "outputs": [],
   "source": [
    "noisy_add.__doc__"
   ]
  },
  {
   "cell_type": "markdown",
   "id": "5c22bc0b",
   "metadata": {},
   "source": [
    "We can also use this syntax to decorate"
   ]
  },
  {
   "cell_type": "code",
   "execution_count": null,
   "id": "15a8f671",
   "metadata": {},
   "outputs": [],
   "source": [
    "# define and decorate all in one.\n",
    "@make_noisy_function\n",
    "def add(a:float, b:float):\n",
    "    return a + b"
   ]
  },
  {
   "cell_type": "code",
   "execution_count": null,
   "id": "c2a007d4",
   "metadata": {},
   "outputs": [],
   "source": [
    "add(3, 5)"
   ]
  },
  {
   "cell_type": "code",
   "execution_count": null,
   "id": "ea718207",
   "metadata": {},
   "outputs": [],
   "source": [
    "# add has print now but still a confused identity..."
   ]
  },
  {
   "cell_type": "code",
   "execution_count": null,
   "id": "ce92e5c2",
   "metadata": {},
   "outputs": [],
   "source": [
    "add"
   ]
  },
  {
   "cell_type": "code",
   "execution_count": null,
   "id": "54870524",
   "metadata": {},
   "outputs": [],
   "source": [
    "add.__name__"
   ]
  },
  {
   "cell_type": "code",
   "execution_count": null,
   "id": "51747810",
   "metadata": {},
   "outputs": [],
   "source": [
    "add.__doc__"
   ]
  },
  {
   "cell_type": "code",
   "execution_count": null,
   "id": "0c9c8e6a",
   "metadata": {},
   "outputs": [],
   "source": [
    "# we could update the decorator using functools.wraps."
   ]
  },
  {
   "cell_type": "code",
   "execution_count": null,
   "id": "1f88d855",
   "metadata": {},
   "outputs": [],
   "source": [
    "def make_noisy_function(func : Callable) -> Callable:\n",
    "    @functools.wraps(func)\n",
    "    def wrapper(*args, **kwargs):\n",
    "        print(f'RUNNING FUNCTION {func.__name__}')\n",
    "        return func(*args, **kwargs)\n",
    "    return wrapper"
   ]
  },
  {
   "cell_type": "code",
   "execution_count": null,
   "id": "0f764ef6",
   "metadata": {},
   "outputs": [],
   "source": [
    "# now let's re-define noisy add\n",
    "@make_noisy_function\n",
    "def add(a:float, b:float):\n",
    "    return a + b"
   ]
  },
  {
   "cell_type": "code",
   "execution_count": null,
   "id": "910e2e7f",
   "metadata": {},
   "outputs": [],
   "source": [
    "add(3, 5)"
   ]
  },
  {
   "cell_type": "code",
   "execution_count": null,
   "id": "5e7c466e",
   "metadata": {},
   "outputs": [],
   "source": [
    "# add has print now but still a confused identity..."
   ]
  },
  {
   "cell_type": "code",
   "execution_count": null,
   "id": "b7cd6734",
   "metadata": {},
   "outputs": [],
   "source": [
    "add"
   ]
  },
  {
   "cell_type": "code",
   "execution_count": null,
   "id": "70d0b709",
   "metadata": {},
   "outputs": [],
   "source": [
    "add.__name__"
   ]
  },
  {
   "cell_type": "code",
   "execution_count": null,
   "id": "690ba524",
   "metadata": {},
   "outputs": [],
   "source": [
    "add.__doc__"
   ]
  },
  {
   "cell_type": "code",
   "execution_count": null,
   "id": "a4de1b61",
   "metadata": {},
   "outputs": [],
   "source": [
    "add"
   ]
  },
  {
   "cell_type": "markdown",
   "id": "45ac027a",
   "metadata": {},
   "source": [
    "# Fin"
   ]
  }
 ],
 "metadata": {
  "kernelspec": {
   "display_name": "Python 3 (ipykernel)",
   "language": "python",
   "name": "python3"
  },
  "language_info": {
   "codemirror_mode": {
    "name": "ipython",
    "version": 3
   },
   "file_extension": ".py",
   "mimetype": "text/x-python",
   "name": "python",
   "nbconvert_exporter": "python",
   "pygments_lexer": "ipython3",
   "version": "3.10.2"
  },
  "toc": {
   "base_numbering": 1,
   "nav_menu": {},
   "number_sections": true,
   "sideBar": true,
   "skip_h1_title": false,
   "title_cell": "Table of Contents",
   "title_sidebar": "Contents",
   "toc_cell": false,
   "toc_position": {},
   "toc_section_display": true,
   "toc_window_display": false
  }
 },
 "nbformat": 4,
 "nbformat_minor": 5
}
