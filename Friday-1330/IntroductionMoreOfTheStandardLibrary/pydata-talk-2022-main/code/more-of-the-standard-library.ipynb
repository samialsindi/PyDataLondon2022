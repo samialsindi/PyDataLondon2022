{
 "cells": [
  {
   "cell_type": "markdown",
   "id": "63bf3bb4",
   "metadata": {},
   "source": [
    "# Introducing more of the standard library - PyData 2022"
   ]
  },
  {
   "cell_type": "markdown",
   "id": "671310ff",
   "metadata": {},
   "source": [
    "**Simon Ward-Jones**\n",
    "\n",
    "*Audience level: Novice*"
   ]
  },
  {
   "cell_type": "markdown",
   "id": "ce799684",
   "metadata": {},
   "source": [
    "In this notebook we walk through examples to get familiar with the key functionality of\n",
    "  - `pathlib`\n",
    "  - `datetime`\n",
    "  - `collections`\n",
    "  - `itertools`\n",
    "  - `functools`\n",
    "\n",
    "**Notes**\n",
    "- The modules get more advanced as we go and require knowledge of more advanced python language features.\n",
    "- We won't have time to go over everything in each modulde and with that in mind I have provided longer notebooks covering each individually with more examples.\n",
    "- There are also optional exercises for each section.\n",
    "- This notebook is initially written in python version 3.10\n"
   ]
  },
  {
   "cell_type": "markdown",
   "id": "c2220ded",
   "metadata": {},
   "source": [
    "## pathlib"
   ]
  },
  {
   "cell_type": "markdown",
   "id": "d42049ce",
   "metadata": {},
   "source": [
    "This module offers classes representing filesystem paths (with semantics appropriate for different operating systems.)\n",
    "\n",
    "No need to install, as of python 3.4 it's standard lib.\n",
    "\n",
    "For more information see documentation: https://docs.python.org/3/library/pathlib.html"
   ]
  },
  {
   "cell_type": "markdown",
   "id": "557da9e3",
   "metadata": {},
   "source": [
    "### Introducing the Path class"
   ]
  },
  {
   "cell_type": "code",
   "execution_count": null,
   "id": "2c3c60ea",
   "metadata": {},
   "outputs": [],
   "source": [
    "from pathlib import Path"
   ]
  },
  {
   "cell_type": "code",
   "execution_count": null,
   "id": "e62d3fdc",
   "metadata": {},
   "outputs": [],
   "source": [
    "cwd_path = Path('.')"
   ]
  },
  {
   "cell_type": "code",
   "execution_count": null,
   "id": "2937bf0c",
   "metadata": {},
   "outputs": [],
   "source": [
    "cwd_path"
   ]
  },
  {
   "cell_type": "code",
   "execution_count": null,
   "id": "a45b5571",
   "metadata": {},
   "outputs": [],
   "source": [
    "cwd_path.absolute()"
   ]
  },
  {
   "cell_type": "code",
   "execution_count": null,
   "id": "6794d8c9",
   "metadata": {},
   "outputs": [],
   "source": [
    "Path.cwd()"
   ]
  },
  {
   "cell_type": "markdown",
   "id": "88aa06eb",
   "metadata": {},
   "source": [
    "### Building paths"
   ]
  },
  {
   "cell_type": "code",
   "execution_count": null,
   "id": "7ce9213f",
   "metadata": {},
   "outputs": [],
   "source": [
    "student_folder = cwd_path.joinpath('data').joinpath('student-data')\n",
    "student_folder"
   ]
  },
  {
   "cell_type": "code",
   "execution_count": null,
   "id": "9e401a10",
   "metadata": {},
   "outputs": [],
   "source": [
    "# Same again using / operator\n",
    "student_folder = cwd_path / 'data' / 'student-data'\n",
    "student_folder"
   ]
  },
  {
   "cell_type": "code",
   "execution_count": null,
   "id": "7c21fe32",
   "metadata": {},
   "outputs": [],
   "source": [
    "# Same again using string\n",
    "student_folder = Path('./data/student-data')\n",
    "student_folder"
   ]
  },
  {
   "cell_type": "code",
   "execution_count": null,
   "id": "bd87fc9d",
   "metadata": {},
   "outputs": [],
   "source": [
    "student_data_path = student_folder / 'data.json'"
   ]
  },
  {
   "cell_type": "markdown",
   "id": "a27d688d",
   "metadata": {},
   "source": [
    "### File parts and parents"
   ]
  },
  {
   "cell_type": "code",
   "execution_count": null,
   "id": "16073c98",
   "metadata": {},
   "outputs": [],
   "source": [
    "student_data_path"
   ]
  },
  {
   "cell_type": "code",
   "execution_count": null,
   "id": "6df256d6",
   "metadata": {},
   "outputs": [],
   "source": [
    "student_data_path.name, student_data_path.stem, student_data_path.suffix"
   ]
  },
  {
   "cell_type": "code",
   "execution_count": null,
   "id": "6fa82cd8",
   "metadata": {},
   "outputs": [],
   "source": [
    "student_data_path.parts"
   ]
  },
  {
   "cell_type": "code",
   "execution_count": null,
   "id": "fa0d4932",
   "metadata": {},
   "outputs": [],
   "source": [
    "print(student_data_path)"
   ]
  },
  {
   "cell_type": "code",
   "execution_count": null,
   "id": "5529f3ca",
   "metadata": {},
   "outputs": [],
   "source": [
    "print(student_data_path.absolute())"
   ]
  },
  {
   "cell_type": "code",
   "execution_count": null,
   "id": "6edc5729",
   "metadata": {},
   "outputs": [],
   "source": [
    "student_data_path.parent"
   ]
  },
  {
   "cell_type": "code",
   "execution_count": null,
   "id": "a72fcb3a",
   "metadata": {},
   "outputs": [],
   "source": [
    "# As the parent returns a Path instance\n",
    "# we can call parent on that too\n",
    "\n",
    "student_data_path.parent.parent"
   ]
  },
  {
   "cell_type": "markdown",
   "id": "e981e77d",
   "metadata": {},
   "source": [
    "### Changing the name,  stem or file extension"
   ]
  },
  {
   "cell_type": "code",
   "execution_count": null,
   "id": "db29f2fc",
   "metadata": {},
   "outputs": [],
   "source": [
    "student_data_path"
   ]
  },
  {
   "cell_type": "code",
   "execution_count": null,
   "id": "c493f353",
   "metadata": {},
   "outputs": [],
   "source": [
    "# replaces .jpeg with .py\n",
    "student_data_path.with_suffix('.py')"
   ]
  },
  {
   "cell_type": "code",
   "execution_count": null,
   "id": "9f628456",
   "metadata": {},
   "outputs": [],
   "source": [
    "# replaces data.jpeg with student_data.txt\n",
    "student_data_path.with_name('student_data.txt')"
   ]
  },
  {
   "cell_type": "code",
   "execution_count": null,
   "id": "8b8caab4-cae5-4ae9-8b72-cbe5f022ebdb",
   "metadata": {},
   "outputs": [],
   "source": [
    "# Similar to .parent, as the above methods return a Path instance\n",
    "# we can chain calls:\n",
    "\n",
    "\n",
    "student_data_path.with_name('numbers').with_suffix('.xslx')"
   ]
  },
  {
   "cell_type": "code",
   "execution_count": null,
   "id": "5f298a6c-7b22-4ab1-b6ab-c73e535bd2a3",
   "metadata": {},
   "outputs": [],
   "source": [
    "# Note we haven't actually changed the file here. We have just changed the name of our path object\n",
    "# We will see how to use Path instances to interact with the file system now."
   ]
  },
  {
   "cell_type": "markdown",
   "id": "8d1509d0-270a-471b-974c-b2697170bde5",
   "metadata": {},
   "source": [
    "### Interacting with the files, reading, writing and renaming"
   ]
  },
  {
   "cell_type": "code",
   "execution_count": null,
   "id": "61d0b22a-8007-4757-bd1c-c1ff49a89090",
   "metadata": {},
   "outputs": [],
   "source": [
    "student_data_path.exists()"
   ]
  },
  {
   "cell_type": "code",
   "execution_count": null,
   "id": "d1ebb870-2373-4a88-806a-13abbdfe19b8",
   "metadata": {},
   "outputs": [],
   "source": [
    "# is_file checks if the path exists and is a file\n",
    "# is_dir checks if the path exists and is a directory\n",
    "student_data_path.is_file(), student_data_path.is_dir()"
   ]
  },
  {
   "cell_type": "code",
   "execution_count": null,
   "id": "bc1f517d-3796-42d9-b26b-8a6d35d7e263",
   "metadata": {},
   "outputs": [],
   "source": [
    "# Note this is path represents a folder called data and a sub folder called student-data\n",
    "\n",
    "student_data_folder = student_data_path.parent\n",
    "student_data_folder"
   ]
  },
  {
   "cell_type": "code",
   "execution_count": null,
   "id": "7c16a533-5a30-4cdf-95eb-9613dded5da7",
   "metadata": {},
   "outputs": [],
   "source": [
    "student_data_folder.exists()"
   ]
  },
  {
   "cell_type": "code",
   "execution_count": null,
   "id": "922bb681-3180-46e5-939e-369828d20a65",
   "metadata": {},
   "outputs": [],
   "source": [
    "# When we run this cell it will error\n",
    "\n",
    "# student_data_folder.mkdir() "
   ]
  },
  {
   "cell_type": "code",
   "execution_count": null,
   "id": "b37bb810-cdea-4148-b415-23d673c1e180",
   "metadata": {},
   "outputs": [],
   "source": [
    "# Adding parents = True means the mkdir call will make parents if they are not there\n",
    "# Adding exists_ok = True means the mkdir call will not fail if the folder already exists\n",
    "student_data_folder.mkdir(parents=True, exist_ok=True)"
   ]
  },
  {
   "cell_type": "code",
   "execution_count": null,
   "id": "d7f437e2-e691-4740-9b4c-5388821c2572",
   "metadata": {},
   "outputs": [],
   "source": [
    "student_data_folder.exists()"
   ]
  },
  {
   "cell_type": "code",
   "execution_count": null,
   "id": "763e72ae-5b83-4527-972f-61be08ebefe8",
   "metadata": {},
   "outputs": [],
   "source": [
    "student_data_path.exists()"
   ]
  },
  {
   "cell_type": "code",
   "execution_count": null,
   "id": "3e2bba5b-c95f-402f-8e37-8b69d2bd0771",
   "metadata": {},
   "outputs": [],
   "source": [
    "student_data = [\n",
    "    {\n",
    "        \"name\": \"John Smith\",\n",
    "        \"age\": 10,\n",
    "        \"on_vacation\": False,\n",
    "        \"test_scores\": [66, 85, 39, 61, 16, 92, 33, 3, 87, 71],\n",
    "    },\n",
    "    {\n",
    "        \"name\": \"Jane Doe\",\n",
    "        \"age\": 10,\n",
    "        \"on_vacation\": False,\n",
    "        \"test_scores\": [4, 73, 75, 4, 50, 83, 8, 23, 42, 23],\n",
    "    },\n",
    "    {\n",
    "        \"name\": \"Isaac Newton\",\n",
    "        \"age\": 30,\n",
    "        \"on_vacation\": True,\n",
    "        \"test_scores\": [93, 96, 94, 92, 95, 90, 100, 98, 90, 94],\n",
    "    },\n",
    "]"
   ]
  },
  {
   "cell_type": "code",
   "execution_count": null,
   "id": "a1b098bf-6cb8-4a9e-ba27-2b12786ac9d9",
   "metadata": {},
   "outputs": [],
   "source": [
    "import json # to convert dict to json string\n",
    "\n",
    "student_data_path.write_text(json.dumps(student_data, indent=4))"
   ]
  },
  {
   "cell_type": "code",
   "execution_count": null,
   "id": "6cb2d6ea-ccb7-46e3-a968-2560ee327c87",
   "metadata": {},
   "outputs": [],
   "source": [
    "# print(student_data_path.read_text())"
   ]
  },
  {
   "cell_type": "markdown",
   "id": "85f7e36a-598a-4e98-978d-3385d7e00f28",
   "metadata": {},
   "source": [
    "### Renaming a file"
   ]
  },
  {
   "cell_type": "code",
   "execution_count": null,
   "id": "8e05610f-ab1e-4257-b9b1-537e66f05b16",
   "metadata": {},
   "outputs": [],
   "source": [
    "moved_file_location = student_data_path.parent.parent / 'new_location.txt'"
   ]
  },
  {
   "cell_type": "code",
   "execution_count": null,
   "id": "3ed12189-b5c2-41a7-b6ec-191f079128d9",
   "metadata": {},
   "outputs": [],
   "source": [
    "# the new location where we want to move our file\n",
    "moved_file_location"
   ]
  },
  {
   "cell_type": "code",
   "execution_count": null,
   "id": "6bcfe251-7e19-42df-bc95-ebc53ea1d3e0",
   "metadata": {},
   "outputs": [],
   "source": [
    "if not moved_file_location.exists():\n",
    "    student_data_path.rename(moved_file_location)\n",
    "    \n",
    "# NO WARNING if overwriting so be careful!"
   ]
  },
  {
   "cell_type": "code",
   "execution_count": null,
   "id": "e78d3d0b-c520-4ded-bf5f-58bef538248b",
   "metadata": {},
   "outputs": [],
   "source": [
    "moved_file_location.exists()"
   ]
  },
  {
   "cell_type": "markdown",
   "id": "ec197b82-b29b-4359-bd41-c600e9247ca8",
   "metadata": {},
   "source": [
    "### Deleting dirs and files"
   ]
  },
  {
   "cell_type": "code",
   "execution_count": null,
   "id": "f9d0c0ce-97b5-44cd-8a72-7ca5bd820c32",
   "metadata": {},
   "outputs": [],
   "source": [
    "# unlink - deletes a file. The missing_ok ensures no error if the file doesn't exist\n",
    "\n",
    "if student_data_path.exists():\n",
    "    student_data_path.unlink()\n",
    "if moved_file_location.exists():\n",
    "    moved_file_location.unlink()"
   ]
  },
  {
   "cell_type": "code",
   "execution_count": null,
   "id": "b30fccb9-61db-4481-abab-001b63bd400b",
   "metadata": {},
   "outputs": [],
   "source": [
    "# Remove an empty directory\n",
    "if student_data_folder.is_dir():\n",
    "    student_data_folder.rmdir()\n",
    "if student_data_folder.parent.is_dir():\n",
    "    student_data_folder.parent.rmdir()"
   ]
  },
  {
   "cell_type": "code",
   "execution_count": null,
   "id": "a4d03c43-1dbe-461f-a46f-029a001c8201",
   "metadata": {},
   "outputs": [],
   "source": [
    "# Redo these to use data Data.\n",
    "\n",
    "student_data_folder.mkdir(parents=True, exist_ok=True)\n",
    "student_data_path.write_text(json.dumps(student_data, indent=4))"
   ]
  },
  {
   "cell_type": "markdown",
   "id": "82c65493-802c-4d4c-9738-78cd30c8c003",
   "metadata": {},
   "source": [
    "### Iterating on a dir."
   ]
  },
  {
   "cell_type": "code",
   "execution_count": null,
   "id": "84f403f9-7532-4981-8826-39f2122c383f",
   "metadata": {},
   "outputs": [],
   "source": [
    "list(cwd_path.iterdir())"
   ]
  },
  {
   "cell_type": "code",
   "execution_count": null,
   "id": "ff830adf-f53e-4b3c-a044-84948c880a4b",
   "metadata": {},
   "outputs": [],
   "source": [
    "# We can do pattern matching using glob\n",
    "# Here the **/*.jpeg looks in all subfolders matching any file with the .jpeg ending\n",
    "\n",
    "[path for path in cwd_path.glob('**/*.jpeg')]"
   ]
  },
  {
   "cell_type": "code",
   "execution_count": null,
   "id": "160be2c7-016d-4e12-866b-af6f01fab36b",
   "metadata": {},
   "outputs": [],
   "source": [
    "# Challenge 1\n",
    "\n",
    "# Code a function to replace the file endings of all .txt files to .md within the current directory\n",
    "\n",
    "def replace_all_txt_with_md():\n",
    "    ..."
   ]
  },
  {
   "cell_type": "code",
   "execution_count": null,
   "id": "f600470b-6ca7-4634-9b54-36c3539bd5c7",
   "metadata": {},
   "outputs": [],
   "source": [
    "# test The solution by\n",
    "# 1. writing a .txt file.\n",
    "# 2. running the function .\n",
    "# 3. checking the file ending changed.\n",
    "\n",
    "Path('example.txt').write_text(\"# Example\")"
   ]
  },
  {
   "cell_type": "code",
   "execution_count": null,
   "id": "5f783f73-f146-4759-9504-cdee419f393f",
   "metadata": {},
   "outputs": [],
   "source": [
    "# replace_all_txt_with_md()"
   ]
  },
  {
   "cell_type": "code",
   "execution_count": null,
   "id": "3794c4db-1d7f-4418-950a-a05d4929572c",
   "metadata": {},
   "outputs": [],
   "source": [
    "# Clean up the unwanted file\n",
    "# Path('example.md').unlink()"
   ]
  },
  {
   "cell_type": "code",
   "execution_count": null,
   "id": "479cdc5c-3378-45ed-9282-5abeb66f001e",
   "metadata": {},
   "outputs": [],
   "source": [
    "import base64\n",
    "\n",
    "def scramble(string: str) -> bytes:\n",
    "    return base64.b64encode(string.encode(\"utf-8\"))\n",
    "\n",
    "def un_scramble(string: bytes) -> str:\n",
    "    return base64.b64decode(string).decode(\"utf-8\")"
   ]
  },
  {
   "cell_type": "code",
   "execution_count": null,
   "id": "6d78602b-e21a-4300-b794-67ba269b54f0",
   "metadata": {},
   "outputs": [],
   "source": [
    "ANSWER_1 =  un_scramble(\n",
    "     b'CmRlZiByZXBsYWNlX2FsbF90eHRfd2l0aF9tZCgpOgogICAgIiIiUmVwbGFjZSAudHh0IHN1ZmZpeCB3aXRoIC5tZCBpbiB'\n",
    "     b'jdXJyZW50IGRpcmVjdG9yeSIiIgogICAgZm9yIGZpbGVfcGF0aCBpbiBQYXRoLmN3ZCgpLmdsb2IoIioudHh0Iik6CiAgICA'\n",
    "     b'gICAgZmlsZV9wYXRoLnJlbmFtZShmaWxlX3BhdGgud2l0aF9zdWZmaXgoIi5tZCIpKQo=')\n",
    "\n",
    "print(ANSWER_1)"
   ]
  },
  {
   "cell_type": "markdown",
   "id": "9e538983",
   "metadata": {},
   "source": [
    "## datetime"
   ]
  },
  {
   "cell_type": "markdown",
   "id": "9ae6633c-495e-41e6-8bd4-51d52c55862e",
   "metadata": {},
   "source": [
    "The datetime module supplies classes for manipulating dates and times."
   ]
  },
  {
   "cell_type": "markdown",
   "id": "e4c7f25a-80ec-4cd9-b0d1-a315723d72b2",
   "metadata": {},
   "source": [
    "For more information see documentation: https://docs.python.org/3/library/datetime.html"
   ]
  },
  {
   "cell_type": "markdown",
   "id": "6c97fd66-31c3-43e3-8f80-f3def3340c81",
   "metadata": {},
   "source": [
    "### A note on timezones"
   ]
  },
  {
   "cell_type": "markdown",
   "id": "41c72b90-5e3c-46ea-9fe2-9eddb5892c83",
   "metadata": {},
   "source": [
    "Date and time objects may be categorized as “aware” or “naive” depending on whether or not they include timezone information."
   ]
  },
  {
   "cell_type": "markdown",
   "id": "dc4c66bf-c942-4c39-a9a9-a20767b84894",
   "metadata": {},
   "source": [
    "### Key classes"
   ]
  },
  {
   "cell_type": "markdown",
   "id": "e95c786c-145c-400e-ad4d-cd30a0b3afc6",
   "metadata": {},
   "source": [
    "`datetime.date`\n",
    "Attributes: year, month, and day.\n",
    "\n",
    "`datetime.time`\n",
    "Attributes: hour, minute, second, microsecond, and tzinfo.\n",
    "\n",
    "`datetime.datetime`\n",
    "Attributes: year, month, day, hour, minute, second, microsecond, and tzinfo.\n",
    "\n",
    "`datetime.timedelta`\n",
    "A duration expressing the difference between two date, time, or datetime instances to microsecond resolution.\n",
    "\n",
    "`datetime.tzinfo`\n",
    "An abstract base class for time zone information objects. These are used by the datetime and time classes to provide a customizable notion of time adjustment (for example, to account for time zone and/or daylight saving time).\n",
    "\n",
    "`datetime.timezone`\n",
    "A class that implements the tzinfo abstract base class as a fixed offset from the UTC.\n",
    "\n"
   ]
  },
  {
   "cell_type": "markdown",
   "id": "d68dd98e-acb6-489a-82be-de00a97f9cbf",
   "metadata": {},
   "source": [
    "Notes:\n",
    "- Objects of these types are immutable. (if the value of an object cannot be changed over time, then it is known as immutable)\n",
    "- Objects of these types are hashable, meaning that they can be used as dictionary keys.\n",
    "- Objects of these types support efficient pickling via the pickle module."
   ]
  },
  {
   "cell_type": "code",
   "execution_count": null,
   "id": "baa00918-de1d-471b-bb6e-386ac7cf1f15",
   "metadata": {},
   "outputs": [],
   "source": [
    "import datetime"
   ]
  },
  {
   "cell_type": "markdown",
   "id": "c3939c57-0992-47d8-89c6-5dd241896a67",
   "metadata": {},
   "source": [
    "### date"
   ]
  },
  {
   "cell_type": "code",
   "execution_count": null,
   "id": "e6f5f595-39a8-4818-99d1-755f22e24dcc",
   "metadata": {},
   "outputs": [],
   "source": [
    "twenty_fourth_april = datetime.date(year=2022, month=4, day=24)"
   ]
  },
  {
   "cell_type": "code",
   "execution_count": null,
   "id": "ad75822e-7a8c-476a-94f0-625a76284c6c",
   "metadata": {},
   "outputs": [],
   "source": [
    "twenty_fourth_april"
   ]
  },
  {
   "cell_type": "code",
   "execution_count": null,
   "id": "a8df7a75-dc5f-4260-84ed-a21564333e37",
   "metadata": {},
   "outputs": [],
   "source": [
    "today = datetime.date.today()"
   ]
  },
  {
   "cell_type": "code",
   "execution_count": null,
   "id": "15a3fef6-ee07-4870-b3fc-88d65cdf7bb7",
   "metadata": {},
   "outputs": [],
   "source": [
    "today"
   ]
  },
  {
   "cell_type": "code",
   "execution_count": null,
   "id": "d2b26d4e-df89-4818-bfef-ab19e1f01618",
   "metadata": {},
   "outputs": [],
   "source": [
    "today.day, today.month, today.year"
   ]
  },
  {
   "cell_type": "markdown",
   "id": "6de2183b-a09d-4e07-9a84-ce32d778f62e",
   "metadata": {},
   "source": [
    "### time"
   ]
  },
  {
   "cell_type": "code",
   "execution_count": null,
   "id": "a91e03ae-59fc-474f-b76f-6fabbd55b9c4",
   "metadata": {},
   "outputs": [],
   "source": [
    "four_thirty = datetime.time(hour=16, minute=30, second=0, microsecond=0)"
   ]
  },
  {
   "cell_type": "code",
   "execution_count": null,
   "id": "71633559-f425-450b-9eaf-5a13f440c732",
   "metadata": {},
   "outputs": [],
   "source": [
    "four_thirty"
   ]
  },
  {
   "cell_type": "markdown",
   "id": "8886d96f-a41a-46c3-a383-8c365bbb16bb",
   "metadata": {},
   "source": [
    "### datetime"
   ]
  },
  {
   "cell_type": "code",
   "execution_count": null,
   "id": "1cba8800-96c0-4c00-913e-dab4a557a29a",
   "metadata": {},
   "outputs": [],
   "source": [
    "order_at = datetime.datetime(\n",
    "    year=2022,\n",
    "    month=9,\n",
    "    day=16, \n",
    "    hour=20, \n",
    "    minute=30,\n",
    "    second=12,\n",
    "    microsecond=123, \n",
    "    tzinfo=None)"
   ]
  },
  {
   "cell_type": "code",
   "execution_count": null,
   "id": "aa58a061-7555-421f-b7df-657bc1f69d8d",
   "metadata": {},
   "outputs": [],
   "source": [
    "order_at"
   ]
  },
  {
   "cell_type": "code",
   "execution_count": null,
   "id": "cb8ac4f0-90dd-44f0-83aa-1ab1a31753dc",
   "metadata": {},
   "outputs": [],
   "source": [
    "order_at.date()"
   ]
  },
  {
   "cell_type": "code",
   "execution_count": null,
   "id": "3bebd0a5-0dfc-4278-89b3-c288bdc23a21",
   "metadata": {},
   "outputs": [],
   "source": [
    "order_at.time()"
   ]
  },
  {
   "cell_type": "code",
   "execution_count": null,
   "id": "10e19b42-d7f2-4809-9c49-5a2a14fa0968",
   "metadata": {},
   "outputs": [],
   "source": [
    "now = datetime.datetime.now()\n",
    "now"
   ]
  },
  {
   "cell_type": "markdown",
   "id": "06e8fae7-0728-4571-8d87-b98545326aa4",
   "metadata": {},
   "source": [
    "### Key methods"
   ]
  },
  {
   "cell_type": "code",
   "execution_count": null,
   "id": "6b503cc5-48bd-41b4-a1f6-bae09223d0a2",
   "metadata": {},
   "outputs": [],
   "source": [
    "datetime.datetime.combine(date=today, time=four_thirty)"
   ]
  },
  {
   "cell_type": "code",
   "execution_count": null,
   "id": "ca796c80-6e51-4a44-9c66-f7e2005465c7",
   "metadata": {},
   "outputs": [],
   "source": [
    "str(datetime.datetime.combine(date=today, time=four_thirty))"
   ]
  },
  {
   "cell_type": "code",
   "execution_count": null,
   "id": "1e7d938c-ae21-4317-99c3-276ae0ef050d",
   "metadata": {},
   "outputs": [],
   "source": [
    "str(today)"
   ]
  },
  {
   "cell_type": "markdown",
   "id": "c0222d91-7248-4d26-8617-4515a3a4fb6b",
   "metadata": {},
   "source": [
    "### isoformat"
   ]
  },
  {
   "cell_type": "code",
   "execution_count": null,
   "id": "69be9ff8-6590-43f1-ae7e-7b01694193b9",
   "metadata": {},
   "outputs": [],
   "source": [
    "# returns the string in a standardised form  ISO 8601 format\n",
    "today.isoformat()"
   ]
  },
  {
   "cell_type": "code",
   "execution_count": null,
   "id": "151559c5-349e-4529-84b0-15492c61c6d8",
   "metadata": {},
   "outputs": [],
   "source": [
    "now.isoformat()"
   ]
  },
  {
   "cell_type": "code",
   "execution_count": null,
   "id": "d48a55b3-aaa9-4cbb-a1e3-6c7cb1c10819",
   "metadata": {},
   "outputs": [],
   "source": [
    "datetime.date.fromisoformat('2022-04-24')"
   ]
  },
  {
   "cell_type": "code",
   "execution_count": null,
   "id": "09d086aa-b48a-4df4-8c91-70b2cb7b16e3",
   "metadata": {},
   "outputs": [],
   "source": [
    "datetime.datetime.fromisoformat('2022-04-24T17:23:54.908505')"
   ]
  },
  {
   "cell_type": "markdown",
   "id": "3795ae87-b398-4891-9ff2-7bab901203a5",
   "metadata": {},
   "source": [
    "### more formats"
   ]
  },
  {
   "cell_type": "code",
   "execution_count": null,
   "id": "ef238abf-4279-4c09-a8eb-ddc1a015b44d",
   "metadata": {},
   "outputs": [],
   "source": [
    "# You can use the strftime method which has special formatting directives to help customise\n",
    "\n",
    "for format_str in [\n",
    "    '%a', '%A', '%w', '%d', '%b', '%B',\n",
    "    '%m', '%y', '%Y', '%H', '%I', '%p',\n",
    "    '%M', '%S', '%f', '%z', '%j', '%U',\n",
    "    '%W', '%c', '%x', '%X', '%%']:\n",
    "    print(f\"now with format {format_str} is {now.strftime(format_str)}\")"
   ]
  },
  {
   "cell_type": "code",
   "execution_count": null,
   "id": "5c064867-7f3b-452d-b5d7-0b82424cac2e",
   "metadata": {},
   "outputs": [],
   "source": [
    "# If you can specify the format you can convert from str to datetime\n",
    "\n",
    "datetime.datetime.strptime('Sunday-24-April----17:23:54   2022', '%A-%d-%B----%X   %Y')"
   ]
  },
  {
   "cell_type": "markdown",
   "id": "9c3de7ae-be60-4722-9ecd-1acee021bcba",
   "metadata": {},
   "source": [
    "### replace"
   ]
  },
  {
   "cell_type": "code",
   "execution_count": null,
   "id": "a392b4e2-ed97-4c22-9303-58631155aca0",
   "metadata": {},
   "outputs": [],
   "source": [
    "today.replace(year=today.year - 1) # last year using replace"
   ]
  },
  {
   "cell_type": "code",
   "execution_count": null,
   "id": "a32732c2-e062-40b5-ac15-4acf2cfbd91f",
   "metadata": {},
   "outputs": [],
   "source": [
    "now"
   ]
  },
  {
   "cell_type": "code",
   "execution_count": null,
   "id": "1e299be3-b35d-43f3-b6f5-2790025bdcad",
   "metadata": {},
   "outputs": [],
   "source": [
    "now.replace(hour=6)"
   ]
  },
  {
   "cell_type": "markdown",
   "id": "e9bda209-96a5-4038-a2ba-3b3311235e18",
   "metadata": {},
   "source": [
    "### timedelta"
   ]
  },
  {
   "cell_type": "code",
   "execution_count": null,
   "id": "1fbfd6e1-0393-4caf-bf50-fb6da0f8e295",
   "metadata": {},
   "outputs": [],
   "source": [
    "delta = datetime.timedelta(\n",
    "    days=50,\n",
    "    seconds=27,\n",
    "    microseconds=10,\n",
    "    milliseconds=29000,\n",
    "    minutes=5,\n",
    "    hours=8,\n",
    "    weeks=2\n",
    ")\n",
    "# Only days, seconds, and microseconds remain\n",
    "delta"
   ]
  },
  {
   "cell_type": "code",
   "execution_count": null,
   "id": "436e4409-0f02-4bcf-babe-bedfeda94f87",
   "metadata": {},
   "outputs": [],
   "source": [
    "delta.total_seconds()"
   ]
  },
  {
   "cell_type": "code",
   "execution_count": null,
   "id": "dd6c4514-c562-4c82-a053-6d0f220b001d",
   "metadata": {},
   "outputs": [],
   "source": [
    "year = datetime.timedelta(days=365)\n",
    "another_year = datetime.timedelta(weeks=40, days=84, hours=23,\n",
    "                                  minutes=50, seconds=600)"
   ]
  },
  {
   "cell_type": "code",
   "execution_count": null,
   "id": "a7917058-3e26-4221-92e1-a9189706eca7",
   "metadata": {},
   "outputs": [],
   "source": [
    "year == another_year"
   ]
  },
  {
   "cell_type": "markdown",
   "id": "f0bfd5d0-99f9-4d3b-ae86-1bbe395ca095",
   "metadata": {},
   "source": [
    "### Example"
   ]
  },
  {
   "cell_type": "code",
   "execution_count": null,
   "id": "d045fbad-710f-4986-95a7-5a952ce2529e",
   "metadata": {},
   "outputs": [],
   "source": [
    "# Challenge 1\n",
    "\n",
    "# Write a function days_until_next_birthday taking a month and a day and returning an integer number of \n",
    "# days until the date.\n",
    "\n",
    "def days_until_next_birthday(month:int, day:int) -> int:\n",
    "    ..."
   ]
  },
  {
   "cell_type": "code",
   "execution_count": null,
   "id": "3d12bfc8-fc92-4f10-858e-04f5aeaef5bf",
   "metadata": {},
   "outputs": [],
   "source": [
    "ANSWER_2 = un_scramble(\n",
    "    b'ZGVmIGRheXNfdW50aWxfbmV4dF9iaXJ0aGRheShtb250aDppbnQsIGRheTppbnQpIC0+IGludDoKICAgIHR'\n",
    "    b'vZGF5ID0gZGF0ZXRpbWUuZGF0ZS50b2RheSgpCiAgICBiaXJ0aGRheSA9IHRvZGF5LnJlcGxhY2UobW9udGg'\n",
    "    b'9bW9udGgsIGRheT1kYXkpCiAgICBpZiBiaXJ0aGRheSA8IHRvZGF5OgogICAgICAgIGJpcnRoZGF5ID0gYml'\n",
    "    b'ydGhkYXkucmVwbGFjZSh5ZWFyPSBiaXJ0aGRheS55ZWFyICsgMSkKICAgIHJldHVybiAoYmlydGhkYXkgLSB'\n",
    "    b'0b2RheSkuZGF5cwoKZGF5c191bnRpbF9uZXh0X2JpcnRoZGF5KG1vbnRoPTIsIGRheT0xNik='\n",
    ")\n",
    "\n",
    "print(ANSWER_2)"
   ]
  },
  {
   "cell_type": "markdown",
   "id": "f03b4478",
   "metadata": {},
   "source": [
    "## collections"
   ]
  },
  {
   "cell_type": "markdown",
   "id": "a0b58e15-36e0-42be-ab2e-be2353aea5f7",
   "metadata": {},
   "source": [
    "This module implements specialized container datatypes providing alternatives to Python’s general purpose built-in containers, dict, list, set, and tuple.\n",
    "\n",
    "For more information see the documentation: https://docs.python.org/3/library/collections.html"
   ]
  },
  {
   "cell_type": "markdown",
   "id": "b15a843c-83b3-4bfe-9868-aa58ad62c211",
   "metadata": {},
   "source": [
    "A brief overview:"
   ]
  },
  {
   "cell_type": "markdown",
   "id": "fd1fe41f-9094-45f3-92e8-00694991a04e",
   "metadata": {},
   "source": [
    "| Name         | Description                                                          |\n",
    "| ------------ | -------------------------------------------------------------------- |\n",
    "| namedtuple() | factory function for creating tuple subclasses with named fields     |\n",
    "| deque        | list-like container with fast appends and pops on either end         |\n",
    "| ChainMap     | dict-like class for creating a single view of multiple mappings      |\n",
    "| Counter      | dict subclass for counting hashable objects                          |\n",
    "| OrderedDict  | dict subclass that remembers the order entries were added            |\n",
    "| defaultdict  | dict subclass that calls a factory function to supply missing values |\n",
    "| UserDict     | wrapper around dictionary objects for easier dict subclassing        |\n",
    "| UserList     | wrapper around list objects for easier list subclassing              |\n",
    "| UserString   | wrapper around string objects for easier string subclassing          |\n"
   ]
  },
  {
   "cell_type": "code",
   "execution_count": null,
   "id": "74bc4560-c289-426b-b6ea-dff9cec09216",
   "metadata": {},
   "outputs": [],
   "source": [
    "from collections import Counter\n",
    "from collections import deque\n",
    "from collections import defaultdict\n",
    "from collections import namedtuple"
   ]
  },
  {
   "cell_type": "markdown",
   "id": "7d09dfa7-2c2c-415f-b8c6-65dea92752e9",
   "metadata": {},
   "source": [
    "### Counter"
   ]
  },
  {
   "cell_type": "markdown",
   "id": "aadc0a36-5563-41d4-bc20-3308f2ad2595",
   "metadata": {},
   "source": [
    "A Counter is a dict subclass for counting hashable objects. It is a collection where elements are stored as dictionary keys and their counts are stored as dictionary values."
   ]
  },
  {
   "cell_type": "code",
   "execution_count": null,
   "id": "a421bf27-af21-499a-9cee-557d589966d1",
   "metadata": {},
   "outputs": [],
   "source": [
    "# From an string (iterable)\n",
    "counter = Counter('misissippi')\n",
    "counter"
   ]
  },
  {
   "cell_type": "code",
   "execution_count": null,
   "id": "19c3ff18-e786-48e6-8d46-c70700430aea",
   "metadata": {},
   "outputs": [],
   "source": [
    "# From an iterable\n",
    "counter = Counter([\"cat\", \"cat\", \"dog\", \"dog\", \"cat\", \"gold fish\"])\n",
    "counter"
   ]
  },
  {
   "cell_type": "code",
   "execution_count": null,
   "id": "ba0efcb6-21bc-495c-84ae-37db6c52c4bb",
   "metadata": {},
   "outputs": [],
   "source": [
    "# From dict\n",
    "counter = Counter({'cat': 3, 'dog': 2, 'gold fish': 1})\n",
    "counter"
   ]
  },
  {
   "cell_type": "code",
   "execution_count": null,
   "id": "4a76198d-73a2-4249-b180-24850dfeba06",
   "metadata": {},
   "outputs": [],
   "source": [
    "# Missing elements have 0 \n",
    "counter['shark']"
   ]
  },
  {
   "cell_type": "code",
   "execution_count": null,
   "id": "7d2551d5-a56f-44a0-b602-6c9fdd9c8aee",
   "metadata": {},
   "outputs": [],
   "source": [
    "list(counter.elements())"
   ]
  },
  {
   "cell_type": "code",
   "execution_count": null,
   "id": "d34e053e-9346-469e-a8dc-7c4f93b938b8",
   "metadata": {},
   "outputs": [],
   "source": [
    "# Nice and fast using the standard library heapq\n",
    "\n",
    "counter.most_common(2)"
   ]
  },
  {
   "cell_type": "code",
   "execution_count": null,
   "id": "a2cda5dd-df63-49f6-b15f-fe9fd3b8e39c",
   "metadata": {},
   "outputs": [],
   "source": [
    "another_counter = Counter({'cat': 3, 'dog': 10})"
   ]
  },
  {
   "cell_type": "code",
   "execution_count": null,
   "id": "91cefb38-7d1f-4fc9-af16-1bf1e16cc805",
   "metadata": {},
   "outputs": [],
   "source": [
    "counter + another_counter"
   ]
  },
  {
   "cell_type": "code",
   "execution_count": null,
   "id": "4bccec18",
   "metadata": {},
   "outputs": [],
   "source": [
    "counter"
   ]
  },
  {
   "cell_type": "code",
   "execution_count": null,
   "id": "559ccef9-2414-41ab-bacd-ff71c456dda7",
   "metadata": {},
   "outputs": [],
   "source": [
    "# You can increment the values like so:\n",
    "counter['dog'] += 1"
   ]
  },
  {
   "cell_type": "code",
   "execution_count": null,
   "id": "e0a7cc64",
   "metadata": {},
   "outputs": [],
   "source": [
    "counter"
   ]
  },
  {
   "cell_type": "markdown",
   "id": "a129484d-31a0-4bf6-9e1a-46e8f87c5d5b",
   "metadata": {},
   "source": [
    "### deque"
   ]
  },
  {
   "cell_type": "markdown",
   "id": "567d1327-bd7c-48fd-b426-372ef51fc6b1",
   "metadata": {},
   "source": [
    "Deques support thread-safe, memory efficient appends and pops from either side of the deque with approximately the same O(1) performance in either direction"
   ]
  },
  {
   "cell_type": "code",
   "execution_count": null,
   "id": "ec72a3b4-e930-4738-a5a7-9bd7d6593804",
   "metadata": {},
   "outputs": [],
   "source": [
    "example_deque = deque(range(5))"
   ]
  },
  {
   "cell_type": "code",
   "execution_count": null,
   "id": "ab2e2872-ca83-49a4-b592-b89cc07339ff",
   "metadata": {},
   "outputs": [],
   "source": [
    "example_deque"
   ]
  },
  {
   "cell_type": "code",
   "execution_count": null,
   "id": "d0023327-16ea-4d67-872b-0d2a5d3aa8fa",
   "metadata": {},
   "outputs": [],
   "source": [
    "example_deque.append(5)\n",
    "example_deque.appendleft(-1)"
   ]
  },
  {
   "cell_type": "code",
   "execution_count": null,
   "id": "92f39cc4-a8da-4275-96c7-4ef67fd97983",
   "metadata": {},
   "outputs": [],
   "source": [
    "example_deque"
   ]
  },
  {
   "cell_type": "code",
   "execution_count": null,
   "id": "65b2ca99-dd64-40c4-b80a-8f02a596c4a2",
   "metadata": {},
   "outputs": [],
   "source": [
    "example_deque.extend([6, 7, 8])\n",
    "example_deque.extendleft([-2, -3, -4]) # Note the ordering.\n",
    "example_deque"
   ]
  },
  {
   "cell_type": "code",
   "execution_count": null,
   "id": "9cb7560c-fb09-4100-8d77-d8a3d6380a8c",
   "metadata": {},
   "outputs": [],
   "source": [
    "example_deque.index(3)"
   ]
  },
  {
   "cell_type": "code",
   "execution_count": null,
   "id": "e6858646-b1d8-4f18-922d-a0fcc692c40f",
   "metadata": {},
   "outputs": [],
   "source": [
    "# This is inplace\n",
    "# meaning the object is edited directly instead of creating a new reversed deque\n",
    "example_deque.reverse()"
   ]
  },
  {
   "cell_type": "code",
   "execution_count": null,
   "id": "9adb1391-1a36-4d2b-87e7-10ae2052061c",
   "metadata": {},
   "outputs": [],
   "source": [
    "example_deque"
   ]
  },
  {
   "cell_type": "markdown",
   "id": "f2c9e2e1-d204-431e-88eb-e4b3d2f98bc8",
   "metadata": {},
   "source": [
    "deque with maxlen"
   ]
  },
  {
   "cell_type": "code",
   "execution_count": null,
   "id": "bce4545a-a282-4354-9098-f673aa2b0bf4",
   "metadata": {},
   "outputs": [],
   "source": [
    "limited_deque = deque(range(5), maxlen=5)\n",
    "limited_deque"
   ]
  },
  {
   "cell_type": "code",
   "execution_count": null,
   "id": "e29eed13-6cb6-4512-afed-c143fbb73675",
   "metadata": {},
   "outputs": [],
   "source": [
    "# note this pops off the 0\n",
    "limited_deque.append(5)\n",
    "limited_deque"
   ]
  },
  {
   "cell_type": "code",
   "execution_count": null,
   "id": "a323d65d-7758-40a3-9b43-96faf7dfeb62",
   "metadata": {},
   "outputs": [],
   "source": [
    "# this pushes off the 5 off the other end\n",
    "limited_deque.appendleft(0)\n",
    "limited_deque"
   ]
  },
  {
   "cell_type": "code",
   "execution_count": null,
   "id": "e16c9ffb-0503-4463-851a-e937d9efb6c8",
   "metadata": {},
   "outputs": [],
   "source": [
    "# this sequentiall pushes the 5, 6, 7 \n",
    "# onto the right end forcing out the 0, 1, 2\n",
    "limited_deque.extend([5, 6, 7])\n",
    "limited_deque"
   ]
  },
  {
   "cell_type": "code",
   "execution_count": null,
   "id": "0eebd950-18a3-49c4-89fa-cd626a1dc651",
   "metadata": {},
   "outputs": [],
   "source": [
    "# this sequentially pushes the 1, 2, 3\n",
    "# onto the left end forcing out the 5, 6, 7\n",
    "limited_deque.extendleft([0, 1, 2])\n",
    "limited_deque"
   ]
  },
  {
   "cell_type": "code",
   "execution_count": null,
   "id": "77568e7c-f0c4-48a3-9268-e78d00b31087",
   "metadata": {},
   "outputs": [],
   "source": [
    "# this rotates elements n steps. \n",
    "limited_deque.rotate(2)\n",
    "limited_deque"
   ]
  },
  {
   "cell_type": "code",
   "execution_count": null,
   "id": "32ce9166-ea68-4fd4-b05a-8428473126c3",
   "metadata": {},
   "outputs": [],
   "source": [
    "# we can access the maxlen\n",
    "limited_deque.maxlen"
   ]
  },
  {
   "cell_type": "code",
   "execution_count": null,
   "id": "54cb9925-d678-47fd-9628-9c8bafee99c4",
   "metadata": {},
   "outputs": [],
   "source": [
    "limited_deque.clear()\n",
    "limited_deque"
   ]
  },
  {
   "cell_type": "code",
   "execution_count": null,
   "id": "c0fa2693-27fd-4cfe-95c4-f158d699f940",
   "metadata": {},
   "outputs": [],
   "source": [
    "# note if the initial iterable is longer than\n",
    "# the maxlen then we only get the last n elements\n",
    "deque([1, 2, 3, 4, 5], maxlen=3)"
   ]
  },
  {
   "cell_type": "markdown",
   "id": "276a86d9-ed33-4480-991e-41172ce178ed",
   "metadata": {},
   "source": [
    "### defaultdict"
   ]
  },
  {
   "cell_type": "code",
   "execution_count": null,
   "id": "8b758171-b801-40f9-b918-28703f71c14c",
   "metadata": {},
   "outputs": [],
   "source": [
    "sentence = (\n",
    "    \"imagine we want to take a sentence and store words in lists in\"\n",
    "    \" a dictionary keyed on the letter that each word starts with\")\n",
    "sentence"
   ]
  },
  {
   "cell_type": "code",
   "execution_count": null,
   "id": "4a8f7b90-00d6-4763-beaa-5af1ad4567de",
   "metadata": {},
   "outputs": [],
   "source": [
    "words_by_starting_letter = {}\n",
    "for word in sentence.split(' '):\n",
    "    if word[0] not in words_by_starting_letter:\n",
    "        words_by_starting_letter[word[0]] = [word]\n",
    "    else: # we know it's a list so append\n",
    "        words_by_starting_letter[word[0]].append(word)\n",
    "\n",
    "words_by_starting_letter"
   ]
  },
  {
   "cell_type": "code",
   "execution_count": null,
   "id": "7a82391f-43a6-4788-8c8e-8ff001ef9bc7",
   "metadata": {},
   "outputs": [],
   "source": [
    "words_by_starting_letter = defaultdict(list)\n",
    "for word in sentence.split(' '):\n",
    "    words_by_starting_letter[word[0]].append(word)\n",
    "words_by_starting_letter"
   ]
  },
  {
   "cell_type": "code",
   "execution_count": null,
   "id": "de914cb0-3c2e-4667-a7e0-8ac27d025d09",
   "metadata": {},
   "outputs": [],
   "source": [
    "# An example from the offical docs:\n",
    "s = 'mississippi'\n",
    "letter_counts = defaultdict(int)\n",
    "for char in s:\n",
    "    letter_counts[char] += 1\n",
    "\n",
    "letter_counts"
   ]
  },
  {
   "cell_type": "markdown",
   "id": "ef00b272-9620-483f-9629-3783e4a0a812",
   "metadata": {},
   "source": [
    "### named tuple"
   ]
  },
  {
   "cell_type": "markdown",
   "id": "20be8757-c7f0-446c-9278-7583fcc05227",
   "metadata": {},
   "source": [
    "Named tuples assign meaning to each position in a tuple and allow for more readable, self-documenting code. "
   ]
  },
  {
   "cell_type": "code",
   "execution_count": null,
   "id": "04e97f16-417d-41e5-a5a8-4b12c8532b7f",
   "metadata": {},
   "outputs": [],
   "source": [
    "student_data"
   ]
  },
  {
   "cell_type": "code",
   "execution_count": null,
   "id": "4e815b29-37ea-42c5-b002-c1317e7dc8a1",
   "metadata": {},
   "outputs": [],
   "source": [
    "student = ('Simon Ward-Jones', 30, True, [100, 100, 100, 99, 100])"
   ]
  },
  {
   "cell_type": "code",
   "execution_count": null,
   "id": "0b1d4a13-5aa9-45a2-b0f8-14c61c2f2eb9",
   "metadata": {},
   "outputs": [],
   "source": [
    "def display_student(student):\n",
    "    print(f\"Student {student[0]} is {student[1]} years old \"\n",
    "          f\"and has test scores {student[3]}\")"
   ]
  },
  {
   "cell_type": "code",
   "execution_count": null,
   "id": "31849d2f-3fb5-4dee-a348-82f6035f9639",
   "metadata": {},
   "outputs": [],
   "source": [
    "display_student(student)"
   ]
  },
  {
   "cell_type": "code",
   "execution_count": null,
   "id": "2036bf4a-294c-40de-ba8b-867cfc0d7360",
   "metadata": {},
   "outputs": [],
   "source": [
    "Student = namedtuple(\"Student\", \"name age on_vacation test_scores\")"
   ]
  },
  {
   "cell_type": "code",
   "execution_count": null,
   "id": "13824680-39a0-4b30-8be7-5c8a395e636a",
   "metadata": {},
   "outputs": [],
   "source": [
    "Student = namedtuple(\"Student\", [\"name\", \"age\", \"on_vacation\", \"test_scores\"])"
   ]
  },
  {
   "cell_type": "code",
   "execution_count": null,
   "id": "88618cbd-31fc-40e5-a78b-4da5f97aa33e",
   "metadata": {},
   "outputs": [],
   "source": [
    "simon = Student(\n",
    "    name='Simon Ward-Jones', \n",
    "    age=30,\n",
    "    on_vacation=True,\n",
    "    test_scores=[100, 100, 100, 99, 100])"
   ]
  },
  {
   "cell_type": "code",
   "execution_count": null,
   "id": "d0ccefb4-e4f7-4239-b83c-3e8fce8a2fc5",
   "metadata": {},
   "outputs": [],
   "source": [
    "simon[2]"
   ]
  },
  {
   "cell_type": "code",
   "execution_count": null,
   "id": "8fdc47d2-c392-4451-ae27-88e0ce09bda3",
   "metadata": {},
   "outputs": [],
   "source": [
    "simon.on_vacation"
   ]
  },
  {
   "cell_type": "code",
   "execution_count": null,
   "id": "5614e41f-b4ac-4cd2-840b-da2e6618b22c",
   "metadata": {},
   "outputs": [],
   "source": [
    "def display_student(student: Student):\n",
    "    print(f\"Student {student.name} is {student.age} years old \"\n",
    "          f\"and has test scores {student.test_scores}\")"
   ]
  },
  {
   "cell_type": "code",
   "execution_count": null,
   "id": "8020da3b-e224-4716-b872-0f4d995b1700",
   "metadata": {},
   "outputs": [],
   "source": [
    "display_student(simon)"
   ]
  },
  {
   "cell_type": "code",
   "execution_count": null,
   "id": "cbb8ddc0-d92e-4575-b145-033fb0574a0c",
   "metadata": {},
   "outputs": [],
   "source": [
    "older_simon = simon._replace(age=31)\n",
    "older_simon # note this is a new instance!"
   ]
  },
  {
   "cell_type": "code",
   "execution_count": null,
   "id": "478a203c-ecfc-41f3-a37c-bd8e7b8f7d97",
   "metadata": {},
   "outputs": [],
   "source": [
    "simon._fields"
   ]
  },
  {
   "cell_type": "code",
   "execution_count": null,
   "id": "f13196ac-7cdd-4e2a-9984-d302517374bc",
   "metadata": {},
   "outputs": [],
   "source": [
    "# We can also do the same thing using the typing.NamedTuple"
   ]
  },
  {
   "cell_type": "code",
   "execution_count": null,
   "id": "7460ece7-154c-4bef-ad10-aa833e1e07ef",
   "metadata": {},
   "outputs": [],
   "source": [
    "from typing import NamedTuple, List"
   ]
  },
  {
   "cell_type": "code",
   "execution_count": null,
   "id": "ae68e067-87c4-4703-afe4-2e6154a5e425",
   "metadata": {},
   "outputs": [],
   "source": [
    "class Student(NamedTuple):\n",
    "    name: str\n",
    "    age: int\n",
    "    on_vacation: bool\n",
    "    test_scores: List[int]"
   ]
  },
  {
   "cell_type": "code",
   "execution_count": null,
   "id": "2ed32844-4686-4a49-9058-d69be39e7dbe",
   "metadata": {},
   "outputs": [],
   "source": [
    "simon = Student(\n",
    "    name='Simon Ward-Jones', \n",
    "    age=30,\n",
    "    on_vacation=True,\n",
    "    test_scores=[100, 100, 100, 99, 100])"
   ]
  },
  {
   "cell_type": "code",
   "execution_count": null,
   "id": "33ceefed-d41a-4599-b967-8bf4fc903be9",
   "metadata": {},
   "outputs": [],
   "source": [
    "simon"
   ]
  },
  {
   "cell_type": "code",
   "execution_count": null,
   "id": "6249b95e-5674-4d1d-8b6c-f9420a145415",
   "metadata": {},
   "outputs": [],
   "source": [
    "student_data[0]"
   ]
  },
  {
   "cell_type": "code",
   "execution_count": null,
   "id": "37025de2-30d4-45c3-8a42-bf553fba3130",
   "metadata": {},
   "outputs": [],
   "source": [
    "students = [Student._make(student.values()) for student in student_data]"
   ]
  },
  {
   "cell_type": "code",
   "execution_count": null,
   "id": "d335ce01-0dc8-4208-835f-615241b3e90c",
   "metadata": {},
   "outputs": [],
   "source": [
    "students"
   ]
  },
  {
   "cell_type": "code",
   "execution_count": null,
   "id": "02b57a21-791b-46f7-bdfc-a5dedd5ea49b",
   "metadata": {},
   "outputs": [],
   "source": [
    "# Challenge 3\n",
    "\n",
    "# Create a namedtuple called Point with and x and y attribute to represent points on a grid\n",
    "# Create a list with 100 random points with x values in 1,2,3 and y values in 1,2,3\n",
    "# Find the most common point in the list\n",
    "\n",
    "# Hint: use random.randint(1, 3)"
   ]
  },
  {
   "cell_type": "code",
   "execution_count": null,
   "id": "a40d2708-65b0-4ad6-a017-05440ea7a180",
   "metadata": {},
   "outputs": [],
   "source": [
    "ANSWER_3 = un_scramble(\n",
    "    b'ZnJvbSByYW5kb20gaW1wb3J0IHJhbmRpbnQKCiMgUG9pbnQgPSBuYW1lZHR1cGxlKCJQb2ludCIsICJ4IHkiKQoKY2xhc3'\n",
    "    b'MgUG9pbnQoTmFtZWRUdXBsZSk6CiAgICB4OiBpbnQKICAgIHk6IGludAogICAgCnBvaW50cyA9IFtQb2ludChyYW5kaW50'\n",
    "    b'KDEsIDMpLCByYW5kaW50KDEsIDMpKSBmb3IgXyBpbiByYW5nZSgxMDApXQoKbW9zdF9jb21tb24sIGNvdW50ID0gQ291bn'\n",
    "    b'Rlcihwb2ludHMpLm1vc3RfY29tbW9uKDEpWzBdCgpwcmludChmInttb3N0X2NvbW1vbn0gYXBwZWFycyB7Y291bnR9IHRpbWVzIik='\n",
    ")\n",
    "\n",
    "print(ANSWER_3)"
   ]
  },
  {
   "cell_type": "markdown",
   "id": "bdfc2911",
   "metadata": {},
   "source": [
    "## itertools"
   ]
  },
  {
   "cell_type": "markdown",
   "id": "8c985d19-c148-4288-9426-c4660a6275b3",
   "metadata": {},
   "source": [
    "This module implements a number of iterator building blocks!"
   ]
  },
  {
   "cell_type": "markdown",
   "id": "26e033a8-51ae-44a1-9067-ac9bfcc3b3c2",
   "metadata": {},
   "source": [
    "For more information see documentation: https://docs.python.org/3/library/itertools.html"
   ]
  },
  {
   "cell_type": "code",
   "execution_count": null,
   "id": "9c7c3c2a-28b5-45aa-b142-b629597ded5d",
   "metadata": {},
   "outputs": [],
   "source": [
    "import itertools"
   ]
  },
  {
   "cell_type": "code",
   "execution_count": null,
   "id": "d69c3343-0ee3-4990-a2f7-c40159855607",
   "metadata": {},
   "outputs": [],
   "source": [
    "student_data"
   ]
  },
  {
   "cell_type": "markdown",
   "id": "ff4f9178-b6a0-44f0-a389-e415ce6f1974",
   "metadata": {},
   "source": [
    "### Quick asside -> What is an iterable and what is an iterator and how a for loop works"
   ]
  },
  {
   "cell_type": "markdown",
   "id": "12f2978d-55cb-421d-b2d3-d2adf2a1191b",
   "metadata": {},
   "source": [
    "Iterators\n",
    "\n",
    "An iterator is an object that implements the iterator protocol. In other words, an iterator is an object that implements the following methods:\n",
    "\n",
    "`__iter__` returns the iterator object itself.\n",
    "\n",
    "`__next__` returns the next element.\n",
    "\n",
    "It means that you cannot use the iterator object again.\n",
    "\n",
    "Iterables\n",
    "\n",
    "An iterable is an object that you can iterate over.\n",
    "\n",
    "An object is iterable when it implements the `__iter__` method. And its `__iter__` method returns a new iterator."
   ]
  },
  {
   "cell_type": "code",
   "execution_count": null,
   "id": "af07265c-44d4-4157-8abd-1a808a69b92d",
   "metadata": {},
   "outputs": [],
   "source": [
    "# An iterator implements two very special functions \n",
    "# __iter__ -> Must return an iterable\n",
    "# __next__ -> Steps through the iterator"
   ]
  },
  {
   "cell_type": "code",
   "execution_count": null,
   "id": "38a5f152-fd3a-4b2c-95cd-c8fa16985c16",
   "metadata": {},
   "outputs": [],
   "source": [
    "student_data"
   ]
  },
  {
   "cell_type": "code",
   "execution_count": null,
   "id": "02af39b3-9d0a-46ee-b128-5f93bc738f9e",
   "metadata": {},
   "outputs": [],
   "source": [
    "student_data.__iter__"
   ]
  },
  {
   "cell_type": "code",
   "execution_count": null,
   "id": "da5a76cc-8f9f-423b-9ad2-0b922ad5e1ed",
   "metadata": {},
   "outputs": [],
   "source": [
    "# What is really going on in this for loop?\n",
    "for item in student_data:\n",
    "    print(item)"
   ]
  },
  {
   "cell_type": "code",
   "execution_count": null,
   "id": "6a92a36d-ea52-4025-8896-f238501fec15",
   "metadata": {},
   "outputs": [],
   "source": [
    "student_data"
   ]
  },
  {
   "cell_type": "code",
   "execution_count": null,
   "id": "c2ad34ff-de1e-49a2-bf53-ec40a4de8005",
   "metadata": {},
   "outputs": [],
   "source": [
    "student_data.__iter__()"
   ]
  },
  {
   "cell_type": "code",
   "execution_count": null,
   "id": "ef8a2972-11f0-43a0-b2e4-6f74cbb5f21e",
   "metadata": {},
   "outputs": [],
   "source": [
    "iter(student_data)"
   ]
  },
  {
   "cell_type": "code",
   "execution_count": null,
   "id": "25f52924-4fa5-415a-a070-5ccadbb75108",
   "metadata": {},
   "outputs": [],
   "source": [
    "student_data_iterator = iter(student_data)"
   ]
  },
  {
   "cell_type": "code",
   "execution_count": null,
   "id": "b9b99c1f-5974-445f-b9ae-9adbbe5dd70c",
   "metadata": {},
   "outputs": [],
   "source": [
    "student_data_iterator"
   ]
  },
  {
   "cell_type": "code",
   "execution_count": null,
   "id": "35063c4e-3b48-48d1-94cb-a1c3b2b03ed0",
   "metadata": {},
   "outputs": [],
   "source": [
    "student_data_iterator.__next__"
   ]
  },
  {
   "cell_type": "code",
   "execution_count": null,
   "id": "d131eac2-116f-41ef-9d29-77434e5da896",
   "metadata": {},
   "outputs": [],
   "source": [
    "# iterator.__next__() or next(iterator)"
   ]
  },
  {
   "cell_type": "code",
   "execution_count": null,
   "id": "9fd4d48e-ba65-4c6b-86ee-d56e744c854b",
   "metadata": {},
   "outputs": [],
   "source": [
    "next(student_data_iterator)"
   ]
  },
  {
   "cell_type": "code",
   "execution_count": null,
   "id": "0a965d26-1982-45f6-80d2-26f2b4cce2de",
   "metadata": {},
   "outputs": [],
   "source": [
    "next(student_data_iterator)"
   ]
  },
  {
   "cell_type": "code",
   "execution_count": null,
   "id": "965fa02e-116f-4e70-b3db-f10c88e0539c",
   "metadata": {},
   "outputs": [],
   "source": [
    "next(student_data_iterator)"
   ]
  },
  {
   "cell_type": "code",
   "execution_count": null,
   "id": "9012b9e2-b4f5-48d8-84ed-a058ce6c2512",
   "metadata": {},
   "outputs": [],
   "source": [
    "# This cell will error if uncommented.\n",
    "# next(student_data_iterator)"
   ]
  },
  {
   "cell_type": "code",
   "execution_count": null,
   "id": "26b002ba-8173-44e2-9638-61e37c27ab49",
   "metadata": {},
   "outputs": [],
   "source": [
    "# summary of for loop\n",
    "\n",
    "student_data_iterator = iter(student_data)\n",
    "\n",
    "while True:\n",
    "    try:\n",
    "        item = next(student_data_iterator)\n",
    "        # This is now the same as the for block\n",
    "        print(item)\n",
    "    except StopIteration:\n",
    "        break"
   ]
  },
  {
   "cell_type": "markdown",
   "id": "b25b5ab3-ab88-440b-95b7-f497c9145c2c",
   "metadata": {},
   "source": [
    "### Itertools fun 😃"
   ]
  },
  {
   "cell_type": "markdown",
   "id": "2189c2a6-46c7-4ebb-bfe6-357dfa6b2b90",
   "metadata": {},
   "source": [
    "### Chain"
   ]
  },
  {
   "cell_type": "code",
   "execution_count": null,
   "id": "5bce0ed7-7547-45c7-a313-5b108419a09b",
   "metadata": {},
   "outputs": [],
   "source": [
    "itertools.chain([1, 2, 3], [4, 5, 6], [7, 8, 9]) # note lazy!"
   ]
  },
  {
   "cell_type": "code",
   "execution_count": null,
   "id": "63692258-4e56-4443-a9f9-2ac566c22c72",
   "metadata": {},
   "outputs": [],
   "source": [
    "for city in itertools.chain([1, 2, 3], [4, 5, 6], [7, 8, 9]):\n",
    "    print(city)"
   ]
  },
  {
   "cell_type": "markdown",
   "id": "3c3828b6-20f3-4ea6-b52a-086b1dc2e69d",
   "metadata": {},
   "source": [
    "### Chain from iterable"
   ]
  },
  {
   "cell_type": "code",
   "execution_count": null,
   "id": "407b332f-bb19-43b1-9a73-e63f401c04b7",
   "metadata": {},
   "outputs": [],
   "source": [
    "# iterable of iterables.\n",
    "\n",
    "for city in itertools.chain.from_iterable([[1, 2, 3], [4, 5, 6], [7, 8, 9]]):\n",
    "    print(city)"
   ]
  },
  {
   "cell_type": "markdown",
   "id": "4e8844e4-1638-439d-bc69-5667a1be657a",
   "metadata": {},
   "source": [
    "### Count"
   ]
  },
  {
   "cell_type": "code",
   "execution_count": null,
   "id": "734af69a-c917-43b1-86ca-6ff2b0b5e5bc",
   "metadata": {},
   "outputs": [],
   "source": [
    "# Similar to range but when you don't know how many you want.\n",
    "# itertools.count(3) -> 3, 4, 5, 6, ..."
   ]
  },
  {
   "cell_type": "code",
   "execution_count": null,
   "id": "5f6c3b13-34ea-4377-bfad-3191cb8868bc",
   "metadata": {},
   "outputs": [],
   "source": [
    "for n in itertools.count(start=1, step=1):\n",
    "    print(f\"n={n}\")\n",
    "    if n == 5:\n",
    "        break"
   ]
  },
  {
   "cell_type": "code",
   "execution_count": null,
   "id": "ce75ad68-6698-46fd-baa4-b0e0260c432a",
   "metadata": {},
   "outputs": [],
   "source": [
    "# less code than this:\n",
    "n = 1\n",
    "while n < 6:\n",
    "    print(f\"n={n}\")\n",
    "    if n == 5:\n",
    "        break\n",
    "    n += 1"
   ]
  },
  {
   "cell_type": "markdown",
   "id": "7313473f-4c68-4502-9d70-81d09fca3c6a",
   "metadata": {},
   "source": [
    "### Combinations"
   ]
  },
  {
   "cell_type": "code",
   "execution_count": null,
   "id": "9bb54d67-403f-411d-afb6-1672976eba06",
   "metadata": {},
   "outputs": [],
   "source": [
    "list(itertools.combinations([1, 2, 3, 4], 2))"
   ]
  },
  {
   "cell_type": "code",
   "execution_count": null,
   "id": "62acfeda-2fc0-4751-ad90-6f55b44d53bd",
   "metadata": {},
   "outputs": [],
   "source": [
    "list(itertools.combinations_with_replacement([1, 2, 3, 4], 2))"
   ]
  },
  {
   "cell_type": "markdown",
   "id": "3b4feb43-4cc6-4802-a086-d5b6ee589f14",
   "metadata": {},
   "source": [
    "###  Cycle"
   ]
  },
  {
   "cell_type": "code",
   "execution_count": null,
   "id": "fec9437c-66be-401b-aca8-de69c3548a54",
   "metadata": {},
   "outputs": [],
   "source": [
    "# itertools.cycle(['A', 'B', 'C']) -> 'A', 'B', 'C', 'A', 'B', 'C', ..."
   ]
  },
  {
   "cell_type": "code",
   "execution_count": null,
   "id": "897163e3-a3aa-4496-aeec-13a34317fd2b",
   "metadata": {},
   "outputs": [],
   "source": [
    "import random"
   ]
  },
  {
   "cell_type": "code",
   "execution_count": null,
   "id": "9b6163fc-957a-4c14-9a46-d80d2bb1af49",
   "metadata": {},
   "outputs": [],
   "source": [
    "def player_move(player):\n",
    "    if random.randint(1, 4) == 1:\n",
    "        print(f\"Player {player} moved and won!\")\n",
    "        return True\n",
    "    else:\n",
    "        print(f\"Player {player} moved\")\n",
    "        return False"
   ]
  },
  {
   "cell_type": "code",
   "execution_count": null,
   "id": "8d41f4ac-3b59-472f-9729-cccd5bf12aa1",
   "metadata": {},
   "outputs": [],
   "source": [
    "for player in itertools.cycle([\"A\", \"B\"]):\n",
    "    if player_move(player):\n",
    "        break"
   ]
  },
  {
   "cell_type": "markdown",
   "id": "40b24b86-07d6-49db-a26e-e24f70c8a796",
   "metadata": {},
   "source": [
    "### Groupby"
   ]
  },
  {
   "cell_type": "code",
   "execution_count": null,
   "id": "a9ec4ede-21c7-455e-89ad-4cae11c39d21",
   "metadata": {},
   "outputs": [],
   "source": [
    "list(itertools.groupby('MISSISSIPPI'))"
   ]
  },
  {
   "cell_type": "code",
   "execution_count": null,
   "id": "500a9877-c56a-483e-b64b-408e7d66ce11",
   "metadata": {},
   "outputs": [],
   "source": [
    "for key, group in itertools.groupby('MISSISSIPPI'):\n",
    "    print(f'A group of {key} with {list(group)}')"
   ]
  },
  {
   "cell_type": "markdown",
   "id": "9a668c7e-bbf8-443c-a321-37da655e6aa9",
   "metadata": {},
   "source": [
    "### islice"
   ]
  },
  {
   "cell_type": "code",
   "execution_count": null,
   "id": "54bdccde-15ca-4d93-a0a0-520312a7f749",
   "metadata": {},
   "outputs": [],
   "source": [
    "list(itertools.islice([1, 2, 3, 4, 5], 1, None, 2))"
   ]
  },
  {
   "cell_type": "code",
   "execution_count": null,
   "id": "fe52435c-3afc-4b7e-a1b7-db9dca5d2a21",
   "metadata": {},
   "outputs": [],
   "source": [
    "long_list = list(range(1_000_000))"
   ]
  },
  {
   "cell_type": "code",
   "execution_count": null,
   "id": "345f51f0-5d65-476e-a344-5a97a898ca4d",
   "metadata": {},
   "outputs": [],
   "source": [
    "import sys\n",
    "\n",
    "def convert_bytes(size):\n",
    "    for x in ['bytes', 'KB', 'MB', 'GB', 'TB']:\n",
    "        if size < 1024.0:\n",
    "            return \"%3.1f %s\" % (size, x)\n",
    "        size /= 1024.0\n",
    "\n",
    "    return size"
   ]
  },
  {
   "cell_type": "code",
   "execution_count": null,
   "id": "14021e3b-1443-41d1-ad16-6310de41fc30",
   "metadata": {},
   "outputs": [],
   "source": [
    "convert_bytes(sys.getsizeof(long_list))"
   ]
  },
  {
   "cell_type": "code",
   "execution_count": null,
   "id": "d4c29648-5a07-427c-acbc-a1dc4c1cc687",
   "metadata": {},
   "outputs": [],
   "source": [
    "convert_bytes(sys.getsizeof(long_list[::2]))"
   ]
  },
  {
   "cell_type": "code",
   "execution_count": null,
   "id": "74149b33-6130-4271-ab38-4661a9c0f535",
   "metadata": {},
   "outputs": [],
   "source": [
    "# Doesn't create a new object in memory.\n",
    "convert_bytes(sys.getsizeof(itertools.islice(long_list, 1, None, 2)))"
   ]
  },
  {
   "cell_type": "markdown",
   "id": "88b1e706-894e-4119-8d8f-1f49002d6410",
   "metadata": {},
   "source": [
    "### Permutations"
   ]
  },
  {
   "cell_type": "code",
   "execution_count": null,
   "id": "3d3a27cf-a13a-4570-8763-2a176ee306d9",
   "metadata": {},
   "outputs": [],
   "source": [
    "# Order is important in permutations. Remember in permutations order matters\n",
    "list(itertools.permutations([1, 2, 3], r=2))"
   ]
  },
  {
   "cell_type": "markdown",
   "id": "3e61a3ad-5b7b-4695-9a6a-a4966fd30fbd",
   "metadata": {},
   "source": [
    "### product"
   ]
  },
  {
   "cell_type": "code",
   "execution_count": null,
   "id": "e11d8a6c-4ff4-47bc-bc91-778c4adf7b23",
   "metadata": {},
   "outputs": [],
   "source": [
    "list(itertools.product([1, 2, 3], [4, 5]))"
   ]
  },
  {
   "cell_type": "code",
   "execution_count": null,
   "id": "415c6957-f8b1-4057-8bfd-0ac1d2d6ae51",
   "metadata": {},
   "outputs": [],
   "source": [
    "# Can also use repeat arg which is useful.\n",
    "\n",
    "list(itertools.product([1, 2, 3], repeat=2))"
   ]
  },
  {
   "cell_type": "markdown",
   "id": "7a443af3-7286-4401-86aa-f34182f6a8b1",
   "metadata": {},
   "source": [
    "### Zip Longest"
   ]
  },
  {
   "cell_type": "code",
   "execution_count": null,
   "id": "742549ef-adde-4f17-abe4-970b70775874",
   "metadata": {},
   "outputs": [],
   "source": [
    "# Note we lost Brighton and Leeds.\n",
    "list(zip([1, 2], ['a', 'b', 'c']))"
   ]
  },
  {
   "cell_type": "code",
   "execution_count": null,
   "id": "b60e6130-289a-4372-8c1b-7cdcba232f75",
   "metadata": {},
   "outputs": [],
   "source": [
    "list(itertools.zip_longest([1, 2], ['a', 'b', 'c']))"
   ]
  },
  {
   "cell_type": "code",
   "execution_count": null,
   "id": "d89b6f55-2698-40be-bc27-d6d670d5d0ce",
   "metadata": {},
   "outputs": [],
   "source": [
    "# Also you might want an error (the below code will error if uncommented)\n",
    "\n",
    "# list(zip([1, 2], ['a', 'b', 'c'], strict=True))"
   ]
  },
  {
   "cell_type": "code",
   "execution_count": null,
   "id": "5b9c5c63-b28a-474b-85b5-013a8226e4e1",
   "metadata": {},
   "outputs": [],
   "source": [
    "# Challenge 4\n",
    "\n",
    "#  how many times does the each number appear in the multiples of 3 less than 1000?\n",
    "\n",
    "..."
   ]
  },
  {
   "cell_type": "code",
   "execution_count": null,
   "id": "6da251b1-6844-4665-bf72-db09ca42b0ff",
   "metadata": {},
   "outputs": [],
   "source": [
    "ANSWER_4 = un_scramble(\n",
    "    b'dGhyZWVfdGltZXNfdGFibGUgPSAoc3RyKG51bWJlcikgZm9yIG51bWJlciBpbiBpdGVydG9vbHMuaXNsaWNlKHJhbm'\n",
    "    b'dlKDEwMDApLCAzLCBOb25lLCAzKSkKQ291bnRlcihpdGVydG9vbHMuY2hhaW4uZnJvbV9pdGVyYWJsZSh0aHJlZV90aW1lc190YWJsZSkp'\n",
    ")\n",
    "\n",
    "print(ANSWER_4)"
   ]
  },
  {
   "cell_type": "markdown",
   "id": "4b36a345",
   "metadata": {},
   "source": [
    "## functools"
   ]
  },
  {
   "cell_type": "markdown",
   "id": "9668a792-1315-4959-bfc3-9ae8b0ec24ea",
   "metadata": {},
   "source": [
    "The functools module is for higher-order functions: functions that act on or return other functions. In general, any callable object can be treated as a function for the purposes of this module.\n",
    "\n",
    "For more information see the documentation: https://docs.python.org/3/library/functools.html"
   ]
  },
  {
   "cell_type": "code",
   "execution_count": null,
   "id": "9b5d49b2-a23e-4125-9ee3-d66baab9795f",
   "metadata": {},
   "outputs": [],
   "source": [
    "import functools"
   ]
  },
  {
   "cell_type": "markdown",
   "id": "69a5b937-f003-4975-8994-0742c2960a74",
   "metadata": {},
   "source": [
    "### lru_cache, cache"
   ]
  },
  {
   "cell_type": "markdown",
   "id": "e0ca97ef-d435-4ee0-9b3d-81ba2195c842",
   "metadata": {},
   "source": [
    "Last recent cache - is a decorator to wrap a function with a memoizing callable that saves up to the maxsize most recent calls."
   ]
  },
  {
   "cell_type": "code",
   "execution_count": null,
   "id": "ed5526d1-de0c-413d-93b4-4c577b1628ab",
   "metadata": {},
   "outputs": [],
   "source": [
    "def factorial(n):\n",
    "    return n * factorial(n-1) if n else 1"
   ]
  },
  {
   "cell_type": "code",
   "execution_count": null,
   "id": "427bc236-0bae-4779-ba60-965ace2144ec",
   "metadata": {},
   "outputs": [],
   "source": [
    "@functools.lru_cache(maxsize=None)\n",
    "def fast_factorial(n):\n",
    "    return n * factorial(n-1) if n else 1\n"
   ]
  },
  {
   "cell_type": "code",
   "execution_count": null,
   "id": "c58aeb16-5333-4d46-bb19-d100476040f9",
   "metadata": {},
   "outputs": [],
   "source": [
    "%timeit factorial(200)"
   ]
  },
  {
   "cell_type": "code",
   "execution_count": null,
   "id": "d6cbd83b-64f5-484d-87ea-6900e5ee7eb3",
   "metadata": {},
   "outputs": [],
   "source": [
    "%timeit fast_factorial(200)"
   ]
  },
  {
   "cell_type": "code",
   "execution_count": null,
   "id": "e29c952e-e11c-4881-b42d-c51c4658256c",
   "metadata": {},
   "outputs": [],
   "source": [
    "# Added in python 3.9 a simple cache - no maxsize!\n",
    "\n",
    "# @functools.cache\n",
    "# def fast_factorial(n):\n",
    "#     return n * factorial(n-1) if n else 1"
   ]
  },
  {
   "cell_type": "markdown",
   "id": "fef93f47-51c4-4bc7-aa9b-291ea109d5fe",
   "metadata": {},
   "source": [
    "### total ordering"
   ]
  },
  {
   "cell_type": "code",
   "execution_count": null,
   "id": "1c8eba40-82d3-436a-9bd2-5c68b2dc427e",
   "metadata": {},
   "outputs": [],
   "source": [
    "class Student:\n",
    "\n",
    "    def __init__(self, name:str, age:int,test_scores:List[int], on_vacation: bool=False):\n",
    "        self.name = name\n",
    "        self.age = age\n",
    "        self.test_scores = test_scores\n",
    "        self.on_vacation = on_vacation\n",
    "\n",
    "    def __repr__(self):\n",
    "        return f'Student(name={self.name})'\n",
    "\n",
    "    @property\n",
    "    def mean_test_score(self):\n",
    "        return sum(x for x in self.test_scores) / len(self.test_scores)"
   ]
  },
  {
   "cell_type": "code",
   "execution_count": null,
   "id": "b9c654bf-da28-4d3b-b816-58615a4c91d6",
   "metadata": {},
   "outputs": [],
   "source": [
    "john = Student(**student_data[0])\n",
    "newton = Student(**student_data[2])\n",
    "\n",
    "john, newton"
   ]
  },
  {
   "cell_type": "code",
   "execution_count": null,
   "id": "ad2a5cda-88c2-4b64-aa1e-be63a554f187",
   "metadata": {},
   "outputs": [],
   "source": [
    "# this code will error if uncommented\n",
    "\n",
    "# john < newton"
   ]
  },
  {
   "cell_type": "code",
   "execution_count": null,
   "id": "865dbe34-6bb2-4a23-9622-0b90f2fa38b2",
   "metadata": {},
   "outputs": [],
   "source": [
    "class Student:\n",
    "\n",
    "    def __init__(self, name:str, age:int,test_scores:List[int], on_vacation: bool=False):\n",
    "        self.name = name\n",
    "        self.age = age\n",
    "        self.test_scores = test_scores\n",
    "        self.on_vacation = on_vacation\n",
    "    \n",
    "    def __repr__(self):\n",
    "        return f'Student(name={self.name})'\n",
    "\n",
    "    @property\n",
    "    def mean_test_score(self):\n",
    "        return sum(x for x in self.test_scores) / len(self.test_scores)\n",
    "    \n",
    "    # add all these special methods.\n",
    "        \n",
    "    def __lt__(self, other: Student):\n",
    "        return self.mean_test_score < other.mean_test_score\n",
    "\n",
    "    def __le__(self, other: Student):\n",
    "        return self.mean_test_score <= other.mean_test_score\n",
    "    \n",
    "    def __gt__(self, other: Student):\n",
    "        return self.mean_test_score > other.mean_test_score\n",
    "\n",
    "    def __ge__(self, other: Student):\n",
    "        return self.mean_test_score >= other.mean_test_score\n",
    "\n",
    "    def __eq__(self, other: Student):\n",
    "        return self.mean_test_score == other.mean_test_score"
   ]
  },
  {
   "cell_type": "code",
   "execution_count": null,
   "id": "0e78889c-1ca6-4e99-92a7-8c2e723e891c",
   "metadata": {},
   "outputs": [],
   "source": [
    "john = Student(**student_data[0])\n",
    "newton = Student(**student_data[2])\n",
    "\n",
    "john, newton"
   ]
  },
  {
   "cell_type": "code",
   "execution_count": null,
   "id": "52d2d243-86b3-42c0-8e34-056407275759",
   "metadata": {},
   "outputs": [],
   "source": [
    "john > newton"
   ]
  },
  {
   "cell_type": "code",
   "execution_count": null,
   "id": "787a7640-c0f7-436b-b769-b2733e5f5794",
   "metadata": {},
   "outputs": [],
   "source": [
    "# Same as \n",
    "john.__gt__(newton)"
   ]
  },
  {
   "cell_type": "code",
   "execution_count": null,
   "id": "bda5b0b0-3cdb-4204-b191-18865be508d4",
   "metadata": {},
   "outputs": [],
   "source": [
    "@functools.total_ordering\n",
    "class Student:\n",
    "    \n",
    "    def __init__(self, name:str, age:int,test_scores:List[int], on_vacation: bool=False):\n",
    "        self.name = name\n",
    "        self.age = age\n",
    "        self.test_scores = test_scores\n",
    "        self.on_vacation = on_vacation\n",
    "    \n",
    "    def __repr__(self):\n",
    "        return f'Student(name={self.name})'\n",
    "\n",
    "    @property\n",
    "    def mean_test_score(self):\n",
    "        return sum(x for x in self.test_scores) / len(self.test_scores)\n",
    "    \n",
    "    # add all these special methods.\n",
    "        \n",
    "    def __lt__(self, other: Student):\n",
    "        return self.mean_test_score < other.mean_test_score\n",
    "\n",
    "    def __eq__(self, other: Student):\n",
    "        return self.mean_test_score == other.mean_test_score"
   ]
  },
  {
   "cell_type": "code",
   "execution_count": null,
   "id": "79873261-c0e4-4f00-9db4-1e2d7c77b4fa",
   "metadata": {},
   "outputs": [],
   "source": [
    "# Because Greater than is the same as not less than and not equal."
   ]
  },
  {
   "cell_type": "code",
   "execution_count": null,
   "id": "f630d7f0-e055-417c-b931-f94d92f1e8b5",
   "metadata": {},
   "outputs": [],
   "source": [
    "# Student.__gt__??"
   ]
  },
  {
   "cell_type": "markdown",
   "id": "84c64c51-0581-4f77-ba15-06cb67cf180d",
   "metadata": {},
   "source": [
    "### partial"
   ]
  },
  {
   "cell_type": "code",
   "execution_count": null,
   "id": "cfaa594f-dc0d-494b-bf59-76353ab3afd9",
   "metadata": {},
   "outputs": [],
   "source": [
    "def is_pass(student: Student, pass_mark = 60):\n",
    "    passed = student.mean_test_score > pass_mark\n",
    "    print((f'{student.name} has test score '\n",
    "          f\"{'above' if passed else 'below'} {pass_mark}\"))\n",
    "    return passed"
   ]
  },
  {
   "cell_type": "code",
   "execution_count": null,
   "id": "ca8630ec-412c-4ef2-a2f6-e4a3936a07c7",
   "metadata": {},
   "outputs": [],
   "source": [
    "is_pass(john)"
   ]
  },
  {
   "cell_type": "code",
   "execution_count": null,
   "id": "d1dfaf03-50e3-4cda-bf19-686f9a75940e",
   "metadata": {},
   "outputs": [],
   "source": [
    "is_pass(newton)"
   ]
  },
  {
   "cell_type": "code",
   "execution_count": null,
   "id": "c283c70d-57a0-4efa-b519-bbbcf7e6b585",
   "metadata": {},
   "outputs": [],
   "source": [
    "def is_top_set(student: Student):\n",
    "    return is_pass(student, 30)"
   ]
  },
  {
   "cell_type": "code",
   "execution_count": null,
   "id": "02c3cd2b-14d1-45f1-a6ae-e717d9e75e0e",
   "metadata": {},
   "outputs": [],
   "source": [
    "is_top_set(newton)"
   ]
  },
  {
   "cell_type": "code",
   "execution_count": null,
   "id": "300a14d3-c9a0-4493-bbe1-2d77857cb928",
   "metadata": {},
   "outputs": [],
   "source": [
    "is_top_set = functools.partial(is_pass, pass_mark=80)"
   ]
  },
  {
   "cell_type": "code",
   "execution_count": null,
   "id": "b69ff1b9-ff4a-43d3-89bf-6071c6b941fb",
   "metadata": {},
   "outputs": [],
   "source": [
    "is_top_set(newton)"
   ]
  },
  {
   "cell_type": "code",
   "execution_count": null,
   "id": "196a80d7-2424-4b9b-be8f-c4affd24f104",
   "metadata": {},
   "outputs": [],
   "source": [
    "# another example:"
   ]
  },
  {
   "cell_type": "code",
   "execution_count": null,
   "id": "defd08e7-ba86-4ac5-90bc-3a0a017f7231",
   "metadata": {},
   "outputs": [],
   "source": [
    "from statistics import median"
   ]
  },
  {
   "cell_type": "code",
   "execution_count": null,
   "id": "94767acc-ba33-4e57-a52a-004053983465",
   "metadata": {},
   "outputs": [],
   "source": [
    "min([(1, 2), (5, 1), (2, 3)])"
   ]
  },
  {
   "cell_type": "code",
   "execution_count": null,
   "id": "9cac0734-4d8b-4515-9383-ad8ee424d28d",
   "metadata": {},
   "outputs": [],
   "source": [
    "min([(1, 2), (5, 1), (2, 3)], key=lambda item: item[1])"
   ]
  },
  {
   "cell_type": "code",
   "execution_count": null,
   "id": "704a006e-f5f9-45f8-a7e1-c4da55448996",
   "metadata": {},
   "outputs": [],
   "source": [
    "min_student = functools.partial(min, key=lambda student : median(student.test_scores))"
   ]
  },
  {
   "cell_type": "code",
   "execution_count": null,
   "id": "1c71ceb9-6bce-4492-a7d3-7d7c8e707a89",
   "metadata": {},
   "outputs": [],
   "source": [
    "min_student(students)"
   ]
  },
  {
   "cell_type": "code",
   "execution_count": null,
   "id": "cc00b20e-406d-435d-8178-9a4fc29a0d86",
   "metadata": {},
   "outputs": [],
   "source": [
    "# Challenge 5\n",
    "\n",
    "# create a function called student_pairs to find all comninations of 2 students\n",
    "\n",
    "student_pairs = ..."
   ]
  },
  {
   "cell_type": "code",
   "execution_count": null,
   "id": "12d138c5-0b3a-4c90-a57d-795ccf64b2f8",
   "metadata": {},
   "outputs": [],
   "source": [
    "ANSWER_5 = un_scramble(\n",
    "    b'c3R1ZGVudF9wYWlycyA9IGZ1bmN0b29scy5wYXJ0aWFsKGl0ZXJ0b29scy5jb21iaW5hdGlvbnMsIHI9MikKCmZvciBzdHVkZW50X2EsIHN0dW'\n",
    "    b'RlbnRfYiBpbiBzdHVkZW50X3BhaXJzKHN0dWRlbnRzKToKICAgIHByaW50KChzdHVkZW50X2EubmFtZSwgc3R1ZGVudF9iLm5hbWUpKQ=='\n",
    ")\n",
    "\n",
    "print(ANSWER_5)"
   ]
  },
  {
   "cell_type": "markdown",
   "id": "e2a66ea9-79a0-4900-8d39-38498e0deb82",
   "metadata": {},
   "source": [
    "# Fin"
   ]
  }
 ],
 "metadata": {
  "interpreter": {
   "hash": "b460384b52104c1e5b9cf54bee46a255d22b2bef338f75ac4ad5d48196028d3c"
  },
  "kernelspec": {
   "display_name": "Python 3 (ipykernel)",
   "language": "python",
   "name": "python3"
  },
  "language_info": {
   "codemirror_mode": {
    "name": "ipython",
    "version": 3
   },
   "file_extension": ".py",
   "mimetype": "text/x-python",
   "name": "python",
   "nbconvert_exporter": "python",
   "pygments_lexer": "ipython3",
   "version": "3.10.4"
  },
  "toc": {
   "base_numbering": 1,
   "nav_menu": {},
   "number_sections": true,
   "sideBar": true,
   "skip_h1_title": false,
   "title_cell": "Table of Contents",
   "title_sidebar": "Contents",
   "toc_cell": false,
   "toc_position": {},
   "toc_section_display": true,
   "toc_window_display": false
  },
  "toc-autonumbering": false
 },
 "nbformat": 4,
 "nbformat_minor": 5
}
