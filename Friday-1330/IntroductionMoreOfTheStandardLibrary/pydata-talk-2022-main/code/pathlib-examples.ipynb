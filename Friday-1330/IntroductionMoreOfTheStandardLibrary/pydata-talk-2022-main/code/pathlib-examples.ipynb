{
 "cells": [
  {
   "cell_type": "markdown",
   "id": "0fdfbafe",
   "metadata": {},
   "source": [
    "# pathlib"
   ]
  },
  {
   "cell_type": "markdown",
   "id": "23aa8be5",
   "metadata": {},
   "source": [
    "This module offers classes representing filesystem paths (with semantics appropriate for different operating systems.)\n",
    "\n",
    "No - need to install, as of python 3.4 it's standard lib.\n",
    "\n",
    "For more information see documentation: https://docs.python.org/3/library/pathlib.html"
   ]
  },
  {
   "cell_type": "code",
   "execution_count": null,
   "id": "86b76ba1",
   "metadata": {},
   "outputs": [],
   "source": [
    "from pathlib import Path"
   ]
  },
  {
   "cell_type": "markdown",
   "id": "d07968e3-4f22-469c-9b2b-b5f8ae3c9641",
   "metadata": {},
   "source": [
    "### Introducing the Path class"
   ]
  },
  {
   "cell_type": "code",
   "execution_count": null,
   "id": "5da70db3-17b0-4aa1-bfd6-476b75b2664a",
   "metadata": {},
   "outputs": [],
   "source": [
    "from pathlib import Path"
   ]
  },
  {
   "cell_type": "code",
   "execution_count": null,
   "id": "1adc0f30-ed75-434b-b36a-e9ef1f28004b",
   "metadata": {},
   "outputs": [],
   "source": [
    "cwd_path = Path('.')"
   ]
  },
  {
   "cell_type": "code",
   "execution_count": null,
   "id": "eae93871-42c3-410b-9d66-1ec36602e767",
   "metadata": {},
   "outputs": [],
   "source": [
    "cwd_path"
   ]
  },
  {
   "cell_type": "code",
   "execution_count": null,
   "id": "9c23b01e-b11a-49a2-a88d-1822529359ad",
   "metadata": {},
   "outputs": [],
   "source": [
    "cwd_path.absolute()"
   ]
  },
  {
   "cell_type": "code",
   "execution_count": null,
   "id": "ca66bc71-39e5-42b1-9fe9-d3cf0aeed2d2",
   "metadata": {},
   "outputs": [],
   "source": [
    "Path.cwd()"
   ]
  },
  {
   "cell_type": "markdown",
   "id": "28be937a-4066-4bff-9ee9-6714166590a9",
   "metadata": {},
   "source": [
    "### Building paths"
   ]
  },
  {
   "cell_type": "code",
   "execution_count": null,
   "id": "b5a6a25f-848f-4469-9997-720bad4fb2ce",
   "metadata": {},
   "outputs": [],
   "source": [
    "student_folder = cwd_path.joinpath('data').joinpath('student-data')\n",
    "student_folder"
   ]
  },
  {
   "cell_type": "code",
   "execution_count": null,
   "id": "68c968b2-ace4-4187-ac99-5fc72623b917",
   "metadata": {},
   "outputs": [],
   "source": [
    "# Same again using / operator\n",
    "student_folder = cwd_path / 'data' / 'student-data'\n",
    "student_folder"
   ]
  },
  {
   "cell_type": "code",
   "execution_count": null,
   "id": "6908ba3d-47cd-4b40-9e0c-bacbab4192c0",
   "metadata": {},
   "outputs": [],
   "source": [
    "# Same again using string\n",
    "student_folder = Path('./data/student-data')\n",
    "student_folder"
   ]
  },
  {
   "cell_type": "code",
   "execution_count": null,
   "id": "56fc5a90-4201-4312-b33d-201fc8f73a83",
   "metadata": {},
   "outputs": [],
   "source": [
    "student_data_path = student_folder / 'data.json'"
   ]
  },
  {
   "cell_type": "markdown",
   "id": "bd54e10f-ab55-4aed-9d74-4b95149c7d95",
   "metadata": {},
   "source": [
    "### File parts and parents"
   ]
  },
  {
   "cell_type": "code",
   "execution_count": null,
   "id": "5dc75c22-6b83-4cde-970b-91f1f217c140",
   "metadata": {},
   "outputs": [],
   "source": [
    "student_data_path"
   ]
  },
  {
   "cell_type": "code",
   "execution_count": null,
   "id": "c5154c4f-846e-4a24-9d42-36e83b8e1baf",
   "metadata": {},
   "outputs": [],
   "source": [
    "student_data_path.name, student_data_path.stem, student_data_path.suffix"
   ]
  },
  {
   "cell_type": "code",
   "execution_count": null,
   "id": "edda9769-cb31-47c9-9a7a-122dcc82eb0b",
   "metadata": {},
   "outputs": [],
   "source": [
    "student_data_path.parts"
   ]
  },
  {
   "cell_type": "code",
   "execution_count": null,
   "id": "e49940ac-f0d3-4e34-a13d-01501bb7eb42",
   "metadata": {},
   "outputs": [],
   "source": [
    "print(student_data_path)"
   ]
  },
  {
   "cell_type": "code",
   "execution_count": null,
   "id": "397d268a-0936-4c81-a2eb-1987e73484aa",
   "metadata": {},
   "outputs": [],
   "source": [
    "print(student_data_path.absolute())"
   ]
  },
  {
   "cell_type": "code",
   "execution_count": null,
   "id": "0553ee75-61cb-471e-a2de-bcb93d403e83",
   "metadata": {},
   "outputs": [],
   "source": [
    "student_data_path.parent"
   ]
  },
  {
   "cell_type": "code",
   "execution_count": null,
   "id": "218684d9-511b-4789-b411-38b3fd4858ab",
   "metadata": {},
   "outputs": [],
   "source": [
    "# As the parent returns a Path instance\n",
    "# we can call parent on that too\n",
    "\n",
    "student_data_path.parent.parent"
   ]
  },
  {
   "cell_type": "markdown",
   "id": "72c6145e-021b-4ea7-b207-5c730b5502c3",
   "metadata": {},
   "source": [
    "### Changing the name,  stem or file extension"
   ]
  },
  {
   "cell_type": "code",
   "execution_count": null,
   "id": "d8428270-d092-4273-9a4d-1c7e10b21117",
   "metadata": {},
   "outputs": [],
   "source": [
    "student_data_path"
   ]
  },
  {
   "cell_type": "code",
   "execution_count": null,
   "id": "d6a1fe81-d17c-4e96-b102-669861fc2d10",
   "metadata": {},
   "outputs": [],
   "source": [
    "# replaces .jpeg with .py\n",
    "student_data_path.with_suffix('.py')"
   ]
  },
  {
   "cell_type": "code",
   "execution_count": null,
   "id": "aff10b47-142d-4040-8b66-e7b5c8d34edb",
   "metadata": {},
   "outputs": [],
   "source": [
    "# replaces data.jpeg with student_data.txt\n",
    "student_data_path.with_name('student_data.txt')"
   ]
  },
  {
   "cell_type": "code",
   "execution_count": null,
   "id": "b9ee6070-e5a1-41b9-b6d9-3d7086733d84",
   "metadata": {},
   "outputs": [],
   "source": [
    "# Similar to .parent, as the above methods return a Path instance\n",
    "# we can chain calls:\n",
    "\n",
    "\n",
    "student_data_path.with_name('numbers').with_suffix('.xslx')"
   ]
  },
  {
   "cell_type": "code",
   "execution_count": null,
   "id": "e0b7b218-c737-4745-aeaf-a1c78751396b",
   "metadata": {},
   "outputs": [],
   "source": [
    "# Note we haven't actually changed the file here. We have just changed the name of our path object\n",
    "# We will see how to use Path instances to interact with the file system now."
   ]
  },
  {
   "cell_type": "markdown",
   "id": "b6c9567f-3f4c-4727-873f-9e5ec4fc25c5",
   "metadata": {},
   "source": [
    "### Interacting with the files, reading, writing and renaming"
   ]
  },
  {
   "cell_type": "code",
   "execution_count": null,
   "id": "7b536214-0af5-456f-81b0-13bc149ae6f0",
   "metadata": {},
   "outputs": [],
   "source": [
    "student_data_path.exists()"
   ]
  },
  {
   "cell_type": "code",
   "execution_count": null,
   "id": "23fce6db-5685-4274-a51c-538efbf9f246",
   "metadata": {},
   "outputs": [],
   "source": [
    "# is_file checks if the path exists and is a file\n",
    "# is_dir checks if the path exists and is a directory\n",
    "student_data_path.is_file(), student_data_path.is_dir()"
   ]
  },
  {
   "cell_type": "code",
   "execution_count": null,
   "id": "63547b36-8830-41b9-b1f2-e205ea156eab",
   "metadata": {},
   "outputs": [],
   "source": [
    "# Note this is path represents a folder called data and a sub folder called student-data\n",
    "\n",
    "student_data_folder = student_data_path.parent\n",
    "student_data_folder"
   ]
  },
  {
   "cell_type": "code",
   "execution_count": null,
   "id": "a0c84816-c633-4572-850d-3d99408faa90",
   "metadata": {},
   "outputs": [],
   "source": [
    "student_data_folder.exists()"
   ]
  },
  {
   "cell_type": "code",
   "execution_count": null,
   "id": "d31d3c66-4ebe-45c1-b33b-f2b17f7762cc",
   "metadata": {},
   "outputs": [],
   "source": [
    "# When we run this cell it will error\n",
    "\n",
    "# student_data_folder.mkdir() "
   ]
  },
  {
   "cell_type": "code",
   "execution_count": null,
   "id": "d34351ce-4240-4ee5-9de6-f064f49eae56",
   "metadata": {},
   "outputs": [],
   "source": [
    "# Adding parents = True means the mkdir call will make parents if they are not there\n",
    "# Adding exists_ok = True means the mkdir call will not fail if the folder already exists\n",
    "student_data_folder.mkdir(parents=True, exist_ok=True)"
   ]
  },
  {
   "cell_type": "code",
   "execution_count": null,
   "id": "f0792417-d786-49e4-9120-3ac527657037",
   "metadata": {},
   "outputs": [],
   "source": [
    "student_data_folder.exists()"
   ]
  },
  {
   "cell_type": "code",
   "execution_count": null,
   "id": "1b11ab53-ccff-49b9-9c59-34b79eed5aad",
   "metadata": {},
   "outputs": [],
   "source": [
    "student_data_path.exists()"
   ]
  },
  {
   "cell_type": "code",
   "execution_count": null,
   "id": "58469152-c49b-463a-9969-51d85d026f1b",
   "metadata": {},
   "outputs": [],
   "source": [
    "student_data = [\n",
    "    {\n",
    "        \"name\": \"John Smith\",\n",
    "        \"age\": 10,\n",
    "        \"on_vacation\": False,\n",
    "        \"test_scores\": [66, 85, 39, 61, 16, 92, 33, 3, 87, 71],\n",
    "    },\n",
    "    {\n",
    "        \"name\": \"Jane Doe\",\n",
    "        \"age\": 10,\n",
    "        \"on_vacation\": False,\n",
    "        \"test_scores\": [4, 73, 75, 4, 50, 83, 8, 23, 42, 23],\n",
    "    },\n",
    "    {\n",
    "        \"name\": \"Isaac Newton\",\n",
    "        \"age\": 30,\n",
    "        \"on_vacation\": True,\n",
    "        \"test_scores\": [93, 96, 94, 92, 95, 90, 100, 98, 90, 94],\n",
    "    },\n",
    "]"
   ]
  },
  {
   "cell_type": "code",
   "execution_count": null,
   "id": "5c91e039-4da0-4bd5-998d-7edfc2c96d3f",
   "metadata": {},
   "outputs": [],
   "source": [
    "import json # to convert dict to json string\n",
    "\n",
    "student_data_path.write_text(json.dumps(student_data, indent=4))"
   ]
  },
  {
   "cell_type": "code",
   "execution_count": null,
   "id": "162e9351-d586-46d6-b437-050d17f85a50",
   "metadata": {},
   "outputs": [],
   "source": [
    "# print(student_data_path.read_text())"
   ]
  },
  {
   "cell_type": "markdown",
   "id": "0effd890-b64b-439a-92df-b74107579927",
   "metadata": {},
   "source": [
    "### Renaming a file"
   ]
  },
  {
   "cell_type": "code",
   "execution_count": null,
   "id": "e9d2b2ef-2237-4a3e-91fb-deb7cae48c53",
   "metadata": {},
   "outputs": [],
   "source": [
    "moved_file_location = student_data_path.parent.parent / 'new_location.txt'"
   ]
  },
  {
   "cell_type": "code",
   "execution_count": null,
   "id": "96a9143c-86fc-4d08-bbfd-59dfa88d9186",
   "metadata": {},
   "outputs": [],
   "source": [
    "# the new location where we want to move our file\n",
    "moved_file_location"
   ]
  },
  {
   "cell_type": "code",
   "execution_count": null,
   "id": "5cc987e6-cd33-4049-a9ed-97bc22f9c136",
   "metadata": {},
   "outputs": [],
   "source": [
    "if not moved_file_location.exists():\n",
    "    student_data_path.rename(moved_file_location)\n",
    "    \n",
    "# NO WARNING if overwriting so be careful!"
   ]
  },
  {
   "cell_type": "code",
   "execution_count": null,
   "id": "9d55b7c3-03fb-43d5-bc64-24b8c3697940",
   "metadata": {},
   "outputs": [],
   "source": [
    "moved_file_location.exists()"
   ]
  },
  {
   "cell_type": "markdown",
   "id": "6bc658b4-6ba3-43f0-a8cd-19982a74e97e",
   "metadata": {},
   "source": [
    "### Deleting dirs and files"
   ]
  },
  {
   "cell_type": "code",
   "execution_count": null,
   "id": "f09a1fe2-05cc-47c2-af8d-6a92e984ff10",
   "metadata": {},
   "outputs": [],
   "source": [
    "# unlink - deletes a file. The missing_ok ensures no error if the file doesn't exist\n",
    "\n",
    "if student_data_path.exists():\n",
    "    student_data_path.unlink()\n",
    "if moved_file_location.exists():\n",
    "    moved_file_location.unlink()"
   ]
  },
  {
   "cell_type": "code",
   "execution_count": null,
   "id": "a7230884-d853-4e61-9ddb-8954d2970483",
   "metadata": {},
   "outputs": [],
   "source": [
    "# Remove an empty directory\n",
    "if student_data_folder.is_dir():\n",
    "    student_data_folder.rmdir()\n",
    "if student_data_folder.parent.is_dir():\n",
    "    student_data_folder.parent.rmdir()"
   ]
  },
  {
   "cell_type": "code",
   "execution_count": null,
   "id": "89a6c00d-63f6-4742-8988-4ff2f41e0d78",
   "metadata": {},
   "outputs": [],
   "source": [
    "# Redo these to use data Data.\n",
    "\n",
    "student_data_folder.mkdir(parents=True, exist_ok=True)\n",
    "student_data_path.write_text(json.dumps(student_data, indent=4))"
   ]
  },
  {
   "cell_type": "markdown",
   "id": "6af06c75",
   "metadata": {},
   "source": [
    "### Iterating on a dir."
   ]
  },
  {
   "cell_type": "code",
   "execution_count": null,
   "id": "adf29e10",
   "metadata": {},
   "outputs": [],
   "source": [
    "list_directory = [path for path in cwd_path.iterdir()]"
   ]
  },
  {
   "cell_type": "code",
   "execution_count": null,
   "id": "c8815310",
   "metadata": {},
   "outputs": [],
   "source": [
    "list_directory"
   ]
  },
  {
   "cell_type": "code",
   "execution_count": null,
   "id": "a8913f9e",
   "metadata": {},
   "outputs": [],
   "source": [
    "[path for path in cwd_path.glob('*.ipynb')]"
   ]
  },
  {
   "cell_type": "code",
   "execution_count": null,
   "id": "ea12bdb8",
   "metadata": {},
   "outputs": [],
   "source": [
    "[path for path in cwd_path.glob('*.jpeg')]"
   ]
  },
  {
   "cell_type": "code",
   "execution_count": null,
   "id": "4a3781e7",
   "metadata": {},
   "outputs": [],
   "source": [
    "# We can do recursive matching using double **\n",
    "[path for path in cwd_path.glob('**/*.jpeg')]"
   ]
  },
  {
   "cell_type": "code",
   "execution_count": null,
   "id": "4e7e4d68",
   "metadata": {},
   "outputs": [],
   "source": [
    "# Or by using the recursive glob matching\n",
    "[path for path in cwd_path.rglob('*.jpeg')]"
   ]
  },
  {
   "cell_type": "markdown",
   "id": "6578c9c0",
   "metadata": {},
   "source": [
    "# Fin."
   ]
  }
 ],
 "metadata": {
  "kernelspec": {
   "display_name": "Python 3 (ipykernel)",
   "language": "python",
   "name": "python3"
  },
  "language_info": {
   "codemirror_mode": {
    "name": "ipython",
    "version": 3
   },
   "file_extension": ".py",
   "mimetype": "text/x-python",
   "name": "python",
   "nbconvert_exporter": "python",
   "pygments_lexer": "ipython3",
   "version": "3.10.2"
  },
  "toc": {
   "base_numbering": 1,
   "nav_menu": {},
   "number_sections": true,
   "sideBar": true,
   "skip_h1_title": false,
   "title_cell": "Table of Contents",
   "title_sidebar": "Contents",
   "toc_cell": false,
   "toc_position": {
    "height": "calc(100% - 180px)",
    "left": "10px",
    "top": "150px",
    "width": "357.457px"
   },
   "toc_section_display": true,
   "toc_window_display": false
  }
 },
 "nbformat": 4,
 "nbformat_minor": 5
}
